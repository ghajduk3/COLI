{
  "nbformat": 4,
  "nbformat_minor": 0,
  "metadata": {
    "colab": {
      "name": "bert-notebook.ipynb",
      "provenance": [],
      "collapsed_sections": [],
      "toc_visible": true
    },
    "kernelspec": {
      "name": "python3",
      "display_name": "Python 3"
    },
    "language_info": {
      "name": "python"
    },
    "accelerator": "GPU"
  },
  "cells": [
    {
      "cell_type": "markdown",
      "metadata": {
        "id": "kDMqDAAAmiLD"
      },
      "source": [
        "**I/O device register**"
      ]
    },
    {
      "cell_type": "code",
      "metadata": {
        "colab": {
          "base_uri": "https://localhost:8080/"
        },
        "id": "U2q6Ix5Fl2s3",
        "outputId": "e6191242-6647-4a66-9184-ee04ceabe8a6"
      },
      "source": [
        "from google.colab import drive\n",
        "drive.mount('/content/drive')"
      ],
      "execution_count": 1,
      "outputs": [
        {
          "output_type": "stream",
          "text": [
            "Mounted at /content/drive\n"
          ],
          "name": "stdout"
        }
      ]
    },
    {
      "cell_type": "markdown",
      "metadata": {
        "id": "Ek7kHsU3nTBN"
      },
      "source": [
        "**Install required libraries**"
      ]
    },
    {
      "cell_type": "code",
      "metadata": {
        "colab": {
          "base_uri": "https://localhost:8080/"
        },
        "id": "1yKQ4IG6nXJT",
        "outputId": "7716d0d3-9a76-495f-e997-9aceaa58d1fe"
      },
      "source": [
        "!pip3 install transformers pandas nltk spacy classla"
      ],
      "execution_count": 24,
      "outputs": [
        {
          "output_type": "stream",
          "text": [
            "Requirement already satisfied: transformers in /usr/local/lib/python3.7/dist-packages (4.5.1)\n",
            "Requirement already satisfied: pandas in /usr/local/lib/python3.7/dist-packages (1.1.5)\n",
            "Requirement already satisfied: nltk in /usr/local/lib/python3.7/dist-packages (3.2.5)\n",
            "Requirement already satisfied: spacy in /usr/local/lib/python3.7/dist-packages (2.2.4)\n",
            "Collecting classla\n",
            "\u001b[?25l  Downloading https://files.pythonhosted.org/packages/59/be/d631a7bb19101c87d608426e50624add2370cc7fe19c6775a9ad4d39f280/classla-1.0.1-py3-none-any.whl (259kB)\n",
            "\u001b[K     |████████████████████████████████| 266kB 14.7MB/s \n",
            "\u001b[?25hRequirement already satisfied: requests in /usr/local/lib/python3.7/dist-packages (from transformers) (2.23.0)\n",
            "Requirement already satisfied: sacremoses in /usr/local/lib/python3.7/dist-packages (from transformers) (0.0.45)\n",
            "Requirement already satisfied: filelock in /usr/local/lib/python3.7/dist-packages (from transformers) (3.0.12)\n",
            "Requirement already satisfied: tokenizers<0.11,>=0.10.1 in /usr/local/lib/python3.7/dist-packages (from transformers) (0.10.2)\n",
            "Requirement already satisfied: numpy>=1.17 in /usr/local/lib/python3.7/dist-packages (from transformers) (1.19.5)\n",
            "Requirement already satisfied: regex!=2019.12.17 in /usr/local/lib/python3.7/dist-packages (from transformers) (2019.12.20)\n",
            "Requirement already satisfied: importlib-metadata; python_version < \"3.8\" in /usr/local/lib/python3.7/dist-packages (from transformers) (3.10.1)\n",
            "Requirement already satisfied: packaging in /usr/local/lib/python3.7/dist-packages (from transformers) (20.9)\n",
            "Requirement already satisfied: tqdm>=4.27 in /usr/local/lib/python3.7/dist-packages (from transformers) (4.41.1)\n",
            "Requirement already satisfied: python-dateutil>=2.7.3 in /usr/local/lib/python3.7/dist-packages (from pandas) (2.8.1)\n",
            "Requirement already satisfied: pytz>=2017.2 in /usr/local/lib/python3.7/dist-packages (from pandas) (2018.9)\n",
            "Requirement already satisfied: six in /usr/local/lib/python3.7/dist-packages (from nltk) (1.15.0)\n",
            "Requirement already satisfied: wasabi<1.1.0,>=0.4.0 in /usr/local/lib/python3.7/dist-packages (from spacy) (0.8.2)\n",
            "Requirement already satisfied: murmurhash<1.1.0,>=0.28.0 in /usr/local/lib/python3.7/dist-packages (from spacy) (1.0.5)\n",
            "Requirement already satisfied: srsly<1.1.0,>=1.0.2 in /usr/local/lib/python3.7/dist-packages (from spacy) (1.0.5)\n",
            "Requirement already satisfied: preshed<3.1.0,>=3.0.2 in /usr/local/lib/python3.7/dist-packages (from spacy) (3.0.5)\n",
            "Requirement already satisfied: catalogue<1.1.0,>=0.0.7 in /usr/local/lib/python3.7/dist-packages (from spacy) (1.0.0)\n",
            "Requirement already satisfied: plac<1.2.0,>=0.9.6 in /usr/local/lib/python3.7/dist-packages (from spacy) (1.1.3)\n",
            "Requirement already satisfied: thinc==7.4.0 in /usr/local/lib/python3.7/dist-packages (from spacy) (7.4.0)\n",
            "Requirement already satisfied: blis<0.5.0,>=0.4.0 in /usr/local/lib/python3.7/dist-packages (from spacy) (0.4.1)\n",
            "Requirement already satisfied: setuptools in /usr/local/lib/python3.7/dist-packages (from spacy) (56.0.0)\n",
            "Requirement already satisfied: cymem<2.1.0,>=2.0.2 in /usr/local/lib/python3.7/dist-packages (from spacy) (2.0.5)\n",
            "Requirement already satisfied: protobuf in /usr/local/lib/python3.7/dist-packages (from classla) (3.12.4)\n",
            "Requirement already satisfied: torch>=1.3.0 in /usr/local/lib/python3.7/dist-packages (from classla) (1.8.0+cu111)\n",
            "Collecting obeliks\n",
            "  Downloading https://files.pythonhosted.org/packages/4a/80/938665c333d3f4903e2ddde4b55f1fba8b659d2e175732bfb4c76415d757/obeliks-1.0.4.tar.gz\n",
            "Requirement already satisfied: idna<3,>=2.5 in /usr/local/lib/python3.7/dist-packages (from requests->transformers) (2.10)\n",
            "Requirement already satisfied: certifi>=2017.4.17 in /usr/local/lib/python3.7/dist-packages (from requests->transformers) (2020.12.5)\n",
            "Requirement already satisfied: urllib3!=1.25.0,!=1.25.1,<1.26,>=1.21.1 in /usr/local/lib/python3.7/dist-packages (from requests->transformers) (1.24.3)\n",
            "Requirement already satisfied: chardet<4,>=3.0.2 in /usr/local/lib/python3.7/dist-packages (from requests->transformers) (3.0.4)\n",
            "Requirement already satisfied: joblib in /usr/local/lib/python3.7/dist-packages (from sacremoses->transformers) (1.0.1)\n",
            "Requirement already satisfied: click in /usr/local/lib/python3.7/dist-packages (from sacremoses->transformers) (7.1.2)\n",
            "Requirement already satisfied: zipp>=0.5 in /usr/local/lib/python3.7/dist-packages (from importlib-metadata; python_version < \"3.8\"->transformers) (3.4.1)\n",
            "Requirement already satisfied: typing-extensions>=3.6.4; python_version < \"3.8\" in /usr/local/lib/python3.7/dist-packages (from importlib-metadata; python_version < \"3.8\"->transformers) (3.7.4.3)\n",
            "Requirement already satisfied: pyparsing>=2.0.2 in /usr/local/lib/python3.7/dist-packages (from packaging->transformers) (2.4.7)\n",
            "Requirement already satisfied: lxml in /usr/local/lib/python3.7/dist-packages (from obeliks->classla) (4.2.6)\n",
            "Building wheels for collected packages: obeliks\n",
            "  Building wheel for obeliks (setup.py) ... \u001b[?25l\u001b[?25hdone\n",
            "  Created wheel for obeliks: filename=obeliks-1.0.4-cp37-none-any.whl size=14931 sha256=e5441acbc372cd5f0360bb22795b42e3e57ada75efb865d499154c76cef08239\n",
            "  Stored in directory: /root/.cache/pip/wheels/da/42/8a/37d003a1d0613c2388b02bebc4b40c577320a1397e0ae9a7bc\n",
            "Successfully built obeliks\n",
            "Installing collected packages: obeliks, classla\n",
            "Successfully installed classla-1.0.1 obeliks-1.0.4\n"
          ],
          "name": "stdout"
        }
      ]
    },
    {
      "cell_type": "code",
      "metadata": {
        "colab": {
          "base_uri": "https://localhost:8080/"
        },
        "id": "xN64HZQ1nqfG",
        "outputId": "c84e7147-d30c-4db3-8553-1f79aaa36153"
      },
      "source": [
        "!pip install torch==1.8.0+cu111 torchvision==0.9.0+cu111 torchaudio==0.8.0 -f https://download.pytorch.org/whl/torch_stable.html \n"
      ],
      "execution_count": 25,
      "outputs": [
        {
          "output_type": "stream",
          "text": [
            "Looking in links: https://download.pytorch.org/whl/torch_stable.html\n",
            "Requirement already satisfied: torch==1.8.0+cu111 in /usr/local/lib/python3.7/dist-packages (1.8.0+cu111)\n",
            "Requirement already satisfied: torchvision==0.9.0+cu111 in /usr/local/lib/python3.7/dist-packages (0.9.0+cu111)\n",
            "Requirement already satisfied: torchaudio==0.8.0 in /usr/local/lib/python3.7/dist-packages (0.8.0)\n",
            "Requirement already satisfied: typing-extensions in /usr/local/lib/python3.7/dist-packages (from torch==1.8.0+cu111) (3.7.4.3)\n",
            "Requirement already satisfied: numpy in /usr/local/lib/python3.7/dist-packages (from torch==1.8.0+cu111) (1.19.5)\n",
            "Requirement already satisfied: pillow>=4.1.1 in /usr/local/lib/python3.7/dist-packages (from torchvision==0.9.0+cu111) (7.1.2)\n"
          ],
          "name": "stdout"
        }
      ]
    },
    {
      "cell_type": "markdown",
      "metadata": {
        "id": "f1d1mY1A_i-3"
      },
      "source": [
        "# Random seed"
      ]
    },
    {
      "cell_type": "code",
      "metadata": {
        "id": "BsKRLWda4Vzr"
      },
      "source": [
        "import random\n",
        "import numpy as np\n",
        "import torch\n",
        "\n",
        "seed_val = 2021\n",
        "\n",
        "random.seed(seed_val)\n",
        "np.random.seed(seed_val)\n",
        "torch.manual_seed(seed_val)\n",
        "torch.cuda.manual_seed_all(seed_val)"
      ],
      "execution_count": 52,
      "outputs": []
    },
    {
      "cell_type": "markdown",
      "metadata": {
        "id": "9Gi3WN8PCvwO"
      },
      "source": [
        "# BERT "
      ]
    },
    {
      "cell_type": "code",
      "metadata": {
        "id": "5ncO0nQDosXU"
      },
      "source": [
        "from transformers import BertTokenizer, BertForSequenceClassification, AdamW, get_linear_schedule_with_warmup\n",
        "import pandas as pd\n",
        "from torch.utils.data import TensorDataset, random_split, DataLoader, RandomSampler, SequentialSampler\n",
        "import time\n",
        "import datetime"
      ],
      "execution_count": 4,
      "outputs": []
    },
    {
      "cell_type": "code",
      "metadata": {
        "id": "-gZZzKq7owzA"
      },
      "source": [
        "def setup_classifier(\n",
        "    model_name: str,\n",
        "    num_labels: int) -> BertForSequenceClassification:\n",
        "\n",
        "    model = BertForSequenceClassification.from_pretrained(\n",
        "        model_name,\n",
        "        num_labels = num_labels,\n",
        "        output_attentions = False,\n",
        "        output_hidden_states = False,\n",
        "    )\n",
        "    \n",
        "    return model"
      ],
      "execution_count": 5,
      "outputs": []
    },
    {
      "cell_type": "code",
      "metadata": {
        "id": "9g4etr1so1f3"
      },
      "source": [
        "def setup_data(\n",
        "    model_name: str,\n",
        "    x: pd.DataFrame, \n",
        "    y: pd.DataFrame,\n",
        "    do_lower_case: bool,\n",
        "    max_length: int) -> TensorDataset:\n",
        "\n",
        "    tokenizer = BertTokenizer.from_pretrained(model_name, do_lower_case = do_lower_case)\n",
        "\n",
        "    input_ids = []\n",
        "    attention_masks = []\n",
        "\n",
        "    for text in x:\n",
        "        encoded_dict = tokenizer.encode_plus(\n",
        "            text,\n",
        "            add_special_tokens = True,\n",
        "            max_length = max_length,\n",
        "            padding='max_length',\n",
        "            return_attention_mask = True,\n",
        "            return_tensors = 'pt',\n",
        "            truncation = True\n",
        "        )\n",
        "\n",
        "        input_ids.append(encoded_dict['input_ids'])\n",
        "        attention_masks.append(encoded_dict['attention_mask'])\n",
        "    \n",
        "    input_ids = torch.cat(input_ids, dim=0)\n",
        "    attention_masks = torch.cat(attention_masks, dim=0)\n",
        "    labels = torch.tensor(y)\n",
        "\n",
        "    dataset = TensorDataset(input_ids, attention_masks, labels)\n",
        "\n",
        "    return dataset"
      ],
      "execution_count": 6,
      "outputs": []
    },
    {
      "cell_type": "code",
      "metadata": {
        "id": "Hw9DF4H3o5NS"
      },
      "source": [
        "def train_classifier(\n",
        "    model: BertForSequenceClassification, \n",
        "    dataset: TensorDataset, \n",
        "    validation_ratio: float,\n",
        "    batch_size: int,\n",
        "    freeze_embeddings_layer: bool,\n",
        "    freeze_encoder_layers: int,\n",
        "    epochs: int) -> (BertForSequenceClassification, list):\n",
        "\n",
        "    device = select_device()\n",
        "\n",
        "    train_size = int(validation_ratio * len(dataset))\n",
        "    val_size = len(dataset) - train_size\n",
        "\n",
        "    train_dataset, val_dataset = random_split(dataset, [train_size, val_size])\n",
        "\n",
        "    train_dataloader = DataLoader(\n",
        "        train_dataset,\n",
        "        sampler = RandomSampler(train_dataset),\n",
        "        batch_size = batch_size\n",
        "    )\n",
        "\n",
        "    validation_dataloader = DataLoader(\n",
        "        val_dataset,\n",
        "        sampler = SequentialSampler(val_dataset),\n",
        "        batch_size = batch_size\n",
        "    )\n",
        "\n",
        "    modules = []\n",
        "\n",
        "    if freeze_embeddings_layer:\n",
        "        modules.append(model.bert.embeddings)\n",
        "    \n",
        "    for i in range(freeze_encoder_layers):\n",
        "        modules.append(model.bert.encoder.layer[i])\n",
        "\n",
        "    for module in modules:\n",
        "        for param in module.parameters():\n",
        "            param.requires_grad = False\n",
        "    \n",
        "    model.to(device)\n",
        "\n",
        "    optimizer = AdamW(\n",
        "        filter(lambda p: p.requires_grad, model.parameters()),\n",
        "        lr = 2e-5,\n",
        "        eps = 1e-8\n",
        "    )\n",
        "\n",
        "    total_steps = len(train_dataloader) * epochs\n",
        "\n",
        "    scheduler = get_linear_schedule_with_warmup(\n",
        "        optimizer, \n",
        "        num_warmup_steps = 0,\n",
        "        num_training_steps = total_steps\n",
        "    )\n",
        "\n",
        "    training_stats = []\n",
        "\n",
        "    total_t0 = time.time()\n",
        "\n",
        "    for epoch_i in range(0, epochs):\n",
        "\n",
        "        print(\"\")\n",
        "        print('======== Epoch {:} / {:} ========'.format(epoch_i + 1, epochs))\n",
        "        print('Training...')\n",
        "\n",
        "        t0 = time.time()\n",
        "\n",
        "        total_train_loss = 0\n",
        "\n",
        "        model.train()\n",
        "\n",
        "        for step, batch in enumerate(train_dataloader):\n",
        "\n",
        "            if step % 40 == 0 and not step == 0:\n",
        "                elapsed = format_time(time.time() - t0)\n",
        "                print('  Batch {:>5,}  of  {:>5,}.    Elapsed: {:}.'.format(step, len(train_dataloader), elapsed))\n",
        "\n",
        "            b_input_ids = batch[0].to(device)\n",
        "            b_input_mask = batch[1].to(device)\n",
        "            b_labels = batch[2].to(device)\n",
        "\n",
        "            model.zero_grad()        \n",
        "\n",
        "            outputs = model(\n",
        "                b_input_ids, \n",
        "                token_type_ids = None, \n",
        "                attention_mask = b_input_mask, \n",
        "                labels = b_labels\n",
        "            )\n",
        "\n",
        "            loss = outputs.loss\n",
        "            logits = outputs.logits\n",
        "\n",
        "            total_train_loss += loss.item()\n",
        "\n",
        "            loss.backward()\n",
        "\n",
        "            # Clip the norm of the gradients to 1.0.\n",
        "            # This is to help prevent the \"exploding gradients\" problem.\n",
        "            torch.nn.utils.clip_grad_norm_(model.parameters(), 1.0)\n",
        "\n",
        "            optimizer.step()\n",
        "\n",
        "            scheduler.step()\n",
        "\n",
        "        avg_train_loss = total_train_loss / len(train_dataloader)            \n",
        "        \n",
        "        training_time = format_time(time.time() - t0)\n",
        "\n",
        "        print(\"\")\n",
        "        print(\"  Average training loss: {0:.2f}\".format(avg_train_loss))\n",
        "        print(\"  Training epcoh took: {:}\".format(training_time))\n",
        "        \n",
        "\n",
        "        print(\"\")\n",
        "        print(\"Running Validation...\")\n",
        "\n",
        "        t0 = time.time()\n",
        "\n",
        "        model.eval()\n",
        "\n",
        "        total_eval_accuracy = 0\n",
        "        total_eval_loss = 0\n",
        "        nb_eval_steps = 0\n",
        "\n",
        "        for batch in validation_dataloader:\n",
        "            \n",
        "            b_input_ids = batch[0].to(device)\n",
        "            b_input_mask = batch[1].to(device)\n",
        "            b_labels = batch[2].to(device)\n",
        "            \n",
        "            with torch.no_grad():\n",
        "\n",
        "                outputs = model(\n",
        "                    b_input_ids, \n",
        "                    token_type_ids = None, \n",
        "                    attention_mask = b_input_mask,\n",
        "                    labels = b_labels\n",
        "                )\n",
        "                \n",
        "                loss = outputs.loss\n",
        "                logits = outputs.logits\n",
        "                \n",
        "            total_eval_loss += loss.item()\n",
        "\n",
        "            logits = logits.detach().cpu().numpy()\n",
        "            label_ids = b_labels.cpu().numpy()\n",
        "\n",
        "            total_eval_accuracy += flat_accuracy(logits, label_ids)\n",
        "            \n",
        "\n",
        "        avg_val_accuracy = total_eval_accuracy / len(validation_dataloader)\n",
        "        print(\"  Accuracy: {0:.2f}\".format(avg_val_accuracy))\n",
        "\n",
        "        avg_val_loss = total_eval_loss / len(validation_dataloader)\n",
        "        \n",
        "        validation_time = format_time(time.time() - t0)\n",
        "        \n",
        "        print(\"  Validation Loss: {0:.2f}\".format(avg_val_loss))\n",
        "        print(\"  Validation took: {:}\".format(validation_time))\n",
        "\n",
        "        training_stats.append(\n",
        "            {\n",
        "                'epoch': epoch_i + 1,\n",
        "                'Training Loss': avg_train_loss,\n",
        "                'Valid. Loss': avg_val_loss,\n",
        "                'Valid. Accur.': avg_val_accuracy,\n",
        "                'Training Time': training_time,\n",
        "                'Validation Time': validation_time\n",
        "            }\n",
        "        )\n",
        "\n",
        "    print(\"\")\n",
        "    print(\"Training complete!\")\n",
        "\n",
        "    print(\"Total training took {:} (h:mm:ss)\".format(format_time(time.time()-total_t0)))\n",
        "\n",
        "    return model, training_stats"
      ],
      "execution_count": 9,
      "outputs": []
    },
    {
      "cell_type": "code",
      "metadata": {
        "id": "P_1G3NNIo-P0"
      },
      "source": [
        "def test_classifier(\n",
        "    model: BertForSequenceClassification, \n",
        "    dataset: TensorDataset,\n",
        "    batch_size: int):\n",
        "\n",
        "    device = select_device()\n",
        "\n",
        "    prediction_dataloader = DataLoader(\n",
        "        dataset, \n",
        "        sampler = SequentialSampler(dataset), \n",
        "        batch_size = batch_size\n",
        "    )\n",
        "\n",
        "    print(\"\")\n",
        "    print(\"Running Prediction...\")\n",
        "\n",
        "    model.to(device)\n",
        "\n",
        "    model.eval()\n",
        "\n",
        "    predictions , true_labels = [], []\n",
        "\n",
        "    for batch in prediction_dataloader:\n",
        "\n",
        "        b_input_ids = batch[0].to(device)\n",
        "        b_input_mask = batch[1].to(device)\n",
        "        b_labels = batch[2]\n",
        "        \n",
        "        with torch.no_grad():\n",
        "\n",
        "            outputs = model(\n",
        "                b_input_ids, \n",
        "                token_type_ids = None, \n",
        "                attention_mask = b_input_mask\n",
        "            )\n",
        "\n",
        "        logits = outputs.logits\n",
        "\n",
        "        logits = logits.detach().cpu().numpy()\n",
        "        label_ids = b_labels.numpy()\n",
        "        \n",
        "        #predictions.append(logits)\n",
        "        #true_labels.append(label_ids)\n",
        "        predictions.extend(list(np.argmax(logits, axis=1).flatten()))\n",
        "        true_labels.extend(list(label_ids))\n",
        "    \n",
        "    print('DONE.')\n",
        "\n",
        "    return predictions, true_labels\n"
      ],
      "execution_count": 11,
      "outputs": []
    },
    {
      "cell_type": "code",
      "metadata": {
        "id": "mrH3biqlpGgY"
      },
      "source": [
        "def save_checkpoint(path, model, optimizer, epoch, loss):\n",
        "    torch.save({\n",
        "        'epoch': epoch,\n",
        "        'model_state_dict': model.state_dict(),\n",
        "        'optimizer_state_dict': optimizer.state_dict(),\n",
        "        'loss': loss\n",
        "        }, path)\n",
        "\n",
        "\n",
        "def save_model(path, model):\n",
        "    torch.save(model.state_dict(), path)\n",
        "\n",
        "\n",
        "def load_checkpoint(path):\n",
        "    checkpoint = torch.load(path)\n",
        "    return checkpoint['model_state_dict'], checkpoint['optimizer_state_dict'], checkpoint['epoch'], checkpoint['loss']\n",
        "\n",
        "\n",
        "def load_model(path):\n",
        "    return torch.load(path)\n",
        "\n",
        "\n",
        "def select_device():\n",
        "\n",
        "    if torch.cuda.is_available():\n",
        "        print('There are %d GPU(s) available.' % torch.cuda.device_count())\n",
        "        print('We will use the GPU:', torch.cuda.get_device_name(0))\n",
        "        device = torch.device(\"cuda\")\n",
        "    else:\n",
        "        print('No GPU available, using the CPU instead.')\n",
        "        device = torch.device(\"cpu\")\n",
        "    \n",
        "    return device\n",
        "\n",
        "\n",
        "def format_time(elapsed):\n",
        "    '''\n",
        "    Takes a time in seconds and returns a string hh:mm:ss\n",
        "    '''\n",
        "    elapsed_rounded = int(round((elapsed)))\n",
        "    return str(datetime.timedelta(seconds=elapsed_rounded))\n",
        "\n",
        "\n",
        "def flat_accuracy(preds, labels):\n",
        "    pred_flat = np.argmax(preds, axis=1).flatten()\n",
        "    labels_flat = labels.flatten()\n",
        "    return np.sum(pred_flat == labels_flat) / len(labels_flat)\n"
      ],
      "execution_count": 13,
      "outputs": []
    },
    {
      "cell_type": "markdown",
      "metadata": {
        "id": "Cdo8m-Qa900i"
      },
      "source": [
        "# Performance metrics"
      ]
    },
    {
      "cell_type": "code",
      "metadata": {
        "id": "gwkR6pndJUjz"
      },
      "source": [
        "def avg_accuracy(predictions,labels):\n",
        "    return sum(1 for i, j in zip(predictions, labels) if i == j) / len(predictions) \n",
        "\n",
        "def round_to_percentages(value):\n",
        "    return round(round(value, 4) * 100, 2)\n",
        "\n",
        "def majority_class(data):\n",
        "    elements_count = {}\n",
        "    for element in data:\n",
        "        if element not in elements_count:\n",
        "            elements_count[element] = 0\n",
        "        elements_count[element] += 1\n",
        "    maximum = max(elements_count, key=elements_count.get)\n",
        "    return elements_count[maximum] / len(data)\n",
        "\n",
        "def print_performance_metrics(predicted, true):\n",
        "    matrix = {}\n",
        "    labels = sorted(list(set(true)))\n",
        "\n",
        "    for t in labels:\n",
        "        for p in labels:\n",
        "            matrix[(t, p)] = sum([1 for i, j in zip(true, predicted) if i == t and j == p]) / len(true)\n",
        "\n",
        "    print()\n",
        "    print(\"Confusion Matrix\")\n",
        "    print(\"Rows - Actual\")\n",
        "    print(\"Columns - Predicted\")\n",
        "    print()\n",
        "\n",
        "    print((\"{:>3}\"+\" | \"+\"{:>6}\"*len(labels)+\" | \").format(\" \", *[p for p in labels]))\n",
        "\n",
        "    print(\"-\" * (3 + 3 + 6 * len(labels) + 3 + 6))\n",
        "\n",
        "    for t in labels:\n",
        "        print((\"{:>3}\"+\" | \"+\"{:>6.2f}\"*len(labels)+\" | \"+\"{:>6.2f}\").format(t, *[round_to_percentages(matrix[(t, p)]) for p in labels], round_to_percentages(sum([matrix[(t, p)] for p in labels]))))\n",
        "\n",
        "    print(\"-\" * (3 + 3 + 6 * len(labels) + 3 + 6))\n",
        "\n",
        "    print((\"{:>3}\"+\" | \"+\"{:>6.2f}\"*len(labels)+\" | \").format(\" \", *[round_to_percentages(sum([matrix[(t, p)] for t in labels])) for p in labels]))\n",
        "    \n",
        "    print()\n",
        "    print(\"{:<35}:{:>8.4f}\".format(\"Majority Class\", round(majority_class(true), 4)))\n",
        "    print(\"{:<35}:{:>8.4f}\".format(\"Accuracy\", round(avg_accuracy(predicted, true), 4)))\n",
        "    print()\n",
        "\n",
        "    if len(labels) == 2:\n",
        "        sensitivity = matrix[(labels[0], labels[0])] / (matrix[(labels[0], labels[0])] + matrix[(labels[0], labels[1])])\n",
        "        specificity = matrix[(labels[1], labels[1])] / (matrix[(labels[1], labels[1])] + matrix[(labels[1], labels[0])])\n",
        "        positive_predictive = matrix[(labels[0], labels[0])] / (matrix[(labels[0], labels[0])] + matrix[(labels[1], labels[0])])\n",
        "        negative_predictive = matrix[(labels[1], labels[1])] / (matrix[(labels[1], labels[1])] + matrix[(labels[0], labels[1])])\n",
        "        f1_score = 2 * ((positive_predictive * sensitivity) / (positive_predictive + sensitivity))\n",
        "\n",
        "        print(\"{:<35}:{:>8.4f}\".format(\"Sensitivity, Recall\", round(sensitivity, 4)))\n",
        "        print(\"{:<35}:{:>8.4f}\".format(\"Specificity\", round(specificity, 4)))\n",
        "        print(\"{:<35}:{:>8.4f}\".format(\"Positive Predictive, Precision\", round(positive_predictive, 4)))\n",
        "        print(\"{:<35}:{:>8.4f}\".format(\"Negative Predictive\", round(negative_predictive, 4)))\n",
        "        print(\"{:<35}:{:>8.4f}\".format(\"F1 Score\", round(f1_score, 4)))"
      ],
      "execution_count": 22,
      "outputs": []
    },
    {
      "cell_type": "markdown",
      "metadata": {
        "id": "2cUR_wcTC5-p"
      },
      "source": [
        "# Preprocessing"
      ]
    },
    {
      "cell_type": "code",
      "metadata": {
        "colab": {
          "base_uri": "https://localhost:8080/"
        },
        "id": "71eMX--LiLvU",
        "outputId": "e4bc0477-9ea6-4965-d280-25652b60e5fd"
      },
      "source": [
        "import spacy\n",
        "import re\n",
        "import classla\n",
        "\n",
        "import nltk\n",
        "from nltk.stem import WordNetLemmatizer\n",
        "from nltk.tokenize import word_tokenize\n",
        "from nltk.corpus import stopwords\n",
        "\n",
        "nltk.download('stopwords')\n",
        "nltk.download('punkt')\n",
        "nltk.download('wordnet')\n",
        "\n",
        "classla.download('sl')\n",
        "classla.download('sl', type='nonstandard')\n",
        "\n",
        "nlp_eng = spacy.load(\"en_core_web_sm\", disable=['tagger', 'parser', 'ner'])\n",
        "eng_stopwords = set(nlp_eng.Defaults.stop_words)\n",
        "slo_stopwords = set(stopwords.words('slovene'))\n",
        "\n",
        "def eng_preprocessing(text, remove_stopwords=True, do_lemmatization=True):\n",
        "\n",
        "    text = base_preprocessing(text)\n",
        "\n",
        "    tokens = []\n",
        "\n",
        "    # split text to single words\n",
        "    words = word_tokenize(text)\n",
        "\n",
        "    lemmer = WordNetLemmatizer()\n",
        "\n",
        "    # remove stopwords and words with length 1\n",
        "    for word in words:\n",
        "        if not remove_stopwords or word not in eng_stopwords:\n",
        "            if do_lemmatization:\n",
        "                word = lemmer.lemmatize(word)\n",
        "            tokens.append(word)\n",
        "\n",
        "    # convert tokens back to text\n",
        "    preprocessed_text = ' '.join([str(element) for element in tokens])\n",
        "    return preprocessed_text\n",
        "\n",
        "def slo_preprocessing(dataset, remove_stopwords=True, do_lemmatization=True):\n",
        "\n",
        "    # do base proccesing\n",
        "    dataset['preprocessed'] = dataset['Text'].apply(base_preprocessing)\n",
        "\n",
        "    # create pipelines\n",
        "    tokenizer = classla.Pipeline('sl', processors='tokenize', type='nonstandard', logging_level='WARN')\n",
        "    lemmatizer = classla.Pipeline('sl', processors='tokenize, lemma', type='nonstandard', logging_level='WARN')\n",
        "\n",
        "    # do tokenization\n",
        "    documents = '\\n'.join(dataset['preprocessed'].values)\n",
        "    out_docs = tokenizer(documents)\n",
        "\n",
        "    for i, sentence in enumerate(out_docs.sentences):\n",
        "        #print(\"DOCUMENT\")\n",
        "        seq = []\n",
        "        for word in sentence.words:\n",
        "            if not remove_stopwords or word.text not in slo_stopwords:\n",
        "                seq.append(word.text)\n",
        "\n",
        "        dataset.at[i, 'preprocessed'] = ' '.join(seq)\n",
        "\n",
        "    # do lemmatization\n",
        "    if do_lemmatization:\n",
        "        documents = '\\n'.join(dataset['preprocessed'].values)\n",
        "        out_docs = lemmatizer(documents)\n",
        "        \n",
        "        for i, sentence in enumerate(out_docs.sentences):\n",
        "            dataset.at[i, 'preprocessed'] = ' '.join(word.lemma for word in sentence.words)\n",
        "\n",
        "    return dataset\n",
        "\n",
        "def base_preprocessing(text):\n",
        "\n",
        "    EMOJI_PATTERN = re.compile(\n",
        "        \"([\"\n",
        "        \"\\U0001F1E0-\\U0001F1FF\"  # flags (iOS)\n",
        "        \"\\U0001F300-\\U0001F5FF\"  # symbols & pictographs\n",
        "        \"\\U0001F600-\\U0001F64F\"  # emoticons\n",
        "        \"\\U0001F680-\\U0001F6FF\"  # transport & map symbols\n",
        "        \"\\U0001F700-\\U0001F77F\"  # alchemical symbols\n",
        "        \"\\U0001F780-\\U0001F7FF\"  # Geometric Shapes Extended\n",
        "        \"\\U0001F800-\\U0001F8FF\"  # Supplemental Arrows-C\n",
        "        \"\\U0001F900-\\U0001F9FF\"  # Supplemental Symbols and Pictographs\n",
        "        \"\\U0001FA00-\\U0001FA6F\"  # Chess Symbols\n",
        "        \"\\U0001FA70-\\U0001FAFF\"  # Symbols and Pictographs Extended-A\n",
        "        \"])\"\n",
        "    )\n",
        "    text = re.sub(EMOJI_PATTERN,\"\",text)\n",
        "    # remove (twitter) urls\n",
        "    text = re.sub(r\"http://t.co/[a-zA-Z0-9čČšŠžŽ]+\", \"\", text)\n",
        "    text = re.sub(r\"https://t.co/[a-zA-Z0-9čČšŠžŽ]+\", \"\", text)\n",
        "\n",
        "    # remove all hashtags or @name Mentions (Usernames only allowed to includes characters A-Z, 0-9 and underscores)\n",
        "    text = re.sub(r\"[@#][a-zA-Z0-9_čČšŠžŽ]+\", \"\", text)\n",
        "\n",
        "    # remove non alphabetical characters\n",
        "    text = re.sub(r\"[^a-zA-Z0-9\\sčČšŠžŽ]\", \"\", text)\n",
        "\n",
        "    # remove multiple white spaces\n",
        "    text = re.sub(' +', ' ', text)\n",
        "\n",
        "    # convert all letters to lower case\n",
        "    text = text.lower()\n",
        "\n",
        "    return text.strip()\n",
        "\n",
        "def run_dataset_preparation(dataset, lang=\"eng\", remove_stopwords=True, do_lemmatization=True):\n",
        "\n",
        "    dataset = dataset.dropna(how='any', axis=0)\n",
        "    if lang == \"eng\":\n",
        "        dataset['preprocessed'] = dataset['Text'].apply(eng_preprocessing, remove_stopwords=remove_stopwords, do_lemmatization=do_lemmatization)\n",
        "    elif lang == \"slo\":\n",
        "        dataset = slo_preprocessing(dataset, remove_stopwords=remove_stopwords, do_lemmatization=do_lemmatization)\n",
        "\n",
        "    x,y = dataset['preprocessed'], dataset['Label']\n",
        "    data = (x,y)\n",
        "    return data"
      ],
      "execution_count": 40,
      "outputs": [
        {
          "output_type": "stream",
          "text": [
            "[nltk_data] Downloading package stopwords to /root/nltk_data...\n",
            "[nltk_data]   Package stopwords is already up-to-date!\n",
            "[nltk_data] Downloading package punkt to /root/nltk_data...\n",
            "[nltk_data]   Package punkt is already up-to-date!\n",
            "[nltk_data] Downloading package wordnet to /root/nltk_data...\n",
            "[nltk_data]   Unzipping corpora/wordnet.zip.\n"
          ],
          "name": "stdout"
        },
        {
          "output_type": "stream",
          "text": [
            "Downloading https://raw.githubusercontent.com/clarinsi/classla-resources/main/resources_1.0.0.json: 10.3kB [00:00, 3.14MB/s]                   \n",
            "2021-04-22 17:51:56 INFO: Downloading these customized packages for language: sl (Slovenian)...\n",
            "========================\n",
            "| Processor | Package  |\n",
            "------------------------\n",
            "| tokenize  | standard |\n",
            "| pos       | standard |\n",
            "| lemma     | standard |\n",
            "| depparse  | standard |\n",
            "| ner       | standard |\n",
            "| pretrain  | standard |\n",
            "========================\n",
            "\n",
            "2021-04-22 17:51:57 INFO: File exists: /root/classla_resources/sl/pos/standard.pt.\n",
            "2021-04-22 17:51:57 INFO: File exists: /root/classla_resources/sl/lemma/standard.pt.\n",
            "2021-04-22 17:51:57 INFO: File exists: /root/classla_resources/sl/depparse/standard.pt.\n",
            "2021-04-22 17:51:57 INFO: File exists: /root/classla_resources/sl/ner/standard.pt.\n",
            "2021-04-22 17:51:57 INFO: File exists: /root/classla_resources/sl/pretrain/standard.pt.\n",
            "2021-04-22 17:51:58 INFO: Finished downloading models and saved to /root/classla_resources.\n",
            "Downloading https://raw.githubusercontent.com/clarinsi/classla-resources/main/resources_1.0.0.json: 10.3kB [00:00, 2.87MB/s]                   \n",
            "2021-04-22 17:51:58 INFO: Downloading these customized packages for language: sl (Slovenian)...\n",
            "===========================\n",
            "| Processor | Package     |\n",
            "---------------------------\n",
            "| tokenize  | nonstandard |\n",
            "| pos       | nonstandard |\n",
            "| lemma     | nonstandard |\n",
            "| depparse  | standard    |\n",
            "| ner       | nonstandard |\n",
            "| pretrain  | standard    |\n",
            "===========================\n",
            "\n",
            "2021-04-22 17:51:58 INFO: File exists: /root/classla_resources/sl/pos/nonstandard.pt.\n",
            "2021-04-22 17:51:58 INFO: File exists: /root/classla_resources/sl/lemma/nonstandard.pt.\n",
            "2021-04-22 17:51:58 INFO: File exists: /root/classla_resources/sl/depparse/standard.pt.\n",
            "2021-04-22 17:51:58 INFO: File exists: /root/classla_resources/sl/ner/nonstandard.pt.\n",
            "2021-04-22 17:51:59 INFO: File exists: /root/classla_resources/sl/pretrain/standard.pt.\n",
            "2021-04-22 17:51:59 INFO: Finished downloading models and saved to /root/classla_resources.\n"
          ],
          "name": "stderr"
        }
      ]
    },
    {
      "cell_type": "markdown",
      "metadata": {
        "id": "fTNtYoht-Den"
      },
      "source": [
        "# Other"
      ]
    },
    {
      "cell_type": "code",
      "metadata": {
        "id": "M9W9YAKe44xX"
      },
      "source": [
        "import matplotlib.pyplot as plt\n",
        "\n",
        "def distribution_dataset(data):\n",
        "    class_distribution = {}\n",
        "    for element in data:\n",
        "        if element not in class_distribution:\n",
        "            class_distribution[element] = 0\n",
        "        class_distribution[element] += 1\n",
        "    return class_distribution"
      ],
      "execution_count": 62,
      "outputs": []
    },
    {
      "cell_type": "markdown",
      "metadata": {
        "id": "itIORIUu-MpJ"
      },
      "source": [
        "# Binary Eng classification"
      ]
    },
    {
      "cell_type": "markdown",
      "metadata": {
        "id": "Z48_4PEW_34D"
      },
      "source": [
        "## Setup"
      ]
    },
    {
      "cell_type": "code",
      "metadata": {
        "id": "ugdgb93AqdAV"
      },
      "source": [
        "binary_data = pd.read_csv('drive/MyDrive/Data/Eng/Binary/data.csv')\n",
        "x,y = run_dataset_preparation(binary_data, \"eng\", remove_stopwords=True, do_lemmatization=True)"
      ],
      "execution_count": 81,
      "outputs": []
    },
    {
      "cell_type": "code",
      "metadata": {
        "colab": {
          "base_uri": "https://localhost:8080/"
        },
        "id": "RbPWMpV23UVn",
        "outputId": "5c6d11d0-63a9-48be-80ac-81e6b9968bb1"
      },
      "source": [
        "model = setup_classifier(\n",
        "    model_name = \"drive/MyDrive/classifiers/bert/CroSloEngual\",\n",
        "    num_labels = 2\n",
        ")\n",
        "\n",
        "# model.load_state_dict(bert.load_model(\"models/m1.pt\"))\n",
        "\n",
        "dataset = setup_data(\n",
        "    model_name = \"drive/MyDrive/classifiers/bert/CroSloEngual\",\n",
        "    x = x,\n",
        "    y = y,\n",
        "    do_lower_case = False,\n",
        "    max_length = 180\n",
        ")\n",
        "\n",
        "test_ratio = 0.8\n",
        "train_size = int(test_ratio * len(dataset))\n",
        "test_size = len(dataset) - train_size\n",
        "\n",
        "train_dataset, test_dataset = random_split(dataset, [train_size, test_size])"
      ],
      "execution_count": 82,
      "outputs": [
        {
          "output_type": "stream",
          "text": [
            "Some weights of the model checkpoint at drive/MyDrive/classifiers/bert/CroSloEngual were not used when initializing BertForSequenceClassification: ['cls.predictions.bias', 'cls.predictions.transform.dense.weight', 'cls.predictions.transform.dense.bias', 'cls.predictions.transform.LayerNorm.weight', 'cls.predictions.transform.LayerNorm.bias', 'cls.predictions.decoder.weight', 'cls.seq_relationship.weight', 'cls.seq_relationship.bias']\n",
            "- This IS expected if you are initializing BertForSequenceClassification from the checkpoint of a model trained on another task or with another architecture (e.g. initializing a BertForSequenceClassification model from a BertForPreTraining model).\n",
            "- This IS NOT expected if you are initializing BertForSequenceClassification from the checkpoint of a model that you expect to be exactly identical (initializing a BertForSequenceClassification model from a BertForSequenceClassification model).\n",
            "Some weights of BertForSequenceClassification were not initialized from the model checkpoint at drive/MyDrive/classifiers/bert/CroSloEngual and are newly initialized: ['classifier.weight', 'classifier.bias']\n",
            "You should probably TRAIN this model on a down-stream task to be able to use it for predictions and inference.\n"
          ],
          "name": "stderr"
        }
      ]
    },
    {
      "cell_type": "markdown",
      "metadata": {
        "id": "iTN9KIt0ASOt"
      },
      "source": [
        "## Train dataset class distribution"
      ]
    },
    {
      "cell_type": "code",
      "metadata": {
        "colab": {
          "base_uri": "https://localhost:8080/",
          "height": 298
        },
        "id": "11ZtjhbhA821",
        "outputId": "79ae25e9-54be-428a-a61e-45dc0055303f"
      },
      "source": [
        "class_distribution = distribution_dataset([e[2].item() for e in list(train_dataset)])\n",
        "print(class_distribution)\n",
        "y = list(class_distribution.keys())\n",
        "x = list(class_distribution.values())\n",
        "plt.bar(y, x, color=\"tab:blue\")"
      ],
      "execution_count": 83,
      "outputs": [
        {
          "output_type": "stream",
          "text": [
            "{0: 34320, 1: 26243}\n"
          ],
          "name": "stdout"
        },
        {
          "output_type": "execute_result",
          "data": {
            "text/plain": [
              "<BarContainer object of 2 artists>"
            ]
          },
          "metadata": {
            "tags": []
          },
          "execution_count": 83
        },
        {
          "output_type": "display_data",
          "data": {
            "image/png": "[encoded data removed]",
            "text/plain": [
              "<Figure size 432x288 with 1 Axes>"
            ]
          },
          "metadata": {
            "tags": [],
            "needs_background": "light"
          }
        }
      ]
    },
    {
      "cell_type": "markdown",
      "metadata": {
        "id": "_HJh2OzQAb7c"
      },
      "source": [
        "## Test dataset class distribution"
      ]
    },
    {
      "cell_type": "code",
      "metadata": {
        "colab": {
          "base_uri": "https://localhost:8080/",
          "height": 298
        },
        "id": "8ECSBRR5BVIv",
        "outputId": "2b2bbe49-ed55-4e20-9fc6-d637031abc99"
      },
      "source": [
        "class_distribution = distribution_dataset([e[2].item() for e in list(test_dataset)])\n",
        "print(class_distribution)\n",
        "y = list(class_distribution.keys())\n",
        "x = list(class_distribution.values())\n",
        "plt.bar(y, x, color=\"tab:orange\")"
      ],
      "execution_count": 84,
      "outputs": [
        {
          "output_type": "stream",
          "text": [
            "{0: 8511, 1: 6630}\n"
          ],
          "name": "stdout"
        },
        {
          "output_type": "execute_result",
          "data": {
            "text/plain": [
              "<BarContainer object of 2 artists>"
            ]
          },
          "metadata": {
            "tags": []
          },
          "execution_count": 84
        },
        {
          "output_type": "display_data",
          "data": {
            "image/png": "[encoded data removed]",
            "text/plain": [
              "<Figure size 432x288 with 1 Axes>"
            ]
          },
          "metadata": {
            "tags": [],
            "needs_background": "light"
          }
        }
      ]
    },
    {
      "cell_type": "markdown",
      "metadata": {
        "id": "4_9Vgtcy_9cR"
      },
      "source": [
        "## Train"
      ]
    },
    {
      "cell_type": "code",
      "metadata": {
        "id": "QzcU0XMR3Yor"
      },
      "source": [
        "model, stats = train_classifier(\n",
        "    model = model,\n",
        "    dataset = train_dataset,\n",
        "    validation_ratio = 0.9,\n",
        "    batch_size = 32,\n",
        "    freeze_embeddings_layer = False,\n",
        "    freeze_encoder_layers = 0,\n",
        "    epochs = 1\n",
        ")"
      ],
      "execution_count": null,
      "outputs": []
    },
    {
      "cell_type": "markdown",
      "metadata": {
        "id": "XmPslDtRAAlh"
      },
      "source": [
        "## Test"
      ]
    },
    {
      "cell_type": "code",
      "metadata": {
        "colab": {
          "base_uri": "https://localhost:8080/"
        },
        "id": "HzVHRZEXySqO",
        "outputId": "c84684d8-2b16-43d4-cd71-eb660000eead"
      },
      "source": [
        "predictions, true_labels = test_classifier(\n",
        "    model = model,\n",
        "    dataset = test_dataset,\n",
        "    batch_size = 32\n",
        ")"
      ],
      "execution_count": 42,
      "outputs": [
        {
          "output_type": "stream",
          "text": [
            "Some weights of the model checkpoint at drive/MyDrive/classifiers/bert/CroSloEngual were not used when initializing BertForSequenceClassification: ['cls.predictions.bias', 'cls.predictions.transform.dense.weight', 'cls.predictions.transform.dense.bias', 'cls.predictions.transform.LayerNorm.weight', 'cls.predictions.transform.LayerNorm.bias', 'cls.predictions.decoder.weight', 'cls.seq_relationship.weight', 'cls.seq_relationship.bias']\n",
            "- This IS expected if you are initializing BertForSequenceClassification from the checkpoint of a model trained on another task or with another architecture (e.g. initializing a BertForSequenceClassification model from a BertForPreTraining model).\n",
            "- This IS NOT expected if you are initializing BertForSequenceClassification from the checkpoint of a model that you expect to be exactly identical (initializing a BertForSequenceClassification model from a BertForSequenceClassification model).\n",
            "Some weights of BertForSequenceClassification were not initialized from the model checkpoint at drive/MyDrive/classifiers/bert/CroSloEngual and are newly initialized: ['classifier.weight', 'classifier.bias']\n",
            "You should probably TRAIN this model on a down-stream task to be able to use it for predictions and inference.\n"
          ],
          "name": "stderr"
        },
        {
          "output_type": "stream",
          "text": [
            "There are 1 GPU(s) available.\n",
            "We will use the GPU: Tesla T4\n",
            "\n",
            "======== Epoch 1 / 1 ========\n",
            "Training...\n",
            "  Batch    40  of  1,704.    Elapsed: 0:00:36.\n",
            "  Batch    80  of  1,704.    Elapsed: 0:01:11.\n",
            "  Batch   120  of  1,704.    Elapsed: 0:01:48.\n",
            "  Batch   160  of  1,704.    Elapsed: 0:02:26.\n",
            "  Batch   200  of  1,704.    Elapsed: 0:03:03.\n",
            "  Batch   240  of  1,704.    Elapsed: 0:03:40.\n",
            "  Batch   280  of  1,704.    Elapsed: 0:04:18.\n",
            "  Batch   320  of  1,704.    Elapsed: 0:04:55.\n",
            "  Batch   360  of  1,704.    Elapsed: 0:05:33.\n",
            "  Batch   400  of  1,704.    Elapsed: 0:06:10.\n",
            "  Batch   440  of  1,704.    Elapsed: 0:06:47.\n",
            "  Batch   480  of  1,704.    Elapsed: 0:07:25.\n",
            "  Batch   520  of  1,704.    Elapsed: 0:08:02.\n",
            "  Batch   560  of  1,704.    Elapsed: 0:08:39.\n",
            "  Batch   600  of  1,704.    Elapsed: 0:09:17.\n",
            "  Batch   640  of  1,704.    Elapsed: 0:09:54.\n",
            "  Batch   680  of  1,704.    Elapsed: 0:10:32.\n",
            "  Batch   720  of  1,704.    Elapsed: 0:11:09.\n",
            "  Batch   760  of  1,704.    Elapsed: 0:11:46.\n",
            "  Batch   800  of  1,704.    Elapsed: 0:12:24.\n",
            "  Batch   840  of  1,704.    Elapsed: 0:13:01.\n",
            "  Batch   880  of  1,704.    Elapsed: 0:13:39.\n",
            "  Batch   920  of  1,704.    Elapsed: 0:14:16.\n",
            "  Batch   960  of  1,704.    Elapsed: 0:14:54.\n",
            "  Batch 1,000  of  1,704.    Elapsed: 0:15:31.\n",
            "  Batch 1,040  of  1,704.    Elapsed: 0:16:08.\n",
            "  Batch 1,080  of  1,704.    Elapsed: 0:16:46.\n",
            "  Batch 1,120  of  1,704.    Elapsed: 0:17:23.\n",
            "  Batch 1,160  of  1,704.    Elapsed: 0:18:00.\n",
            "  Batch 1,200  of  1,704.    Elapsed: 0:18:38.\n",
            "  Batch 1,240  of  1,704.    Elapsed: 0:19:15.\n",
            "  Batch 1,280  of  1,704.    Elapsed: 0:19:53.\n",
            "  Batch 1,320  of  1,704.    Elapsed: 0:20:30.\n",
            "  Batch 1,360  of  1,704.    Elapsed: 0:21:07.\n",
            "  Batch 1,400  of  1,704.    Elapsed: 0:21:45.\n",
            "  Batch 1,440  of  1,704.    Elapsed: 0:22:22.\n",
            "  Batch 1,480  of  1,704.    Elapsed: 0:22:59.\n",
            "  Batch 1,520  of  1,704.    Elapsed: 0:23:37.\n",
            "  Batch 1,560  of  1,704.    Elapsed: 0:24:14.\n",
            "  Batch 1,600  of  1,704.    Elapsed: 0:24:52.\n",
            "  Batch 1,640  of  1,704.    Elapsed: 0:25:29.\n",
            "  Batch 1,680  of  1,704.    Elapsed: 0:26:07.\n",
            "\n",
            "  Average training loss: 0.28\n",
            "  Training epcoh took: 0:26:28\n",
            "\n",
            "Running Validation...\n",
            "  Accuracy: 0.92\n",
            "  Validation Loss: 0.24\n",
            "  Validation took: 0:01:08\n",
            "\n",
            "Training complete!\n",
            "Total training took 0:27:36 (h:mm:ss)\n",
            "There are 1 GPU(s) available.\n",
            "We will use the GPU: Tesla T4\n",
            "\n",
            "Running Prediction...\n",
            "DONE.\n"
          ],
          "name": "stdout"
        }
      ]
    },
    {
      "cell_type": "markdown",
      "metadata": {
        "id": "BP2iSlOwAGFe"
      },
      "source": [
        "## Performance"
      ]
    },
    {
      "cell_type": "code",
      "metadata": {
        "colab": {
          "base_uri": "https://localhost:8080/"
        },
        "id": "dsmDx5DXIlV4",
        "outputId": "eef8a47c-3bc1-4a72-840a-6f6fd94ee24f"
      },
      "source": [
        "print_performance_metrics(predictions, true_labels)"
      ],
      "execution_count": 48,
      "outputs": [
        {
          "output_type": "stream",
          "text": [
            "\n",
            "Confusion Matrix\n",
            "Rows - Actual\n",
            "Columns - Predicted\n",
            "\n",
            "    |      0     1 | \n",
            "---------------------------\n",
            "  0 |  53.52  3.63 |  57.15\n",
            "  1 |   4.73 38.12 |  42.85\n",
            "---------------------------\n",
            "    |  58.25 41.75 | \n",
            "\n",
            "Majority Class                     :  0.5715\n",
            "Accuracy                           :  0.9164\n",
            "\n",
            "Sensitivity, Recall                :  0.9364\n",
            "Specificity                        :  0.8896\n",
            "Positive Predictive, Precision     :  0.9188\n",
            "Negative Predictive                :  0.9130\n",
            "F1 Score                           :  0.9275\n"
          ],
          "name": "stdout"
        }
      ]
    },
    {
      "cell_type": "markdown",
      "metadata": {
        "id": "YSanatpqKcOz"
      },
      "source": [
        "**Saving model**"
      ]
    },
    {
      "cell_type": "code",
      "metadata": {
        "id": "aGNAQXvpzH2j"
      },
      "source": [
        "save_model(\"drive/MyDrive/models/binary.pt\", model)"
      ],
      "execution_count": 44,
      "outputs": []
    },
    {
      "cell_type": "markdown",
      "metadata": {
        "id": "vwFfPKXW-eVr"
      },
      "source": [
        "# Multiclass Eng classification"
      ]
    },
    {
      "cell_type": "markdown",
      "metadata": {
        "id": "HPxOSL2D_N4R"
      },
      "source": [
        "## Setup"
      ]
    },
    {
      "cell_type": "code",
      "metadata": {
        "id": "Gkb5Ox29KEkS"
      },
      "source": [
        "multiclass_data = pd.read_csv('drive/MyDrive/Data/Eng/Multiclass/data.csv')\n",
        "x,y = run_dataset_preparation(multiclass_data, \"eng\", remove_stopwords=True, do_lemmatization=True)"
      ],
      "execution_count": 109,
      "outputs": []
    },
    {
      "cell_type": "code",
      "metadata": {
        "colab": {
          "base_uri": "https://localhost:8080/"
        },
        "id": "1qQq7zVFKQup",
        "outputId": "9cf4cda1-2ad6-4ec4-c2ba-958f545e1640"
      },
      "source": [
        "model = setup_classifier(\n",
        "    model_name = \"drive/MyDrive/classifiers/bert/CroSloEngual\",\n",
        "    num_labels = 6\n",
        ")\n",
        "\n",
        "# model.load_state_dict(bert.load_model(\"models/m1.pt\"))\n",
        "\n",
        "dataset = setup_data(\n",
        "    model_name = \"drive/MyDrive/classifiers/bert/CroSloEngual\",\n",
        "    x = x,\n",
        "    y = y,\n",
        "    do_lower_case = False,\n",
        "    max_length = 180\n",
        ")\n",
        "\n",
        "test_ratio = 0.8\n",
        "train_size = int(test_ratio * len(dataset))\n",
        "test_size = len(dataset) - train_size\n",
        "\n",
        "train_dataset, test_dataset = random_split(dataset, [train_size, test_size])"
      ],
      "execution_count": 110,
      "outputs": [
        {
          "output_type": "stream",
          "text": [
            "Some weights of the model checkpoint at drive/MyDrive/classifiers/bert/CroSloEngual were not used when initializing BertForSequenceClassification: ['cls.predictions.bias', 'cls.predictions.transform.dense.weight', 'cls.predictions.transform.dense.bias', 'cls.predictions.transform.LayerNorm.weight', 'cls.predictions.transform.LayerNorm.bias', 'cls.predictions.decoder.weight', 'cls.seq_relationship.weight', 'cls.seq_relationship.bias']\n",
            "- This IS expected if you are initializing BertForSequenceClassification from the checkpoint of a model trained on another task or with another architecture (e.g. initializing a BertForSequenceClassification model from a BertForPreTraining model).\n",
            "- This IS NOT expected if you are initializing BertForSequenceClassification from the checkpoint of a model that you expect to be exactly identical (initializing a BertForSequenceClassification model from a BertForSequenceClassification model).\n",
            "Some weights of BertForSequenceClassification were not initialized from the model checkpoint at drive/MyDrive/classifiers/bert/CroSloEngual and are newly initialized: ['classifier.weight', 'classifier.bias']\n",
            "You should probably TRAIN this model on a down-stream task to be able to use it for predictions and inference.\n"
          ],
          "name": "stderr"
        }
      ]
    },
    {
      "cell_type": "markdown",
      "metadata": {
        "id": "-gBS2fvo8_Z_"
      },
      "source": [
        "## Train dataset class distribution"
      ]
    },
    {
      "cell_type": "code",
      "metadata": {
        "colab": {
          "base_uri": "https://localhost:8080/",
          "height": 298
        },
        "id": "C1Da6VhT5WrN",
        "outputId": "607c901f-26d4-4a0d-d272-3b85eb101553"
      },
      "source": [
        "class_distribution = distribution_dataset([e[2].item() for e in list(train_dataset)])\n",
        "print(class_distribution)\n",
        "y = list(class_distribution.keys())\n",
        "x = list(class_distribution.values())\n",
        "plt.bar(y, x, color=\"tab:blue\")"
      ],
      "execution_count": 111,
      "outputs": [
        {
          "output_type": "stream",
          "text": [
            "{0: 34261, 2: 5184, 4: 534, 3: 3009, 1: 1056, 5: 287}\n"
          ],
          "name": "stdout"
        },
        {
          "output_type": "execute_result",
          "data": {
            "text/plain": [
              "<BarContainer object of 6 artists>"
            ]
          },
          "metadata": {
            "tags": []
          },
          "execution_count": 111
        },
        {
          "output_type": "display_data",
          "data": {
            "image/png": "[encoded data removed]",
            "text/plain": [
              "<Figure size 432x288 with 1 Axes>"
            ]
          },
          "metadata": {
            "tags": [],
            "needs_background": "light"
          }
        }
      ]
    },
    {
      "cell_type": "markdown",
      "metadata": {
        "id": "_jaGOmPe9N0D"
      },
      "source": [
        "## Test dataset class distribution"
      ]
    },
    {
      "cell_type": "code",
      "metadata": {
        "colab": {
          "base_uri": "https://localhost:8080/",
          "height": 298
        },
        "id": "kAXSxdRI8a9i",
        "outputId": "1f6c98e8-8e99-42ed-f89a-742555e35cf3"
      },
      "source": [
        "class_distribution = distribution_dataset([e[2].item() for e in list(test_dataset)])\n",
        "print(class_distribution)\n",
        "y = list(class_distribution.keys())\n",
        "x = list(class_distribution.values())\n",
        "plt.bar(y, x, color=\"tab:orange\")"
      ],
      "execution_count": 112,
      "outputs": [
        {
          "output_type": "stream",
          "text": [
            "{0: 8570, 5: 74, 2: 1263, 3: 782, 1: 275, 4: 119}\n"
          ],
          "name": "stdout"
        },
        {
          "output_type": "execute_result",
          "data": {
            "text/plain": [
              "<BarContainer object of 6 artists>"
            ]
          },
          "metadata": {
            "tags": []
          },
          "execution_count": 112
        },
        {
          "output_type": "display_data",
          "data": {
            "image/png": "[encoded data removed]",
            "text/plain": [
              "<Figure size 432x288 with 1 Axes>"
            ]
          },
          "metadata": {
            "tags": [],
            "needs_background": "light"
          }
        }
      ]
    },
    {
      "cell_type": "markdown",
      "metadata": {
        "id": "PabB9eGV--Xz"
      },
      "source": [
        "## Train"
      ]
    },
    {
      "cell_type": "code",
      "metadata": {
        "colab": {
          "base_uri": "https://localhost:8080/"
        },
        "id": "rJcywstmfibI",
        "outputId": "1c23e641-9c7a-4ecd-b873-7f032ad6fc7c"
      },
      "source": [
        "model, stats = train_classifier(\n",
        "    model = model,\n",
        "    dataset = train_dataset,\n",
        "    validation_ratio = 0.9,\n",
        "    batch_size = 32,\n",
        "    freeze_embeddings_layer = False,\n",
        "    freeze_encoder_layers = 0,\n",
        "    epochs = 1\n",
        ")"
      ],
      "execution_count": 113,
      "outputs": [
        {
          "output_type": "stream",
          "text": [
            "There are 1 GPU(s) available.\n",
            "We will use the GPU: Tesla T4\n",
            "\n",
            "======== Epoch 1 / 1 ========\n",
            "Training...\n",
            "  Batch    40  of  1,247.    Elapsed: 0:00:37.\n",
            "  Batch    80  of  1,247.    Elapsed: 0:01:15.\n",
            "  Batch   120  of  1,247.    Elapsed: 0:01:52.\n",
            "  Batch   160  of  1,247.    Elapsed: 0:02:30.\n",
            "  Batch   200  of  1,247.    Elapsed: 0:03:07.\n",
            "  Batch   240  of  1,247.    Elapsed: 0:03:44.\n",
            "  Batch   280  of  1,247.    Elapsed: 0:04:22.\n",
            "  Batch   320  of  1,247.    Elapsed: 0:04:59.\n",
            "  Batch   360  of  1,247.    Elapsed: 0:05:36.\n",
            "  Batch   400  of  1,247.    Elapsed: 0:06:14.\n",
            "  Batch   440  of  1,247.    Elapsed: 0:06:51.\n",
            "  Batch   480  of  1,247.    Elapsed: 0:07:28.\n",
            "  Batch   520  of  1,247.    Elapsed: 0:08:05.\n",
            "  Batch   560  of  1,247.    Elapsed: 0:08:43.\n",
            "  Batch   600  of  1,247.    Elapsed: 0:09:20.\n",
            "  Batch   640  of  1,247.    Elapsed: 0:09:57.\n",
            "  Batch   680  of  1,247.    Elapsed: 0:10:35.\n",
            "  Batch   720  of  1,247.    Elapsed: 0:11:12.\n",
            "  Batch   760  of  1,247.    Elapsed: 0:11:49.\n",
            "  Batch   800  of  1,247.    Elapsed: 0:12:27.\n",
            "  Batch   840  of  1,247.    Elapsed: 0:13:04.\n",
            "  Batch   880  of  1,247.    Elapsed: 0:13:41.\n",
            "  Batch   920  of  1,247.    Elapsed: 0:14:19.\n",
            "  Batch   960  of  1,247.    Elapsed: 0:14:56.\n",
            "  Batch 1,000  of  1,247.    Elapsed: 0:15:33.\n",
            "  Batch 1,040  of  1,247.    Elapsed: 0:16:11.\n",
            "  Batch 1,080  of  1,247.    Elapsed: 0:16:48.\n",
            "  Batch 1,120  of  1,247.    Elapsed: 0:17:25.\n",
            "  Batch 1,160  of  1,247.    Elapsed: 0:18:03.\n",
            "  Batch 1,200  of  1,247.    Elapsed: 0:18:40.\n",
            "  Batch 1,240  of  1,247.    Elapsed: 0:19:18.\n",
            "\n",
            "  Average training loss: 0.22\n",
            "  Training epcoh took: 0:19:24\n",
            "\n",
            "Running Validation...\n",
            "  Accuracy: 0.96\n",
            "  Validation Loss: 0.17\n",
            "  Validation took: 0:00:49\n",
            "\n",
            "Training complete!\n",
            "Total training took 0:20:13 (h:mm:ss)\n"
          ],
          "name": "stdout"
        }
      ]
    },
    {
      "cell_type": "markdown",
      "metadata": {
        "id": "vqDT_mFv_Z6D"
      },
      "source": [
        "## Test"
      ]
    },
    {
      "cell_type": "code",
      "metadata": {
        "colab": {
          "base_uri": "https://localhost:8080/"
        },
        "id": "PzchdYSYflEk",
        "outputId": "1123f02c-7ef5-47ff-cd92-8570ca32bba8"
      },
      "source": [
        "predictions, true_labels = test_classifier(\n",
        "    model = model,\n",
        "    dataset = test_dataset,\n",
        "    batch_size = 32\n",
        ")"
      ],
      "execution_count": 114,
      "outputs": [
        {
          "output_type": "stream",
          "text": [
            "There are 1 GPU(s) available.\n",
            "We will use the GPU: Tesla T4\n",
            "\n",
            "Running Prediction...\n",
            "DONE.\n"
          ],
          "name": "stdout"
        }
      ]
    },
    {
      "cell_type": "markdown",
      "metadata": {
        "id": "Sa2G8tqt-0m5"
      },
      "source": [
        "## Performance"
      ]
    },
    {
      "cell_type": "code",
      "metadata": {
        "colab": {
          "base_uri": "https://localhost:8080/"
        },
        "id": "gnZA-iFjKVcz",
        "outputId": "34dc9df4-88ac-489f-9da0-dfa0063af9a6"
      },
      "source": [
        "print_performance_metrics(predictions, true_labels)"
      ],
      "execution_count": 115,
      "outputs": [
        {
          "output_type": "stream",
          "text": [
            "\n",
            "Confusion Matrix\n",
            "Rows - Actual\n",
            "Columns - Predicted\n",
            "\n",
            "    |      0     1     2     3     4     5 | \n",
            "---------------------------------------------------\n",
            "  0 |  75.66  0.26  0.72  0.62  0.06  0.00 |  77.33\n",
            "  1 |   0.32  2.00  0.05  0.09  0.01  0.02 |   2.48\n",
            "  2 |   0.21  0.05 11.04  0.05  0.05  0.00 |  11.40\n",
            "  3 |   0.20  0.24  0.02  6.57  0.00  0.03 |   7.06\n",
            "  4 |   0.06  0.01  0.04  0.01  0.93  0.03 |   1.07\n",
            "  5 |   0.17  0.05  0.01  0.23  0.02  0.20 |   0.67\n",
            "---------------------------------------------------\n",
            "    |  76.61  2.61 11.87  7.57  1.06  0.27 | \n",
            "\n",
            "Majority Class                     :  0.7733\n",
            "Accuracy                           :  0.9640\n",
            "\n"
          ],
          "name": "stdout"
        }
      ]
    },
    {
      "cell_type": "markdown",
      "metadata": {
        "id": "6sxFc2YnKxNu"
      },
      "source": [
        "**Saving model**"
      ]
    },
    {
      "cell_type": "code",
      "metadata": {
        "id": "X2-tX5WrK69X"
      },
      "source": [
        "save_model(\"drive/MyDrive/models/multiclass.pt\", model)"
      ],
      "execution_count": 116,
      "outputs": []
    },
    {
      "cell_type": "markdown",
      "metadata": {
        "id": "7GNypsLqF2yZ"
      },
      "source": [
        "# Binary Slo classification"
      ]
    },
    {
      "cell_type": "markdown",
      "metadata": {
        "id": "IUal_lBGHIhg"
      },
      "source": [
        "## Setup"
      ]
    },
    {
      "cell_type": "code",
      "metadata": {
        "id": "NmO7fvWwJO1i"
      },
      "source": [
        "binary_data = pd.read_csv('drive/MyDrive/Data/Slo/Binary/data.csv')\n",
        "x,y = run_dataset_preparation(binary_data, \"slo\", remove_stopwords=True, do_lemmatization=True)"
      ],
      "execution_count": 100,
      "outputs": []
    },
    {
      "cell_type": "code",
      "metadata": {
        "colab": {
          "base_uri": "https://localhost:8080/"
        },
        "id": "EvqimCWXJpVx",
        "outputId": "67031f7f-33f1-475c-f90e-eca1fc0a6b5a"
      },
      "source": [
        "model = setup_classifier(\n",
        "    model_name = \"drive/MyDrive/classifiers/bert/CroSloEngual\",\n",
        "    num_labels = 2\n",
        ")\n",
        "\n",
        "model.load_state_dict(load_model(\"drive/MyDrive/models/binary.pt\"))\n",
        "\n",
        "dataset = setup_data(\n",
        "    model_name = \"drive/MyDrive/classifiers/bert/CroSloEngual\",\n",
        "    x = x,\n",
        "    y = y,\n",
        "    do_lower_case = False,\n",
        "    max_length = 180\n",
        ")"
      ],
      "execution_count": 101,
      "outputs": [
        {
          "output_type": "stream",
          "text": [
            "Some weights of the model checkpoint at drive/MyDrive/classifiers/bert/CroSloEngual were not used when initializing BertForSequenceClassification: ['cls.predictions.bias', 'cls.predictions.transform.dense.weight', 'cls.predictions.transform.dense.bias', 'cls.predictions.transform.LayerNorm.weight', 'cls.predictions.transform.LayerNorm.bias', 'cls.predictions.decoder.weight', 'cls.seq_relationship.weight', 'cls.seq_relationship.bias']\n",
            "- This IS expected if you are initializing BertForSequenceClassification from the checkpoint of a model trained on another task or with another architecture (e.g. initializing a BertForSequenceClassification model from a BertForPreTraining model).\n",
            "- This IS NOT expected if you are initializing BertForSequenceClassification from the checkpoint of a model that you expect to be exactly identical (initializing a BertForSequenceClassification model from a BertForSequenceClassification model).\n",
            "Some weights of BertForSequenceClassification were not initialized from the model checkpoint at drive/MyDrive/classifiers/bert/CroSloEngual and are newly initialized: ['classifier.weight', 'classifier.bias']\n",
            "You should probably TRAIN this model on a down-stream task to be able to use it for predictions and inference.\n"
          ],
          "name": "stderr"
        }
      ]
    },
    {
      "cell_type": "markdown",
      "metadata": {
        "id": "6Pps0-nKJebL"
      },
      "source": [
        "## Dataset class distribution"
      ]
    },
    {
      "cell_type": "code",
      "metadata": {
        "colab": {
          "base_uri": "https://localhost:8080/",
          "height": 298
        },
        "id": "0ONk_sMDJh8I",
        "outputId": "907d08b4-f7e8-4ffe-9321-862b32e673cb"
      },
      "source": [
        "class_distribution = distribution_dataset([e[2].item() for e in list(dataset)])\n",
        "print(class_distribution)\n",
        "y = list(class_distribution.keys())\n",
        "x = list(class_distribution.values())\n",
        "plt.bar(y, x, color=\"tab:blue\")"
      ],
      "execution_count": 102,
      "outputs": [
        {
          "output_type": "stream",
          "text": [
            "{0: 1068, 1: 426}\n"
          ],
          "name": "stdout"
        },
        {
          "output_type": "execute_result",
          "data": {
            "text/plain": [
              "<BarContainer object of 2 artists>"
            ]
          },
          "metadata": {
            "tags": []
          },
          "execution_count": 102
        },
        {
          "output_type": "display_data",
          "data": {
            "image/png": "[encoded data removed]",
            "text/plain": [
              "<Figure size 432x288 with 1 Axes>"
            ]
          },
          "metadata": {
            "tags": [],
            "needs_background": "light"
          }
        }
      ]
    },
    {
      "cell_type": "markdown",
      "metadata": {
        "id": "zU5-9XAJKd0e"
      },
      "source": [
        "## Test"
      ]
    },
    {
      "cell_type": "code",
      "metadata": {
        "colab": {
          "base_uri": "https://localhost:8080/"
        },
        "id": "_A1FtiFjKhMW",
        "outputId": "e97956bf-4a29-4133-f22f-bc4c8c6967b0"
      },
      "source": [
        "predictions, true_labels = test_classifier(\n",
        "    model = model,\n",
        "    dataset = dataset,\n",
        "    batch_size = 32\n",
        ")"
      ],
      "execution_count": 103,
      "outputs": [
        {
          "output_type": "stream",
          "text": [
            "There are 1 GPU(s) available.\n",
            "We will use the GPU: Tesla T4\n",
            "\n",
            "Running Prediction...\n",
            "DONE.\n"
          ],
          "name": "stdout"
        }
      ]
    },
    {
      "cell_type": "markdown",
      "metadata": {
        "id": "YA6ec1eWKoP_"
      },
      "source": [
        "## Performance"
      ]
    },
    {
      "cell_type": "code",
      "metadata": {
        "colab": {
          "base_uri": "https://localhost:8080/"
        },
        "id": "ka6vtupgKtDX",
        "outputId": "7ec0bc12-612e-460a-fdd6-bb9c209ea82e"
      },
      "source": [
        "print_performance_metrics(predictions, true_labels)"
      ],
      "execution_count": 104,
      "outputs": [
        {
          "output_type": "stream",
          "text": [
            "\n",
            "Confusion Matrix\n",
            "Rows - Actual\n",
            "Columns - Predicted\n",
            "\n",
            "    |      0     1 | \n",
            "---------------------------\n",
            "  0 |  70.35  1.14 |  71.49\n",
            "  1 |  27.71  0.80 |  28.51\n",
            "---------------------------\n",
            "    |  98.06  1.94 | \n",
            "\n",
            "Majority Class                     :  0.7149\n",
            "Accuracy                           :  0.7115\n",
            "\n",
            "Sensitivity, Recall                :  0.9841\n",
            "Specificity                        :  0.0282\n",
            "Positive Predictive, Precision     :  0.7174\n",
            "Negative Predictive                :  0.4138\n",
            "F1 Score                           :  0.8298\n"
          ],
          "name": "stdout"
        }
      ]
    },
    {
      "cell_type": "markdown",
      "metadata": {
        "id": "6OlFLGTlF-16"
      },
      "source": [
        "# Multiclass Slo classification"
      ]
    },
    {
      "cell_type": "markdown",
      "metadata": {
        "id": "wvOLyHovHLed"
      },
      "source": [
        "## Setup"
      ]
    },
    {
      "cell_type": "code",
      "metadata": {
        "id": "V56lHYT3LMw2"
      },
      "source": [
        "multiclass_data = pd.read_csv('drive/MyDrive/Data/Slo/Multiclass/data.csv')\n",
        "x,y = run_dataset_preparation(multiclass_data, \"slo\", remove_stopwords=True, do_lemmatization=True)"
      ],
      "execution_count": 117,
      "outputs": []
    },
    {
      "cell_type": "code",
      "metadata": {
        "colab": {
          "base_uri": "https://localhost:8080/"
        },
        "id": "-Vt4carMLfbQ",
        "outputId": "70af041e-2af2-4726-efc7-31cef2c6dd3a"
      },
      "source": [
        "model = setup_classifier(\n",
        "    model_name = \"drive/MyDrive/classifiers/bert/CroSloEngual\",\n",
        "    num_labels = 6\n",
        ")\n",
        "\n",
        "model.load_state_dict(load_model(\"drive/MyDrive/models/multiclass.pt\"))\n",
        "\n",
        "dataset = setup_data(\n",
        "    model_name = \"drive/MyDrive/classifiers/bert/CroSloEngual\",\n",
        "    x = x,\n",
        "    y = y,\n",
        "    do_lower_case = False,\n",
        "    max_length = 180\n",
        ")"
      ],
      "execution_count": 118,
      "outputs": [
        {
          "output_type": "stream",
          "text": [
            "Some weights of the model checkpoint at drive/MyDrive/classifiers/bert/CroSloEngual were not used when initializing BertForSequenceClassification: ['cls.predictions.bias', 'cls.predictions.transform.dense.weight', 'cls.predictions.transform.dense.bias', 'cls.predictions.transform.LayerNorm.weight', 'cls.predictions.transform.LayerNorm.bias', 'cls.predictions.decoder.weight', 'cls.seq_relationship.weight', 'cls.seq_relationship.bias']\n",
            "- This IS expected if you are initializing BertForSequenceClassification from the checkpoint of a model trained on another task or with another architecture (e.g. initializing a BertForSequenceClassification model from a BertForPreTraining model).\n",
            "- This IS NOT expected if you are initializing BertForSequenceClassification from the checkpoint of a model that you expect to be exactly identical (initializing a BertForSequenceClassification model from a BertForSequenceClassification model).\n",
            "Some weights of BertForSequenceClassification were not initialized from the model checkpoint at drive/MyDrive/classifiers/bert/CroSloEngual and are newly initialized: ['classifier.weight', 'classifier.bias']\n",
            "You should probably TRAIN this model on a down-stream task to be able to use it for predictions and inference.\n"
          ],
          "name": "stderr"
        }
      ]
    },
    {
      "cell_type": "markdown",
      "metadata": {
        "id": "SW09iJBbLC23"
      },
      "source": [
        "## Dataset class distribution"
      ]
    },
    {
      "cell_type": "code",
      "metadata": {
        "colab": {
          "base_uri": "https://localhost:8080/",
          "height": 298
        },
        "id": "CocSmJk0LtCi",
        "outputId": "685bd225-d1f9-449f-bdc4-f3c6df981aab"
      },
      "source": [
        "class_distribution = distribution_dataset([e[2].item() for e in list(dataset)])\n",
        "print(class_distribution)\n",
        "y = list(class_distribution.keys())\n",
        "x = list(class_distribution.values())\n",
        "plt.bar(y, x, color=\"tab:blue\")"
      ],
      "execution_count": 119,
      "outputs": [
        {
          "output_type": "stream",
          "text": [
            "{0: 1068, 5: 357, 4: 8, 1: 26, 2: 20, 3: 23}\n"
          ],
          "name": "stdout"
        },
        {
          "output_type": "execute_result",
          "data": {
            "text/plain": [
              "<BarContainer object of 6 artists>"
            ]
          },
          "metadata": {
            "tags": []
          },
          "execution_count": 119
        },
        {
          "output_type": "display_data",
          "data": {
            "image/png": "[encoded data removed]",
            "text/plain": [
              "<Figure size 432x288 with 1 Axes>"
            ]
          },
          "metadata": {
            "tags": [],
            "needs_background": "light"
          }
        }
      ]
    },
    {
      "cell_type": "markdown",
      "metadata": {
        "id": "h8_g6yNTLE-U"
      },
      "source": [
        "## Test"
      ]
    },
    {
      "cell_type": "code",
      "metadata": {
        "colab": {
          "base_uri": "https://localhost:8080/"
        },
        "id": "2KRbf7cFR19Q",
        "outputId": "87b6df92-3cd8-44a5-dae1-3696e06bbb37"
      },
      "source": [
        "predictions, true_labels = test_classifier(\n",
        "    model = model,\n",
        "    dataset = dataset,\n",
        "    batch_size = 32\n",
        ")"
      ],
      "execution_count": 120,
      "outputs": [
        {
          "output_type": "stream",
          "text": [
            "There are 1 GPU(s) available.\n",
            "We will use the GPU: Tesla T4\n",
            "\n",
            "Running Prediction...\n",
            "DONE.\n"
          ],
          "name": "stdout"
        }
      ]
    },
    {
      "cell_type": "markdown",
      "metadata": {
        "id": "1XiuvOciLHoR"
      },
      "source": [
        "## Performance"
      ]
    },
    {
      "cell_type": "code",
      "metadata": {
        "colab": {
          "base_uri": "https://localhost:8080/"
        },
        "id": "B5eT-0fFR6o5",
        "outputId": "815ea6fc-7353-479b-b0f1-fa17914c8e50"
      },
      "source": [
        "print_performance_metrics(predictions, true_labels)"
      ],
      "execution_count": 121,
      "outputs": [
        {
          "output_type": "stream",
          "text": [
            "\n",
            "Confusion Matrix\n",
            "Rows - Actual\n",
            "Columns - Predicted\n",
            "\n",
            "    |      0     1     2     3     4     5 | \n",
            "---------------------------------------------------\n",
            "  0 |  70.84  0.13  0.07  0.07  0.00  0.00 |  71.11\n",
            "  1 |   1.73  0.00  0.00  0.00  0.00  0.00 |   1.73\n",
            "  2 |   1.33  0.00  0.00  0.00  0.00  0.00 |   1.33\n",
            "  3 |   1.53  0.00  0.00  0.00  0.00  0.00 |   1.53\n",
            "  4 |   0.53  0.00  0.00  0.00  0.00  0.00 |   0.53\n",
            "  5 |  23.77  0.00  0.00  0.00  0.00  0.00 |  23.77\n",
            "---------------------------------------------------\n",
            "    |  99.73  0.13  0.07  0.07  0.00  0.00 | \n",
            "\n",
            "Majority Class                     :  0.7111\n",
            "Accuracy                           :  0.7084\n",
            "\n"
          ],
          "name": "stdout"
        }
      ]
    }
  ]
}