{
  "nbformat": 4,
  "nbformat_minor": 0,
  "metadata": {
    "colab": {
      "name": "bert-notebook.ipynb",
      "provenance": [],
      "collapsed_sections": [],
      "toc_visible": true
    },
    "kernelspec": {
      "name": "python3",
      "display_name": "Python 3"
    },
    "language_info": {
      "name": "python"
    },
    "accelerator": "GPU",
    "widgets": {
      "application/vnd.jupyter.widget-state+json": {
        "30824b467e854b29a46548b8a3b9355e": {
          "model_module": "@jupyter-widgets/controls",
          "model_name": "HBoxModel",
          "state": {
            "_view_name": "HBoxView",
            "_dom_classes": [],
            "_model_name": "HBoxModel",
            "_view_module": "@jupyter-widgets/controls",
            "_model_module_version": "1.5.0",
            "_view_count": null,
            "_view_module_version": "1.5.0",
            "box_style": "",
            "layout": "IPY_MODEL_a27f4497c9ae41538434080f75f9a66c",
            "_model_module": "@jupyter-widgets/controls",
            "children": [
              "IPY_MODEL_ddcb83bc58d3473ab5d8a901549420fd",
              "IPY_MODEL_b8e398935aeb4dadaaf8285366447c48"
            ]
          }
        },
        "a27f4497c9ae41538434080f75f9a66c": {
          "model_module": "@jupyter-widgets/base",
          "model_name": "LayoutModel",
          "state": {
            "_view_name": "LayoutView",
            "grid_template_rows": null,
            "right": null,
            "justify_content": null,
            "_view_module": "@jupyter-widgets/base",
            "overflow": null,
            "_model_module_version": "1.2.0",
            "_view_count": null,
            "flex_flow": null,
            "width": null,
            "min_width": null,
            "border": null,
            "align_items": null,
            "bottom": null,
            "_model_module": "@jupyter-widgets/base",
            "top": null,
            "grid_column": null,
            "overflow_y": null,
            "overflow_x": null,
            "grid_auto_flow": null,
            "grid_area": null,
            "grid_template_columns": null,
            "flex": null,
            "_model_name": "LayoutModel",
            "justify_items": null,
            "grid_row": null,
            "max_height": null,
            "align_content": null,
            "visibility": null,
            "align_self": null,
            "height": null,
            "min_height": null,
            "padding": null,
            "grid_auto_rows": null,
            "grid_gap": null,
            "max_width": null,
            "order": null,
            "_view_module_version": "1.2.0",
            "grid_template_areas": null,
            "object_position": null,
            "object_fit": null,
            "grid_auto_columns": null,
            "margin": null,
            "display": null,
            "left": null
          }
        },
        "ddcb83bc58d3473ab5d8a901549420fd": {
          "model_module": "@jupyter-widgets/controls",
          "model_name": "FloatProgressModel",
          "state": {
            "_view_name": "ProgressView",
            "style": "IPY_MODEL_56a87427b1a54e16bf8ca15f24963ce6",
            "_dom_classes": [],
            "description": "Downloading: 100%",
            "_model_name": "FloatProgressModel",
            "bar_style": "success",
            "max": 625,
            "_view_module": "@jupyter-widgets/controls",
            "_model_module_version": "1.5.0",
            "value": 625,
            "_view_count": null,
            "_view_module_version": "1.5.0",
            "orientation": "horizontal",
            "min": 0,
            "description_tooltip": null,
            "_model_module": "@jupyter-widgets/controls",
            "layout": "IPY_MODEL_ae8c6d59799a4c93885c66ae54dec598"
          }
        },
        "b8e398935aeb4dadaaf8285366447c48": {
          "model_module": "@jupyter-widgets/controls",
          "model_name": "HTMLModel",
          "state": {
            "_view_name": "HTMLView",
            "style": "IPY_MODEL_8a4483ca965444fbbbe9501ebdf54374",
            "_dom_classes": [],
            "description": "",
            "_model_name": "HTMLModel",
            "placeholder": "​",
            "_view_module": "@jupyter-widgets/controls",
            "_model_module_version": "1.5.0",
            "value": " 625/625 [00:00&lt;00:00, 5.14kB/s]",
            "_view_count": null,
            "_view_module_version": "1.5.0",
            "description_tooltip": null,
            "_model_module": "@jupyter-widgets/controls",
            "layout": "IPY_MODEL_190ab6af28b54fa8bc297e199011da42"
          }
        },
        "56a87427b1a54e16bf8ca15f24963ce6": {
          "model_module": "@jupyter-widgets/controls",
          "model_name": "ProgressStyleModel",
          "state": {
            "_view_name": "StyleView",
            "_model_name": "ProgressStyleModel",
            "description_width": "initial",
            "_view_module": "@jupyter-widgets/base",
            "_model_module_version": "1.5.0",
            "_view_count": null,
            "_view_module_version": "1.2.0",
            "bar_color": null,
            "_model_module": "@jupyter-widgets/controls"
          }
        },
        "ae8c6d59799a4c93885c66ae54dec598": {
          "model_module": "@jupyter-widgets/base",
          "model_name": "LayoutModel",
          "state": {
            "_view_name": "LayoutView",
            "grid_template_rows": null,
            "right": null,
            "justify_content": null,
            "_view_module": "@jupyter-widgets/base",
            "overflow": null,
            "_model_module_version": "1.2.0",
            "_view_count": null,
            "flex_flow": null,
            "width": null,
            "min_width": null,
            "border": null,
            "align_items": null,
            "bottom": null,
            "_model_module": "@jupyter-widgets/base",
            "top": null,
            "grid_column": null,
            "overflow_y": null,
            "overflow_x": null,
            "grid_auto_flow": null,
            "grid_area": null,
            "grid_template_columns": null,
            "flex": null,
            "_model_name": "LayoutModel",
            "justify_items": null,
            "grid_row": null,
            "max_height": null,
            "align_content": null,
            "visibility": null,
            "align_self": null,
            "height": null,
            "min_height": null,
            "padding": null,
            "grid_auto_rows": null,
            "grid_gap": null,
            "max_width": null,
            "order": null,
            "_view_module_version": "1.2.0",
            "grid_template_areas": null,
            "object_position": null,
            "object_fit": null,
            "grid_auto_columns": null,
            "margin": null,
            "display": null,
            "left": null
          }
        },
        "8a4483ca965444fbbbe9501ebdf54374": {
          "model_module": "@jupyter-widgets/controls",
          "model_name": "DescriptionStyleModel",
          "state": {
            "_view_name": "StyleView",
            "_model_name": "DescriptionStyleModel",
            "description_width": "",
            "_view_module": "@jupyter-widgets/base",
            "_model_module_version": "1.5.0",
            "_view_count": null,
            "_view_module_version": "1.2.0",
            "_model_module": "@jupyter-widgets/controls"
          }
        },
        "190ab6af28b54fa8bc297e199011da42": {
          "model_module": "@jupyter-widgets/base",
          "model_name": "LayoutModel",
          "state": {
            "_view_name": "LayoutView",
            "grid_template_rows": null,
            "right": null,
            "justify_content": null,
            "_view_module": "@jupyter-widgets/base",
            "overflow": null,
            "_model_module_version": "1.2.0",
            "_view_count": null,
            "flex_flow": null,
            "width": null,
            "min_width": null,
            "border": null,
            "align_items": null,
            "bottom": null,
            "_model_module": "@jupyter-widgets/base",
            "top": null,
            "grid_column": null,
            "overflow_y": null,
            "overflow_x": null,
            "grid_auto_flow": null,
            "grid_area": null,
            "grid_template_columns": null,
            "flex": null,
            "_model_name": "LayoutModel",
            "justify_items": null,
            "grid_row": null,
            "max_height": null,
            "align_content": null,
            "visibility": null,
            "align_self": null,
            "height": null,
            "min_height": null,
            "padding": null,
            "grid_auto_rows": null,
            "grid_gap": null,
            "max_width": null,
            "order": null,
            "_view_module_version": "1.2.0",
            "grid_template_areas": null,
            "object_position": null,
            "object_fit": null,
            "grid_auto_columns": null,
            "margin": null,
            "display": null,
            "left": null
          }
        },
        "ea744325a059480ab38ef32b8589bc1b": {
          "model_module": "@jupyter-widgets/controls",
          "model_name": "HBoxModel",
          "state": {
            "_view_name": "HBoxView",
            "_dom_classes": [],
            "_model_name": "HBoxModel",
            "_view_module": "@jupyter-widgets/controls",
            "_model_module_version": "1.5.0",
            "_view_count": null,
            "_view_module_version": "1.5.0",
            "box_style": "",
            "layout": "IPY_MODEL_cae606e670f647b293c67d38a1d7bb10",
            "_model_module": "@jupyter-widgets/controls",
            "children": [
              "IPY_MODEL_e563e06ffd5e43a983adf60095aa149b",
              "IPY_MODEL_8735f9a34cf54cd89bbe57706e30eb31"
            ]
          }
        },
        "cae606e670f647b293c67d38a1d7bb10": {
          "model_module": "@jupyter-widgets/base",
          "model_name": "LayoutModel",
          "state": {
            "_view_name": "LayoutView",
            "grid_template_rows": null,
            "right": null,
            "justify_content": null,
            "_view_module": "@jupyter-widgets/base",
            "overflow": null,
            "_model_module_version": "1.2.0",
            "_view_count": null,
            "flex_flow": null,
            "width": null,
            "min_width": null,
            "border": null,
            "align_items": null,
            "bottom": null,
            "_model_module": "@jupyter-widgets/base",
            "top": null,
            "grid_column": null,
            "overflow_y": null,
            "overflow_x": null,
            "grid_auto_flow": null,
            "grid_area": null,
            "grid_template_columns": null,
            "flex": null,
            "_model_name": "LayoutModel",
            "justify_items": null,
            "grid_row": null,
            "max_height": null,
            "align_content": null,
            "visibility": null,
            "align_self": null,
            "height": null,
            "min_height": null,
            "padding": null,
            "grid_auto_rows": null,
            "grid_gap": null,
            "max_width": null,
            "order": null,
            "_view_module_version": "1.2.0",
            "grid_template_areas": null,
            "object_position": null,
            "object_fit": null,
            "grid_auto_columns": null,
            "margin": null,
            "display": null,
            "left": null
          }
        },
        "e563e06ffd5e43a983adf60095aa149b": {
          "model_module": "@jupyter-widgets/controls",
          "model_name": "FloatProgressModel",
          "state": {
            "_view_name": "ProgressView",
            "style": "IPY_MODEL_973f9c2ba14041adaec40729fb3adb24",
            "_dom_classes": [],
            "description": "Downloading: 100%",
            "_model_name": "FloatProgressModel",
            "bar_style": "success",
            "max": 714314041,
            "_view_module": "@jupyter-widgets/controls",
            "_model_module_version": "1.5.0",
            "value": 714314041,
            "_view_count": null,
            "_view_module_version": "1.5.0",
            "orientation": "horizontal",
            "min": 0,
            "description_tooltip": null,
            "_model_module": "@jupyter-widgets/controls",
            "layout": "IPY_MODEL_7b065843752249e5aad95dbb323d998c"
          }
        },
        "8735f9a34cf54cd89bbe57706e30eb31": {
          "model_module": "@jupyter-widgets/controls",
          "model_name": "HTMLModel",
          "state": {
            "_view_name": "HTMLView",
            "style": "IPY_MODEL_319d5a5ca4b24896a5ec7d683025637b",
            "_dom_classes": [],
            "description": "",
            "_model_name": "HTMLModel",
            "placeholder": "​",
            "_view_module": "@jupyter-widgets/controls",
            "_model_module_version": "1.5.0",
            "value": " 714M/714M [00:19&lt;00:00, 35.8MB/s]",
            "_view_count": null,
            "_view_module_version": "1.5.0",
            "description_tooltip": null,
            "_model_module": "@jupyter-widgets/controls",
            "layout": "IPY_MODEL_e194ca364b48479bbf498a2b2066a241"
          }
        },
        "973f9c2ba14041adaec40729fb3adb24": {
          "model_module": "@jupyter-widgets/controls",
          "model_name": "ProgressStyleModel",
          "state": {
            "_view_name": "StyleView",
            "_model_name": "ProgressStyleModel",
            "description_width": "initial",
            "_view_module": "@jupyter-widgets/base",
            "_model_module_version": "1.5.0",
            "_view_count": null,
            "_view_module_version": "1.2.0",
            "bar_color": null,
            "_model_module": "@jupyter-widgets/controls"
          }
        },
        "7b065843752249e5aad95dbb323d998c": {
          "model_module": "@jupyter-widgets/base",
          "model_name": "LayoutModel",
          "state": {
            "_view_name": "LayoutView",
            "grid_template_rows": null,
            "right": null,
            "justify_content": null,
            "_view_module": "@jupyter-widgets/base",
            "overflow": null,
            "_model_module_version": "1.2.0",
            "_view_count": null,
            "flex_flow": null,
            "width": null,
            "min_width": null,
            "border": null,
            "align_items": null,
            "bottom": null,
            "_model_module": "@jupyter-widgets/base",
            "top": null,
            "grid_column": null,
            "overflow_y": null,
            "overflow_x": null,
            "grid_auto_flow": null,
            "grid_area": null,
            "grid_template_columns": null,
            "flex": null,
            "_model_name": "LayoutModel",
            "justify_items": null,
            "grid_row": null,
            "max_height": null,
            "align_content": null,
            "visibility": null,
            "align_self": null,
            "height": null,
            "min_height": null,
            "padding": null,
            "grid_auto_rows": null,
            "grid_gap": null,
            "max_width": null,
            "order": null,
            "_view_module_version": "1.2.0",
            "grid_template_areas": null,
            "object_position": null,
            "object_fit": null,
            "grid_auto_columns": null,
            "margin": null,
            "display": null,
            "left": null
          }
        },
        "319d5a5ca4b24896a5ec7d683025637b": {
          "model_module": "@jupyter-widgets/controls",
          "model_name": "DescriptionStyleModel",
          "state": {
            "_view_name": "StyleView",
            "_model_name": "DescriptionStyleModel",
            "description_width": "",
            "_view_module": "@jupyter-widgets/base",
            "_model_module_version": "1.5.0",
            "_view_count": null,
            "_view_module_version": "1.2.0",
            "_model_module": "@jupyter-widgets/controls"
          }
        },
        "e194ca364b48479bbf498a2b2066a241": {
          "model_module": "@jupyter-widgets/base",
          "model_name": "LayoutModel",
          "state": {
            "_view_name": "LayoutView",
            "grid_template_rows": null,
            "right": null,
            "justify_content": null,
            "_view_module": "@jupyter-widgets/base",
            "overflow": null,
            "_model_module_version": "1.2.0",
            "_view_count": null,
            "flex_flow": null,
            "width": null,
            "min_width": null,
            "border": null,
            "align_items": null,
            "bottom": null,
            "_model_module": "@jupyter-widgets/base",
            "top": null,
            "grid_column": null,
            "overflow_y": null,
            "overflow_x": null,
            "grid_auto_flow": null,
            "grid_area": null,
            "grid_template_columns": null,
            "flex": null,
            "_model_name": "LayoutModel",
            "justify_items": null,
            "grid_row": null,
            "max_height": null,
            "align_content": null,
            "visibility": null,
            "align_self": null,
            "height": null,
            "min_height": null,
            "padding": null,
            "grid_auto_rows": null,
            "grid_gap": null,
            "max_width": null,
            "order": null,
            "_view_module_version": "1.2.0",
            "grid_template_areas": null,
            "object_position": null,
            "object_fit": null,
            "grid_auto_columns": null,
            "margin": null,
            "display": null,
            "left": null
          }
        },
        "3b4ce007377a45739386ef74ce8b2789": {
          "model_module": "@jupyter-widgets/controls",
          "model_name": "HBoxModel",
          "state": {
            "_view_name": "HBoxView",
            "_dom_classes": [],
            "_model_name": "HBoxModel",
            "_view_module": "@jupyter-widgets/controls",
            "_model_module_version": "1.5.0",
            "_view_count": null,
            "_view_module_version": "1.5.0",
            "box_style": "",
            "layout": "IPY_MODEL_73231deabc3b4b7197b9520ccf30e490",
            "_model_module": "@jupyter-widgets/controls",
            "children": [
              "IPY_MODEL_2f87ff0866454649a8f5faf4e536b2a0",
              "IPY_MODEL_cac4118e8b9d4a9b8238eb235ca112ed"
            ]
          }
        },
        "73231deabc3b4b7197b9520ccf30e490": {
          "model_module": "@jupyter-widgets/base",
          "model_name": "LayoutModel",
          "state": {
            "_view_name": "LayoutView",
            "grid_template_rows": null,
            "right": null,
            "justify_content": null,
            "_view_module": "@jupyter-widgets/base",
            "overflow": null,
            "_model_module_version": "1.2.0",
            "_view_count": null,
            "flex_flow": null,
            "width": null,
            "min_width": null,
            "border": null,
            "align_items": null,
            "bottom": null,
            "_model_module": "@jupyter-widgets/base",
            "top": null,
            "grid_column": null,
            "overflow_y": null,
            "overflow_x": null,
            "grid_auto_flow": null,
            "grid_area": null,
            "grid_template_columns": null,
            "flex": null,
            "_model_name": "LayoutModel",
            "justify_items": null,
            "grid_row": null,
            "max_height": null,
            "align_content": null,
            "visibility": null,
            "align_self": null,
            "height": null,
            "min_height": null,
            "padding": null,
            "grid_auto_rows": null,
            "grid_gap": null,
            "max_width": null,
            "order": null,
            "_view_module_version": "1.2.0",
            "grid_template_areas": null,
            "object_position": null,
            "object_fit": null,
            "grid_auto_columns": null,
            "margin": null,
            "display": null,
            "left": null
          }
        },
        "2f87ff0866454649a8f5faf4e536b2a0": {
          "model_module": "@jupyter-widgets/controls",
          "model_name": "FloatProgressModel",
          "state": {
            "_view_name": "ProgressView",
            "style": "IPY_MODEL_45e5f567fb3741f798512ed06382bacd",
            "_dom_classes": [],
            "description": "Downloading: 100%",
            "_model_name": "FloatProgressModel",
            "bar_style": "success",
            "max": 995526,
            "_view_module": "@jupyter-widgets/controls",
            "_model_module_version": "1.5.0",
            "value": 995526,
            "_view_count": null,
            "_view_module_version": "1.5.0",
            "orientation": "horizontal",
            "min": 0,
            "description_tooltip": null,
            "_model_module": "@jupyter-widgets/controls",
            "layout": "IPY_MODEL_3b6c4a2d510248a597087519c29ccb71"
          }
        },
        "cac4118e8b9d4a9b8238eb235ca112ed": {
          "model_module": "@jupyter-widgets/controls",
          "model_name": "HTMLModel",
          "state": {
            "_view_name": "HTMLView",
            "style": "IPY_MODEL_50861c6be22a4e38afea8fcfc948e5b1",
            "_dom_classes": [],
            "description": "",
            "_model_name": "HTMLModel",
            "placeholder": "​",
            "_view_module": "@jupyter-widgets/controls",
            "_model_module_version": "1.5.0",
            "value": " 996k/996k [00:00&lt;00:00, 3.60MB/s]",
            "_view_count": null,
            "_view_module_version": "1.5.0",
            "description_tooltip": null,
            "_model_module": "@jupyter-widgets/controls",
            "layout": "IPY_MODEL_9dfb84525f47437e8f823c1240c960c4"
          }
        },
        "45e5f567fb3741f798512ed06382bacd": {
          "model_module": "@jupyter-widgets/controls",
          "model_name": "ProgressStyleModel",
          "state": {
            "_view_name": "StyleView",
            "_model_name": "ProgressStyleModel",
            "description_width": "initial",
            "_view_module": "@jupyter-widgets/base",
            "_model_module_version": "1.5.0",
            "_view_count": null,
            "_view_module_version": "1.2.0",
            "bar_color": null,
            "_model_module": "@jupyter-widgets/controls"
          }
        },
        "3b6c4a2d510248a597087519c29ccb71": {
          "model_module": "@jupyter-widgets/base",
          "model_name": "LayoutModel",
          "state": {
            "_view_name": "LayoutView",
            "grid_template_rows": null,
            "right": null,
            "justify_content": null,
            "_view_module": "@jupyter-widgets/base",
            "overflow": null,
            "_model_module_version": "1.2.0",
            "_view_count": null,
            "flex_flow": null,
            "width": null,
            "min_width": null,
            "border": null,
            "align_items": null,
            "bottom": null,
            "_model_module": "@jupyter-widgets/base",
            "top": null,
            "grid_column": null,
            "overflow_y": null,
            "overflow_x": null,
            "grid_auto_flow": null,
            "grid_area": null,
            "grid_template_columns": null,
            "flex": null,
            "_model_name": "LayoutModel",
            "justify_items": null,
            "grid_row": null,
            "max_height": null,
            "align_content": null,
            "visibility": null,
            "align_self": null,
            "height": null,
            "min_height": null,
            "padding": null,
            "grid_auto_rows": null,
            "grid_gap": null,
            "max_width": null,
            "order": null,
            "_view_module_version": "1.2.0",
            "grid_template_areas": null,
            "object_position": null,
            "object_fit": null,
            "grid_auto_columns": null,
            "margin": null,
            "display": null,
            "left": null
          }
        },
        "50861c6be22a4e38afea8fcfc948e5b1": {
          "model_module": "@jupyter-widgets/controls",
          "model_name": "DescriptionStyleModel",
          "state": {
            "_view_name": "StyleView",
            "_model_name": "DescriptionStyleModel",
            "description_width": "",
            "_view_module": "@jupyter-widgets/base",
            "_model_module_version": "1.5.0",
            "_view_count": null,
            "_view_module_version": "1.2.0",
            "_model_module": "@jupyter-widgets/controls"
          }
        },
        "9dfb84525f47437e8f823c1240c960c4": {
          "model_module": "@jupyter-widgets/base",
          "model_name": "LayoutModel",
          "state": {
            "_view_name": "LayoutView",
            "grid_template_rows": null,
            "right": null,
            "justify_content": null,
            "_view_module": "@jupyter-widgets/base",
            "overflow": null,
            "_model_module_version": "1.2.0",
            "_view_count": null,
            "flex_flow": null,
            "width": null,
            "min_width": null,
            "border": null,
            "align_items": null,
            "bottom": null,
            "_model_module": "@jupyter-widgets/base",
            "top": null,
            "grid_column": null,
            "overflow_y": null,
            "overflow_x": null,
            "grid_auto_flow": null,
            "grid_area": null,
            "grid_template_columns": null,
            "flex": null,
            "_model_name": "LayoutModel",
            "justify_items": null,
            "grid_row": null,
            "max_height": null,
            "align_content": null,
            "visibility": null,
            "align_self": null,
            "height": null,
            "min_height": null,
            "padding": null,
            "grid_auto_rows": null,
            "grid_gap": null,
            "max_width": null,
            "order": null,
            "_view_module_version": "1.2.0",
            "grid_template_areas": null,
            "object_position": null,
            "object_fit": null,
            "grid_auto_columns": null,
            "margin": null,
            "display": null,
            "left": null
          }
        },
        "fbb3048d6ab740b78355564a03a52be6": {
          "model_module": "@jupyter-widgets/controls",
          "model_name": "HBoxModel",
          "state": {
            "_view_name": "HBoxView",
            "_dom_classes": [],
            "_model_name": "HBoxModel",
            "_view_module": "@jupyter-widgets/controls",
            "_model_module_version": "1.5.0",
            "_view_count": null,
            "_view_module_version": "1.5.0",
            "box_style": "",
            "layout": "IPY_MODEL_cd711f55ac4d41de99fbb579980b2964",
            "_model_module": "@jupyter-widgets/controls",
            "children": [
              "IPY_MODEL_a5c7c5ccdbbe4e78a00fe54c6e0f53b4",
              "IPY_MODEL_09de554e07c5471ca68736583f06d379"
            ]
          }
        },
        "cd711f55ac4d41de99fbb579980b2964": {
          "model_module": "@jupyter-widgets/base",
          "model_name": "LayoutModel",
          "state": {
            "_view_name": "LayoutView",
            "grid_template_rows": null,
            "right": null,
            "justify_content": null,
            "_view_module": "@jupyter-widgets/base",
            "overflow": null,
            "_model_module_version": "1.2.0",
            "_view_count": null,
            "flex_flow": null,
            "width": null,
            "min_width": null,
            "border": null,
            "align_items": null,
            "bottom": null,
            "_model_module": "@jupyter-widgets/base",
            "top": null,
            "grid_column": null,
            "overflow_y": null,
            "overflow_x": null,
            "grid_auto_flow": null,
            "grid_area": null,
            "grid_template_columns": null,
            "flex": null,
            "_model_name": "LayoutModel",
            "justify_items": null,
            "grid_row": null,
            "max_height": null,
            "align_content": null,
            "visibility": null,
            "align_self": null,
            "height": null,
            "min_height": null,
            "padding": null,
            "grid_auto_rows": null,
            "grid_gap": null,
            "max_width": null,
            "order": null,
            "_view_module_version": "1.2.0",
            "grid_template_areas": null,
            "object_position": null,
            "object_fit": null,
            "grid_auto_columns": null,
            "margin": null,
            "display": null,
            "left": null
          }
        },
        "a5c7c5ccdbbe4e78a00fe54c6e0f53b4": {
          "model_module": "@jupyter-widgets/controls",
          "model_name": "FloatProgressModel",
          "state": {
            "_view_name": "ProgressView",
            "style": "IPY_MODEL_b661929037554c858f391c1046fd210b",
            "_dom_classes": [],
            "description": "Downloading: 100%",
            "_model_name": "FloatProgressModel",
            "bar_style": "success",
            "max": 29,
            "_view_module": "@jupyter-widgets/controls",
            "_model_module_version": "1.5.0",
            "value": 29,
            "_view_count": null,
            "_view_module_version": "1.5.0",
            "orientation": "horizontal",
            "min": 0,
            "description_tooltip": null,
            "_model_module": "@jupyter-widgets/controls",
            "layout": "IPY_MODEL_4c988c36e2144f1a845459fde2bfce4e"
          }
        },
        "09de554e07c5471ca68736583f06d379": {
          "model_module": "@jupyter-widgets/controls",
          "model_name": "HTMLModel",
          "state": {
            "_view_name": "HTMLView",
            "style": "IPY_MODEL_033b314ac7694da28ef816e0c740ed46",
            "_dom_classes": [],
            "description": "",
            "_model_name": "HTMLModel",
            "placeholder": "​",
            "_view_module": "@jupyter-widgets/controls",
            "_model_module_version": "1.5.0",
            "value": " 29.0/29.0 [00:00&lt;00:00, 230B/s]",
            "_view_count": null,
            "_view_module_version": "1.5.0",
            "description_tooltip": null,
            "_model_module": "@jupyter-widgets/controls",
            "layout": "IPY_MODEL_6cc818e2e71848b49c35a5ff9e74a8ef"
          }
        },
        "b661929037554c858f391c1046fd210b": {
          "model_module": "@jupyter-widgets/controls",
          "model_name": "ProgressStyleModel",
          "state": {
            "_view_name": "StyleView",
            "_model_name": "ProgressStyleModel",
            "description_width": "initial",
            "_view_module": "@jupyter-widgets/base",
            "_model_module_version": "1.5.0",
            "_view_count": null,
            "_view_module_version": "1.2.0",
            "bar_color": null,
            "_model_module": "@jupyter-widgets/controls"
          }
        },
        "4c988c36e2144f1a845459fde2bfce4e": {
          "model_module": "@jupyter-widgets/base",
          "model_name": "LayoutModel",
          "state": {
            "_view_name": "LayoutView",
            "grid_template_rows": null,
            "right": null,
            "justify_content": null,
            "_view_module": "@jupyter-widgets/base",
            "overflow": null,
            "_model_module_version": "1.2.0",
            "_view_count": null,
            "flex_flow": null,
            "width": null,
            "min_width": null,
            "border": null,
            "align_items": null,
            "bottom": null,
            "_model_module": "@jupyter-widgets/base",
            "top": null,
            "grid_column": null,
            "overflow_y": null,
            "overflow_x": null,
            "grid_auto_flow": null,
            "grid_area": null,
            "grid_template_columns": null,
            "flex": null,
            "_model_name": "LayoutModel",
            "justify_items": null,
            "grid_row": null,
            "max_height": null,
            "align_content": null,
            "visibility": null,
            "align_self": null,
            "height": null,
            "min_height": null,
            "padding": null,
            "grid_auto_rows": null,
            "grid_gap": null,
            "max_width": null,
            "order": null,
            "_view_module_version": "1.2.0",
            "grid_template_areas": null,
            "object_position": null,
            "object_fit": null,
            "grid_auto_columns": null,
            "margin": null,
            "display": null,
            "left": null
          }
        },
        "033b314ac7694da28ef816e0c740ed46": {
          "model_module": "@jupyter-widgets/controls",
          "model_name": "DescriptionStyleModel",
          "state": {
            "_view_name": "StyleView",
            "_model_name": "DescriptionStyleModel",
            "description_width": "",
            "_view_module": "@jupyter-widgets/base",
            "_model_module_version": "1.5.0",
            "_view_count": null,
            "_view_module_version": "1.2.0",
            "_model_module": "@jupyter-widgets/controls"
          }
        },
        "6cc818e2e71848b49c35a5ff9e74a8ef": {
          "model_module": "@jupyter-widgets/base",
          "model_name": "LayoutModel",
          "state": {
            "_view_name": "LayoutView",
            "grid_template_rows": null,
            "right": null,
            "justify_content": null,
            "_view_module": "@jupyter-widgets/base",
            "overflow": null,
            "_model_module_version": "1.2.0",
            "_view_count": null,
            "flex_flow": null,
            "width": null,
            "min_width": null,
            "border": null,
            "align_items": null,
            "bottom": null,
            "_model_module": "@jupyter-widgets/base",
            "top": null,
            "grid_column": null,
            "overflow_y": null,
            "overflow_x": null,
            "grid_auto_flow": null,
            "grid_area": null,
            "grid_template_columns": null,
            "flex": null,
            "_model_name": "LayoutModel",
            "justify_items": null,
            "grid_row": null,
            "max_height": null,
            "align_content": null,
            "visibility": null,
            "align_self": null,
            "height": null,
            "min_height": null,
            "padding": null,
            "grid_auto_rows": null,
            "grid_gap": null,
            "max_width": null,
            "order": null,
            "_view_module_version": "1.2.0",
            "grid_template_areas": null,
            "object_position": null,
            "object_fit": null,
            "grid_auto_columns": null,
            "margin": null,
            "display": null,
            "left": null
          }
        },
        "f60f41be999e4144b1daaacdd659251a": {
          "model_module": "@jupyter-widgets/controls",
          "model_name": "HBoxModel",
          "state": {
            "_view_name": "HBoxView",
            "_dom_classes": [],
            "_model_name": "HBoxModel",
            "_view_module": "@jupyter-widgets/controls",
            "_model_module_version": "1.5.0",
            "_view_count": null,
            "_view_module_version": "1.5.0",
            "box_style": "",
            "layout": "IPY_MODEL_27af0f1b47b24ef6b21f43f5fa1da6ce",
            "_model_module": "@jupyter-widgets/controls",
            "children": [
              "IPY_MODEL_f4dc667001124876bd5b752e64899873",
              "IPY_MODEL_936bdd9bef3a488aac6048d2e9f10706"
            ]
          }
        },
        "27af0f1b47b24ef6b21f43f5fa1da6ce": {
          "model_module": "@jupyter-widgets/base",
          "model_name": "LayoutModel",
          "state": {
            "_view_name": "LayoutView",
            "grid_template_rows": null,
            "right": null,
            "justify_content": null,
            "_view_module": "@jupyter-widgets/base",
            "overflow": null,
            "_model_module_version": "1.2.0",
            "_view_count": null,
            "flex_flow": null,
            "width": null,
            "min_width": null,
            "border": null,
            "align_items": null,
            "bottom": null,
            "_model_module": "@jupyter-widgets/base",
            "top": null,
            "grid_column": null,
            "overflow_y": null,
            "overflow_x": null,
            "grid_auto_flow": null,
            "grid_area": null,
            "grid_template_columns": null,
            "flex": null,
            "_model_name": "LayoutModel",
            "justify_items": null,
            "grid_row": null,
            "max_height": null,
            "align_content": null,
            "visibility": null,
            "align_self": null,
            "height": null,
            "min_height": null,
            "padding": null,
            "grid_auto_rows": null,
            "grid_gap": null,
            "max_width": null,
            "order": null,
            "_view_module_version": "1.2.0",
            "grid_template_areas": null,
            "object_position": null,
            "object_fit": null,
            "grid_auto_columns": null,
            "margin": null,
            "display": null,
            "left": null
          }
        },
        "f4dc667001124876bd5b752e64899873": {
          "model_module": "@jupyter-widgets/controls",
          "model_name": "FloatProgressModel",
          "state": {
            "_view_name": "ProgressView",
            "style": "IPY_MODEL_71e3a2c2ee5a49aeadd86b5a3dab94d6",
            "_dom_classes": [],
            "description": "Downloading: 100%",
            "_model_name": "FloatProgressModel",
            "bar_style": "success",
            "max": 1961828,
            "_view_module": "@jupyter-widgets/controls",
            "_model_module_version": "1.5.0",
            "value": 1961828,
            "_view_count": null,
            "_view_module_version": "1.5.0",
            "orientation": "horizontal",
            "min": 0,
            "description_tooltip": null,
            "_model_module": "@jupyter-widgets/controls",
            "layout": "IPY_MODEL_ca7307b4c4c34e948184dd8a5cb8af4c"
          }
        },
        "936bdd9bef3a488aac6048d2e9f10706": {
          "model_module": "@jupyter-widgets/controls",
          "model_name": "HTMLModel",
          "state": {
            "_view_name": "HTMLView",
            "style": "IPY_MODEL_a86f4fb9ba8c49ff901e4bbbf3c28250",
            "_dom_classes": [],
            "description": "",
            "_model_name": "HTMLModel",
            "placeholder": "​",
            "_view_module": "@jupyter-widgets/controls",
            "_model_module_version": "1.5.0",
            "value": " 1.96M/1.96M [00:00&lt;00:00, 9.06MB/s]",
            "_view_count": null,
            "_view_module_version": "1.5.0",
            "description_tooltip": null,
            "_model_module": "@jupyter-widgets/controls",
            "layout": "IPY_MODEL_2a3d043bfddd48cfbb70f1b8911748f6"
          }
        },
        "71e3a2c2ee5a49aeadd86b5a3dab94d6": {
          "model_module": "@jupyter-widgets/controls",
          "model_name": "ProgressStyleModel",
          "state": {
            "_view_name": "StyleView",
            "_model_name": "ProgressStyleModel",
            "description_width": "initial",
            "_view_module": "@jupyter-widgets/base",
            "_model_module_version": "1.5.0",
            "_view_count": null,
            "_view_module_version": "1.2.0",
            "bar_color": null,
            "_model_module": "@jupyter-widgets/controls"
          }
        },
        "ca7307b4c4c34e948184dd8a5cb8af4c": {
          "model_module": "@jupyter-widgets/base",
          "model_name": "LayoutModel",
          "state": {
            "_view_name": "LayoutView",
            "grid_template_rows": null,
            "right": null,
            "justify_content": null,
            "_view_module": "@jupyter-widgets/base",
            "overflow": null,
            "_model_module_version": "1.2.0",
            "_view_count": null,
            "flex_flow": null,
            "width": null,
            "min_width": null,
            "border": null,
            "align_items": null,
            "bottom": null,
            "_model_module": "@jupyter-widgets/base",
            "top": null,
            "grid_column": null,
            "overflow_y": null,
            "overflow_x": null,
            "grid_auto_flow": null,
            "grid_area": null,
            "grid_template_columns": null,
            "flex": null,
            "_model_name": "LayoutModel",
            "justify_items": null,
            "grid_row": null,
            "max_height": null,
            "align_content": null,
            "visibility": null,
            "align_self": null,
            "height": null,
            "min_height": null,
            "padding": null,
            "grid_auto_rows": null,
            "grid_gap": null,
            "max_width": null,
            "order": null,
            "_view_module_version": "1.2.0",
            "grid_template_areas": null,
            "object_position": null,
            "object_fit": null,
            "grid_auto_columns": null,
            "margin": null,
            "display": null,
            "left": null
          }
        },
        "a86f4fb9ba8c49ff901e4bbbf3c28250": {
          "model_module": "@jupyter-widgets/controls",
          "model_name": "DescriptionStyleModel",
          "state": {
            "_view_name": "StyleView",
            "_model_name": "DescriptionStyleModel",
            "description_width": "",
            "_view_module": "@jupyter-widgets/base",
            "_model_module_version": "1.5.0",
            "_view_count": null,
            "_view_module_version": "1.2.0",
            "_model_module": "@jupyter-widgets/controls"
          }
        },
        "2a3d043bfddd48cfbb70f1b8911748f6": {
          "model_module": "@jupyter-widgets/base",
          "model_name": "LayoutModel",
          "state": {
            "_view_name": "LayoutView",
            "grid_template_rows": null,
            "right": null,
            "justify_content": null,
            "_view_module": "@jupyter-widgets/base",
            "overflow": null,
            "_model_module_version": "1.2.0",
            "_view_count": null,
            "flex_flow": null,
            "width": null,
            "min_width": null,
            "border": null,
            "align_items": null,
            "bottom": null,
            "_model_module": "@jupyter-widgets/base",
            "top": null,
            "grid_column": null,
            "overflow_y": null,
            "overflow_x": null,
            "grid_auto_flow": null,
            "grid_area": null,
            "grid_template_columns": null,
            "flex": null,
            "_model_name": "LayoutModel",
            "justify_items": null,
            "grid_row": null,
            "max_height": null,
            "align_content": null,
            "visibility": null,
            "align_self": null,
            "height": null,
            "min_height": null,
            "padding": null,
            "grid_auto_rows": null,
            "grid_gap": null,
            "max_width": null,
            "order": null,
            "_view_module_version": "1.2.0",
            "grid_template_areas": null,
            "object_position": null,
            "object_fit": null,
            "grid_auto_columns": null,
            "margin": null,
            "display": null,
            "left": null
          }
        }
      }
    }
  },
  "cells": [
    {
      "cell_type": "markdown",
      "metadata": {
        "id": "kDMqDAAAmiLD"
      },
      "source": [
        "**I/O device register**"
      ]
    },
    {
      "cell_type": "code",
      "metadata": {
        "colab": {
          "base_uri": "https://localhost:8080/"
        },
        "id": "NVR711hafvAy",
        "outputId": "12e4e7a9-c6ca-4eea-de57-7ff928e1f3da"
      },
      "source": [
        "!nvidia-smi"
      ],
      "execution_count": 1,
      "outputs": [
        {
          "output_type": "stream",
          "text": [
            "Fri May 21 10:27:53 2021       \n",
            "+-----------------------------------------------------------------------------+\n",
            "| NVIDIA-SMI 465.19.01    Driver Version: 460.32.03    CUDA Version: 11.2     |\n",
            "|-------------------------------+----------------------+----------------------+\n",
            "| GPU  Name        Persistence-M| Bus-Id        Disp.A | Volatile Uncorr. ECC |\n",
            "| Fan  Temp  Perf  Pwr:Usage/Cap|         Memory-Usage | GPU-Util  Compute M. |\n",
            "|                               |                      |               MIG M. |\n",
            "|===============================+======================+======================|\n",
            "|   0  Tesla T4            Off  | 00000000:00:04.0 Off |                    0 |\n",
            "| N/A   49C    P8    10W /  70W |      0MiB / 15109MiB |      0%      Default |\n",
            "|                               |                      |                  N/A |\n",
            "+-------------------------------+----------------------+----------------------+\n",
            "                                                                               \n",
            "+-----------------------------------------------------------------------------+\n",
            "| Processes:                                                                  |\n",
            "|  GPU   GI   CI        PID   Type   Process name                  GPU Memory |\n",
            "|        ID   ID                                                   Usage      |\n",
            "|=============================================================================|\n",
            "|  No running processes found                                                 |\n",
            "+-----------------------------------------------------------------------------+\n"
          ],
          "name": "stdout"
        }
      ]
    },
    {
      "cell_type": "code",
      "metadata": {
        "colab": {
          "base_uri": "https://localhost:8080/"
        },
        "id": "U2q6Ix5Fl2s3",
        "outputId": "5605328d-da09-444a-f2bd-8765a2bd8db8"
      },
      "source": [
        "from google.colab import drive\n",
        "drive.mount('/content/drive')"
      ],
      "execution_count": 2,
      "outputs": [
        {
          "output_type": "stream",
          "text": [
            "Mounted at /content/drive\n"
          ],
          "name": "stdout"
        }
      ]
    },
    {
      "cell_type": "markdown",
      "metadata": {
        "id": "Ek7kHsU3nTBN"
      },
      "source": [
        "**Install required libraries**"
      ]
    },
    {
      "cell_type": "code",
      "metadata": {
        "colab": {
          "base_uri": "https://localhost:8080/"
        },
        "id": "1yKQ4IG6nXJT",
        "outputId": "2bc47d49-c41b-4bdf-87d4-abe341f829ac"
      },
      "source": [
        "!pip3 install transformers pandas nltk spacy classla"
      ],
      "execution_count": 3,
      "outputs": [
        {
          "output_type": "stream",
          "text": [
            "Collecting transformers\n",
            "\u001b[?25l  Downloading https://files.pythonhosted.org/packages/d5/43/cfe4ee779bbd6a678ac6a97c5a5cdeb03c35f9eaebbb9720b036680f9a2d/transformers-4.6.1-py3-none-any.whl (2.2MB)\n",
            "\u001b[K     |████████████████████████████████| 2.3MB 7.4MB/s \n",
            "\u001b[?25hRequirement already satisfied: pandas in /usr/local/lib/python3.7/dist-packages (1.1.5)\n",
            "Requirement already satisfied: nltk in /usr/local/lib/python3.7/dist-packages (3.2.5)\n",
            "Requirement already satisfied: spacy in /usr/local/lib/python3.7/dist-packages (2.2.4)\n",
            "Collecting classla\n",
            "\u001b[?25l  Downloading https://files.pythonhosted.org/packages/59/be/d631a7bb19101c87d608426e50624add2370cc7fe19c6775a9ad4d39f280/classla-1.0.1-py3-none-any.whl (259kB)\n",
            "\u001b[K     |████████████████████████████████| 266kB 52.1MB/s \n",
            "\u001b[?25hRequirement already satisfied: numpy>=1.17 in /usr/local/lib/python3.7/dist-packages (from transformers) (1.19.5)\n",
            "Collecting sacremoses\n",
            "\u001b[?25l  Downloading https://files.pythonhosted.org/packages/75/ee/67241dc87f266093c533a2d4d3d69438e57d7a90abb216fa076e7d475d4a/sacremoses-0.0.45-py3-none-any.whl (895kB)\n",
            "\u001b[K     |████████████████████████████████| 901kB 52.8MB/s \n",
            "\u001b[?25hCollecting huggingface-hub==0.0.8\n",
            "  Downloading https://files.pythonhosted.org/packages/a1/88/7b1e45720ecf59c6c6737ff332f41c955963090a18e72acbcbeac6b25e86/huggingface_hub-0.0.8-py3-none-any.whl\n",
            "Requirement already satisfied: requests in /usr/local/lib/python3.7/dist-packages (from transformers) (2.23.0)\n",
            "Requirement already satisfied: tqdm>=4.27 in /usr/local/lib/python3.7/dist-packages (from transformers) (4.41.1)\n",
            "Requirement already satisfied: importlib-metadata; python_version < \"3.8\" in /usr/local/lib/python3.7/dist-packages (from transformers) (4.0.1)\n",
            "Collecting tokenizers<0.11,>=0.10.1\n",
            "\u001b[?25l  Downloading https://files.pythonhosted.org/packages/ae/04/5b870f26a858552025a62f1649c20d29d2672c02ff3c3fb4c688ca46467a/tokenizers-0.10.2-cp37-cp37m-manylinux2010_x86_64.whl (3.3MB)\n",
            "\u001b[K     |████████████████████████████████| 3.3MB 49.5MB/s \n",
            "\u001b[?25hRequirement already satisfied: filelock in /usr/local/lib/python3.7/dist-packages (from transformers) (3.0.12)\n",
            "Requirement already satisfied: packaging in /usr/local/lib/python3.7/dist-packages (from transformers) (20.9)\n",
            "Requirement already satisfied: regex!=2019.12.17 in /usr/local/lib/python3.7/dist-packages (from transformers) (2019.12.20)\n",
            "Requirement already satisfied: pytz>=2017.2 in /usr/local/lib/python3.7/dist-packages (from pandas) (2018.9)\n",
            "Requirement already satisfied: python-dateutil>=2.7.3 in /usr/local/lib/python3.7/dist-packages (from pandas) (2.8.1)\n",
            "Requirement already satisfied: six in /usr/local/lib/python3.7/dist-packages (from nltk) (1.15.0)\n",
            "Requirement already satisfied: plac<1.2.0,>=0.9.6 in /usr/local/lib/python3.7/dist-packages (from spacy) (1.1.3)\n",
            "Requirement already satisfied: cymem<2.1.0,>=2.0.2 in /usr/local/lib/python3.7/dist-packages (from spacy) (2.0.5)\n",
            "Requirement already satisfied: blis<0.5.0,>=0.4.0 in /usr/local/lib/python3.7/dist-packages (from spacy) (0.4.1)\n",
            "Requirement already satisfied: catalogue<1.1.0,>=0.0.7 in /usr/local/lib/python3.7/dist-packages (from spacy) (1.0.0)\n",
            "Requirement already satisfied: srsly<1.1.0,>=1.0.2 in /usr/local/lib/python3.7/dist-packages (from spacy) (1.0.5)\n",
            "Requirement already satisfied: wasabi<1.1.0,>=0.4.0 in /usr/local/lib/python3.7/dist-packages (from spacy) (0.8.2)\n",
            "Requirement already satisfied: setuptools in /usr/local/lib/python3.7/dist-packages (from spacy) (56.1.0)\n",
            "Requirement already satisfied: thinc==7.4.0 in /usr/local/lib/python3.7/dist-packages (from spacy) (7.4.0)\n",
            "Requirement already satisfied: preshed<3.1.0,>=3.0.2 in /usr/local/lib/python3.7/dist-packages (from spacy) (3.0.5)\n",
            "Requirement already satisfied: murmurhash<1.1.0,>=0.28.0 in /usr/local/lib/python3.7/dist-packages (from spacy) (1.0.5)\n",
            "Requirement already satisfied: torch>=1.3.0 in /usr/local/lib/python3.7/dist-packages (from classla) (1.8.1+cu101)\n",
            "Requirement already satisfied: protobuf in /usr/local/lib/python3.7/dist-packages (from classla) (3.12.4)\n",
            "Collecting obeliks\n",
            "  Downloading https://files.pythonhosted.org/packages/77/66/4a238d773427f707dcb0a06aa30bc9f07fd3386c62b31ed26557fc402ff6/obeliks-1.0.5.tar.gz\n",
            "Requirement already satisfied: click in /usr/local/lib/python3.7/dist-packages (from sacremoses->transformers) (8.0.0)\n",
            "Requirement already satisfied: joblib in /usr/local/lib/python3.7/dist-packages (from sacremoses->transformers) (1.0.1)\n",
            "Requirement already satisfied: chardet<4,>=3.0.2 in /usr/local/lib/python3.7/dist-packages (from requests->transformers) (3.0.4)\n",
            "Requirement already satisfied: idna<3,>=2.5 in /usr/local/lib/python3.7/dist-packages (from requests->transformers) (2.10)\n",
            "Requirement already satisfied: certifi>=2017.4.17 in /usr/local/lib/python3.7/dist-packages (from requests->transformers) (2020.12.5)\n",
            "Requirement already satisfied: urllib3!=1.25.0,!=1.25.1,<1.26,>=1.21.1 in /usr/local/lib/python3.7/dist-packages (from requests->transformers) (1.24.3)\n",
            "Requirement already satisfied: zipp>=0.5 in /usr/local/lib/python3.7/dist-packages (from importlib-metadata; python_version < \"3.8\"->transformers) (3.4.1)\n",
            "Requirement already satisfied: typing-extensions>=3.6.4; python_version < \"3.8\" in /usr/local/lib/python3.7/dist-packages (from importlib-metadata; python_version < \"3.8\"->transformers) (3.7.4.3)\n",
            "Requirement already satisfied: pyparsing>=2.0.2 in /usr/local/lib/python3.7/dist-packages (from packaging->transformers) (2.4.7)\n",
            "Requirement already satisfied: lxml in /usr/local/lib/python3.7/dist-packages (from obeliks->classla) (4.2.6)\n",
            "Building wheels for collected packages: obeliks\n",
            "  Building wheel for obeliks (setup.py) ... \u001b[?25l\u001b[?25hdone\n",
            "  Created wheel for obeliks: filename=obeliks-1.0.5-cp37-none-any.whl size=14981 sha256=e2b484397ba7fd0c3bb194f3721780f925d6b250a641da6492cdebb4f3aa2bd0\n",
            "  Stored in directory: /root/.cache/pip/wheels/60/fc/9e/e3cd0d42fb28369c9df1e0078e60f35f66b430a7c68850d708\n",
            "Successfully built obeliks\n",
            "Installing collected packages: sacremoses, huggingface-hub, tokenizers, transformers, obeliks, classla\n",
            "Successfully installed classla-1.0.1 huggingface-hub-0.0.8 obeliks-1.0.5 sacremoses-0.0.45 tokenizers-0.10.2 transformers-4.6.1\n"
          ],
          "name": "stdout"
        }
      ]
    },
    {
      "cell_type": "code",
      "metadata": {
        "colab": {
          "base_uri": "https://localhost:8080/"
        },
        "id": "xN64HZQ1nqfG",
        "outputId": "42d26f73-ec11-408f-c787-150ea1d8536b"
      },
      "source": [
        "!pip install torch==1.8.0+cu111 torchvision==0.9.0+cu111 torchaudio==0.8.0 -f https://download.pytorch.org/whl/torch_stable.html \n"
      ],
      "execution_count": 4,
      "outputs": [
        {
          "output_type": "stream",
          "text": [
            "Looking in links: https://download.pytorch.org/whl/torch_stable.html\n",
            "Collecting torch==1.8.0+cu111\n",
            "\u001b[?25l  Downloading https://download.pytorch.org/whl/cu111/torch-1.8.0%2Bcu111-cp37-cp37m-linux_x86_64.whl (1982.2MB)\n",
            "\u001b[K     |█████████████▌                  | 834.1MB 1.6MB/s eta 0:12:13tcmalloc: large alloc 1147494400 bytes == 0x55932778c000 @  0x7feb54a7b615 0x5592edd26cdc 0x5592ede0652a 0x5592edd29afd 0x5592ede1afed 0x5592edd9d988 0x5592edd984ae 0x5592edd2b3ea 0x5592edd9d7f0 0x5592edd984ae 0x5592edd2b3ea 0x5592edd9a32a 0x5592ede1be36 0x5592edd99853 0x5592ede1be36 0x5592edd99853 0x5592ede1be36 0x5592edd99853 0x5592ede1be36 0x5592ede9e3e1 0x5592eddfe6a9 0x5592edd69cc4 0x5592edd2a559 0x5592edd9e4f8 0x5592edd2b30a 0x5592edd993b5 0x5592edd987ad 0x5592edd2b3ea 0x5592edd993b5 0x5592edd2b30a 0x5592edd993b5\n",
            "\u001b[K     |█████████████████               | 1055.7MB 1.4MB/s eta 0:11:21tcmalloc: large alloc 1434370048 bytes == 0x55936bde2000 @  0x7feb54a7b615 0x5592edd26cdc 0x5592ede0652a 0x5592edd29afd 0x5592ede1afed 0x5592edd9d988 0x5592edd984ae 0x5592edd2b3ea 0x5592edd9d7f0 0x5592edd984ae 0x5592edd2b3ea 0x5592edd9a32a 0x5592ede1be36 0x5592edd99853 0x5592ede1be36 0x5592edd99853 0x5592ede1be36 0x5592edd99853 0x5592ede1be36 0x5592ede9e3e1 0x5592eddfe6a9 0x5592edd69cc4 0x5592edd2a559 0x5592edd9e4f8 0x5592edd2b30a 0x5592edd993b5 0x5592edd987ad 0x5592edd2b3ea 0x5592edd993b5 0x5592edd2b30a 0x5592edd993b5\n",
            "\u001b[K     |█████████████████████▋          | 1336.2MB 1.4MB/s eta 0:07:51tcmalloc: large alloc 1792966656 bytes == 0x5592f0c14000 @  0x7feb54a7b615 0x5592edd26cdc 0x5592ede0652a 0x5592edd29afd 0x5592ede1afed 0x5592edd9d988 0x5592edd984ae 0x5592edd2b3ea 0x5592edd9d7f0 0x5592edd984ae 0x5592edd2b3ea 0x5592edd9a32a 0x5592ede1be36 0x5592edd99853 0x5592ede1be36 0x5592edd99853 0x5592ede1be36 0x5592edd99853 0x5592ede1be36 0x5592ede9e3e1 0x5592eddfe6a9 0x5592edd69cc4 0x5592edd2a559 0x5592edd9e4f8 0x5592edd2b30a 0x5592edd993b5 0x5592edd987ad 0x5592edd2b3ea 0x5592edd993b5 0x5592edd2b30a 0x5592edd993b5\n",
            "\u001b[K     |███████████████████████████▎    | 1691.1MB 1.4MB/s eta 0:03:23tcmalloc: large alloc 2241208320 bytes == 0x55935b9fc000 @  0x7feb54a7b615 0x5592edd26cdc 0x5592ede0652a 0x5592edd29afd 0x5592ede1afed 0x5592edd9d988 0x5592edd984ae 0x5592edd2b3ea 0x5592edd9d7f0 0x5592edd984ae 0x5592edd2b3ea 0x5592edd9a32a 0x5592ede1be36 0x5592edd99853 0x5592ede1be36 0x5592edd99853 0x5592ede1be36 0x5592edd99853 0x5592ede1be36 0x5592ede9e3e1 0x5592eddfe6a9 0x5592edd69cc4 0x5592edd2a559 0x5592edd9e4f8 0x5592edd2b30a 0x5592edd993b5 0x5592edd987ad 0x5592edd2b3ea 0x5592edd993b5 0x5592edd2b30a 0x5592edd993b5\n",
            "\u001b[K     |████████████████████████████████| 1982.2MB 1.2MB/s eta 0:00:01tcmalloc: large alloc 1982251008 bytes == 0x5593e135e000 @  0x7feb54a7a1e7 0x5592edd5cf37 0x5592edd26cdc 0x5592ede0652a 0x5592edd29afd 0x5592ede1afed 0x5592edd9d988 0x5592edd984ae 0x5592edd2b3ea 0x5592edd9960e 0x5592edd984ae 0x5592edd2b3ea 0x5592edd9960e 0x5592edd984ae 0x5592edd2b3ea 0x5592edd9960e 0x5592edd984ae 0x5592edd2b3ea 0x5592edd9960e 0x5592edd984ae 0x5592edd2b3ea 0x5592edd9960e 0x5592edd2b30a 0x5592edd9960e 0x5592edd984ae 0x5592edd2b3ea 0x5592edd9a32a 0x5592edd984ae 0x5592edd2b3ea 0x5592edd9a32a 0x5592edd984ae\n",
            "tcmalloc: large alloc 2477817856 bytes == 0x5594cba8c000 @  0x7feb54a7b615 0x5592edd26cdc 0x5592ede0652a 0x5592edd29afd 0x5592ede1afed 0x5592edd9d988 0x5592edd984ae 0x5592edd2b3ea 0x5592edd9960e 0x5592edd984ae 0x5592edd2b3ea 0x5592edd9960e 0x5592edd984ae 0x5592edd2b3ea 0x5592edd9960e 0x5592edd984ae 0x5592edd2b3ea 0x5592edd9960e 0x5592edd984ae 0x5592edd2b3ea 0x5592edd9960e 0x5592edd2b30a 0x5592edd9960e 0x5592edd984ae 0x5592edd2b3ea 0x5592edd9a32a 0x5592edd984ae 0x5592edd2b3ea 0x5592edd9a32a 0x5592edd984ae 0x5592edd2ba81\n",
            "\u001b[K     |████████████████████████████████| 1982.2MB 3.9kB/s \n",
            "\u001b[?25hCollecting torchvision==0.9.0+cu111\n",
            "\u001b[?25l  Downloading https://download.pytorch.org/whl/cu111/torchvision-0.9.0%2Bcu111-cp37-cp37m-linux_x86_64.whl (17.6MB)\n",
            "\u001b[K     |████████████████████████████████| 17.6MB 194kB/s \n",
            "\u001b[?25hCollecting torchaudio==0.8.0\n",
            "\u001b[?25l  Downloading https://files.pythonhosted.org/packages/18/9a/4e2e6dbde627ffb8a6d1d4ebc4683edecad1c08099969f1d7760d92175ff/torchaudio-0.8.0-cp37-cp37m-manylinux1_x86_64.whl (1.9MB)\n",
            "\u001b[K     |████████████████████████████████| 1.9MB 11.8MB/s \n",
            "\u001b[?25hRequirement already satisfied: numpy in /usr/local/lib/python3.7/dist-packages (from torch==1.8.0+cu111) (1.19.5)\n",
            "Requirement already satisfied: typing-extensions in /usr/local/lib/python3.7/dist-packages (from torch==1.8.0+cu111) (3.7.4.3)\n",
            "Requirement already satisfied: pillow>=4.1.1 in /usr/local/lib/python3.7/dist-packages (from torchvision==0.9.0+cu111) (7.1.2)\n",
            "\u001b[31mERROR: torchtext 0.9.1 has requirement torch==1.8.1, but you'll have torch 1.8.0+cu111 which is incompatible.\u001b[0m\n",
            "Installing collected packages: torch, torchvision, torchaudio\n",
            "  Found existing installation: torch 1.8.1+cu101\n",
            "    Uninstalling torch-1.8.1+cu101:\n",
            "      Successfully uninstalled torch-1.8.1+cu101\n",
            "  Found existing installation: torchvision 0.9.1+cu101\n",
            "    Uninstalling torchvision-0.9.1+cu101:\n",
            "      Successfully uninstalled torchvision-0.9.1+cu101\n",
            "Successfully installed torch-1.8.0+cu111 torchaudio-0.8.0 torchvision-0.9.0+cu111\n"
          ],
          "name": "stdout"
        }
      ]
    },
    {
      "cell_type": "markdown",
      "metadata": {
        "id": "f1d1mY1A_i-3"
      },
      "source": [
        "# Random seed"
      ]
    },
    {
      "cell_type": "code",
      "metadata": {
        "id": "BsKRLWda4Vzr"
      },
      "source": [
        "import random\n",
        "import numpy as np\n",
        "import torch\n",
        "\n",
        "seed_val = 2021\n",
        "\n",
        "random.seed(seed_val)\n",
        "np.random.seed(seed_val)\n",
        "torch.manual_seed(seed_val)\n",
        "torch.cuda.manual_seed_all(seed_val)"
      ],
      "execution_count": 31,
      "outputs": []
    },
    {
      "cell_type": "markdown",
      "metadata": {
        "id": "9Gi3WN8PCvwO"
      },
      "source": [
        "# BERT "
      ]
    },
    {
      "cell_type": "code",
      "metadata": {
        "id": "5ncO0nQDosXU"
      },
      "source": [
        "from transformers import BertTokenizer, BertForSequenceClassification, AdamW, get_linear_schedule_with_warmup\n",
        "import pandas as pd\n",
        "from torch.utils.data import TensorDataset, random_split, DataLoader, RandomSampler, SequentialSampler\n",
        "import time\n",
        "import datetime"
      ],
      "execution_count": 6,
      "outputs": []
    },
    {
      "cell_type": "code",
      "metadata": {
        "id": "-gZZzKq7owzA"
      },
      "source": [
        "def setup_classifier(\n",
        "    model_name: str,\n",
        "    num_labels: int) -> BertForSequenceClassification:\n",
        "\n",
        "    model = BertForSequenceClassification.from_pretrained(\n",
        "        model_name,\n",
        "        num_labels = num_labels,\n",
        "        output_attentions = False,\n",
        "        output_hidden_states = False,\n",
        "    )\n",
        "    \n",
        "    return model"
      ],
      "execution_count": 7,
      "outputs": []
    },
    {
      "cell_type": "code",
      "metadata": {
        "id": "9g4etr1so1f3"
      },
      "source": [
        "def setup_data(\n",
        "    model_name: str,\n",
        "    x: pd.DataFrame, \n",
        "    y: pd.DataFrame,\n",
        "    do_lower_case: bool,\n",
        "    max_length: int) -> TensorDataset:\n",
        "\n",
        "    tokenizer = BertTokenizer.from_pretrained(model_name, do_lower_case = do_lower_case)\n",
        "\n",
        "    input_ids = []\n",
        "    attention_masks = []\n",
        "\n",
        "    for text in x:\n",
        "        encoded_dict = tokenizer.encode_plus(\n",
        "            text,\n",
        "            add_special_tokens = True,\n",
        "            max_length = max_length,\n",
        "            padding='max_length',\n",
        "            return_attention_mask = True,\n",
        "            return_tensors = 'pt',\n",
        "            truncation = True\n",
        "        )\n",
        "\n",
        "        input_ids.append(encoded_dict['input_ids'])\n",
        "        attention_masks.append(encoded_dict['attention_mask'])\n",
        "    \n",
        "    input_ids = torch.cat(input_ids, dim=0)\n",
        "    attention_masks = torch.cat(attention_masks, dim=0)\n",
        "    labels = torch.tensor(y)\n",
        "\n",
        "    dataset = TensorDataset(input_ids, attention_masks, labels)\n",
        "\n",
        "    return dataset"
      ],
      "execution_count": 9,
      "outputs": []
    },
    {
      "cell_type": "code",
      "metadata": {
        "id": "Hw9DF4H3o5NS"
      },
      "source": [
        "def train_classifier(\n",
        "    model: BertForSequenceClassification, \n",
        "    dataset: TensorDataset, \n",
        "    validation_ratio: float,\n",
        "    batch_size: int,\n",
        "    freeze_embeddings_layer: bool,\n",
        "    freeze_encoder_layers: int,\n",
        "    epochs: int,\n",
        "    save_checkpoints: bool) -> (BertForSequenceClassification, list):\n",
        "\n",
        "    device = select_device()\n",
        "\n",
        "    train_size = int(validation_ratio * len(dataset))\n",
        "    val_size = len(dataset) - train_size\n",
        "\n",
        "    train_dataset, val_dataset = random_split(dataset, [train_size, val_size])\n",
        "\n",
        "    train_dataloader = DataLoader(\n",
        "        train_dataset,\n",
        "        sampler = RandomSampler(train_dataset),\n",
        "        batch_size = batch_size\n",
        "    )\n",
        "\n",
        "    validation_dataloader = DataLoader(\n",
        "        val_dataset,\n",
        "        sampler = SequentialSampler(val_dataset),\n",
        "        batch_size = batch_size\n",
        "    )\n",
        "\n",
        "    modules = []\n",
        "\n",
        "    if freeze_embeddings_layer:\n",
        "        modules.append(model.bert.embeddings)\n",
        "    \n",
        "    for i in range(freeze_encoder_layers):\n",
        "        modules.append(model.bert.encoder.layer[i])\n",
        "\n",
        "    for module in modules:\n",
        "        for param in module.parameters():\n",
        "            param.requires_grad = False\n",
        "    \n",
        "    model.to(device)\n",
        "\n",
        "    optimizer = AdamW(\n",
        "        filter(lambda p: p.requires_grad, model.parameters()),\n",
        "        lr = 5e-5,\n",
        "    )\n",
        "\n",
        "    total_steps = len(train_dataloader) * epochs\n",
        "\n",
        "    scheduler = get_linear_schedule_with_warmup(\n",
        "        optimizer, \n",
        "        num_warmup_steps = 0,\n",
        "        num_training_steps = total_steps\n",
        "    )\n",
        "\n",
        "    training_stats = []\n",
        "\n",
        "    total_t0 = time.time()\n",
        "\n",
        "    for epoch_i in range(0, epochs):\n",
        "\n",
        "        print(\"\")\n",
        "        print('======== Epoch {:} / {:} ========'.format(epoch_i + 1, epochs))\n",
        "        print('Training...')\n",
        "\n",
        "        t0 = time.time()\n",
        "\n",
        "        total_train_loss = 0\n",
        "\n",
        "        model.train()\n",
        "\n",
        "        for step, batch in enumerate(train_dataloader):\n",
        "\n",
        "            #!nvidia-smi\n",
        "\n",
        "            if step % 40 == 0 and not step == 0:\n",
        "                elapsed = format_time(time.time() - t0)\n",
        "                print('  Batch {:>5,}  of  {:>5,}.    Elapsed: {:}.'.format(step, len(train_dataloader), elapsed))\n",
        "\n",
        "            b_input_ids = batch[0].to(device)\n",
        "            b_input_mask = batch[1].to(device)\n",
        "            b_labels = batch[2].to(device)\n",
        "\n",
        "            model.zero_grad()        \n",
        "\n",
        "            outputs = model(\n",
        "                b_input_ids, \n",
        "                token_type_ids = None, \n",
        "                attention_mask = b_input_mask, \n",
        "                labels = b_labels\n",
        "            )\n",
        "\n",
        "            loss = outputs.loss\n",
        "            logits = outputs.logits\n",
        "\n",
        "            total_train_loss += loss.item()\n",
        "\n",
        "            loss.backward()\n",
        "\n",
        "            # Clip the norm of the gradients to 1.0.\n",
        "            # This is to help prevent the \"exploding gradients\" problem.\n",
        "            torch.nn.utils.clip_grad_norm_(model.parameters(), 1.0)\n",
        "\n",
        "            optimizer.step()\n",
        "\n",
        "            scheduler.step()\n",
        "\n",
        "        avg_train_loss = total_train_loss / len(train_dataloader)            \n",
        "        \n",
        "        training_time = format_time(time.time() - t0)\n",
        "\n",
        "        print(\"\")\n",
        "        print(\"  Average training loss: {0:.2f}\".format(avg_train_loss))\n",
        "        print(\"  Training epcoh took: {:}\".format(training_time))\n",
        "        \n",
        "\n",
        "        print(\"\")\n",
        "        print(\"Running Validation...\")\n",
        "\n",
        "        t0 = time.time()\n",
        "\n",
        "        model.eval()\n",
        "\n",
        "        total_eval_accuracy = 0\n",
        "        total_eval_loss = 0\n",
        "        nb_eval_steps = 0\n",
        "\n",
        "        for batch in validation_dataloader:\n",
        "            \n",
        "            b_input_ids = batch[0].to(device)\n",
        "            b_input_mask = batch[1].to(device)\n",
        "            b_labels = batch[2].to(device)\n",
        "            \n",
        "            with torch.no_grad():\n",
        "\n",
        "                outputs = model(\n",
        "                    b_input_ids, \n",
        "                    token_type_ids = None, \n",
        "                    attention_mask = b_input_mask,\n",
        "                    labels = b_labels\n",
        "                )\n",
        "                \n",
        "                loss = outputs.loss\n",
        "                logits = outputs.logits\n",
        "                \n",
        "            total_eval_loss += loss.item()\n",
        "\n",
        "            logits = logits.detach().cpu().numpy()\n",
        "            label_ids = b_labels.cpu().numpy()\n",
        "\n",
        "            total_eval_accuracy += flat_accuracy(logits, label_ids)\n",
        "            \n",
        "\n",
        "        avg_val_accuracy = total_eval_accuracy / len(validation_dataloader)\n",
        "        print(\"  Accuracy: {0:.2f}\".format(avg_val_accuracy))\n",
        "\n",
        "        avg_val_loss = total_eval_loss / len(validation_dataloader)\n",
        "        \n",
        "        validation_time = format_time(time.time() - t0)\n",
        "        \n",
        "        print(\"  Validation Loss: {0:.2f}\".format(avg_val_loss))\n",
        "        print(\"  Validation took: {:}\".format(validation_time))\n",
        "\n",
        "        training_stats.append(\n",
        "            {\n",
        "                'epoch': epoch_i + 1,\n",
        "                'Training Loss': avg_train_loss,\n",
        "                'Valid. Loss': avg_val_loss,\n",
        "                'Valid. Accur.': avg_val_accuracy,\n",
        "                'Training Time': training_time,\n",
        "                'Validation Time': validation_time\n",
        "            }\n",
        "        )\n",
        "\n",
        "        if save_checkpoints:\n",
        "            now = datetime.datetime.now()\n",
        "            save_checkpoint(\n",
        "                \"drive/MyDrive/models/checkpoint_e\" + str(epoch_i + 1) + \"_\" + str(now) + \".pt\",\n",
        "                model, optimizer, epoch_i, { \"train\": avg_train_loss, \"val\": avg_val_loss }\n",
        "            )\n",
        "\n",
        "    print(\"\")\n",
        "    print(\"Training complete!\")\n",
        "\n",
        "    print(\"Total training took {:} (h:mm:ss)\".format(format_time(time.time()-total_t0)))\n",
        "\n",
        "    return model, training_stats"
      ],
      "execution_count": 10,
      "outputs": []
    },
    {
      "cell_type": "code",
      "metadata": {
        "id": "P_1G3NNIo-P0"
      },
      "source": [
        "def test_classifier(\n",
        "    model: BertForSequenceClassification, \n",
        "    dataset: TensorDataset,\n",
        "    batch_size: int):\n",
        "\n",
        "    device = select_device()\n",
        "\n",
        "    prediction_dataloader = DataLoader(\n",
        "        dataset, \n",
        "        sampler = SequentialSampler(dataset), \n",
        "        batch_size = batch_size\n",
        "    )\n",
        "\n",
        "    print(\"\")\n",
        "    print(\"Running Prediction...\")\n",
        "\n",
        "    model.to(device)\n",
        "\n",
        "    model.eval()\n",
        "\n",
        "    predictions , true_labels = [], []\n",
        "\n",
        "    for batch in prediction_dataloader:\n",
        "\n",
        "        b_input_ids = batch[0].to(device)\n",
        "        b_input_mask = batch[1].to(device)\n",
        "        b_labels = batch[2]\n",
        "        \n",
        "        with torch.no_grad():\n",
        "\n",
        "            outputs = model(\n",
        "                b_input_ids, \n",
        "                token_type_ids = None, \n",
        "                attention_mask = b_input_mask\n",
        "            )\n",
        "\n",
        "        logits = outputs.logits\n",
        "\n",
        "        logits = logits.detach().cpu().numpy()\n",
        "        label_ids = b_labels.numpy()\n",
        "        \n",
        "        #predictions.append(logits)\n",
        "        #true_labels.append(label_ids)\n",
        "        predictions.extend(list(np.argmax(logits, axis=1).flatten()))\n",
        "        true_labels.extend(list(label_ids))\n",
        "    \n",
        "    print('DONE.')\n",
        "\n",
        "    return predictions, true_labels\n"
      ],
      "execution_count": 11,
      "outputs": []
    },
    {
      "cell_type": "code",
      "metadata": {
        "id": "mrH3biqlpGgY"
      },
      "source": [
        "def save_checkpoint(path, model, optimizer, epoch, loss):\n",
        "    torch.save({\n",
        "        'epoch': epoch,\n",
        "        'model_state_dict': model.state_dict(),\n",
        "        'optimizer_state_dict': optimizer.state_dict(),\n",
        "        'loss': loss\n",
        "        }, path)\n",
        "\n",
        "\n",
        "def save_model(path, model):\n",
        "    torch.save(model.state_dict(), path)\n",
        "\n",
        "\n",
        "def load_checkpoint(path):\n",
        "    checkpoint = torch.load(path)\n",
        "    return checkpoint['model_state_dict'], checkpoint['optimizer_state_dict'], checkpoint['epoch'], checkpoint['loss']\n",
        "\n",
        "\n",
        "def load_model(path):\n",
        "    return torch.load(path)\n",
        "\n",
        "\n",
        "def select_device():\n",
        "\n",
        "    if torch.cuda.is_available():\n",
        "        print('There are %d GPU(s) available.' % torch.cuda.device_count())\n",
        "        print('We will use the GPU:', torch.cuda.get_device_name(0))\n",
        "        device = torch.device(\"cuda\")\n",
        "    else:\n",
        "        print('No GPU available, using the CPU instead.')\n",
        "        device = torch.device(\"cpu\")\n",
        "    \n",
        "    return device\n",
        "\n",
        "\n",
        "def format_time(elapsed):\n",
        "    '''\n",
        "    Takes a time in seconds and returns a string hh:mm:ss\n",
        "    '''\n",
        "    elapsed_rounded = int(round((elapsed)))\n",
        "    return str(datetime.timedelta(seconds=elapsed_rounded))\n",
        "\n",
        "\n",
        "def flat_accuracy(preds, labels):\n",
        "    pred_flat = np.argmax(preds, axis=1).flatten()\n",
        "    labels_flat = labels.flatten()\n",
        "    return np.sum(pred_flat == labels_flat) / len(labels_flat)\n"
      ],
      "execution_count": 12,
      "outputs": []
    },
    {
      "cell_type": "markdown",
      "metadata": {
        "id": "Cdo8m-Qa900i"
      },
      "source": [
        "# Performance metrics"
      ]
    },
    {
      "cell_type": "code",
      "metadata": {
        "id": "gwkR6pndJUjz"
      },
      "source": [
        "from sklearn import metrics\n",
        "\n",
        "def avg_accuracy(predictions,labels):\n",
        "    return sum(1 for i, j in zip(predictions, labels) if i == j) / len(predictions) \n",
        "\n",
        "def round_to_percentages(value):\n",
        "    return round(round(value, 4) * 100, 2)\n",
        "\n",
        "def majority_class(data):\n",
        "    elements_count = {}\n",
        "    for element in data:\n",
        "        if element not in elements_count:\n",
        "            elements_count[element] = 0\n",
        "        elements_count[element] += 1\n",
        "    maximum = max(elements_count, key=elements_count.get)\n",
        "    return elements_count[maximum] / len(data)\n",
        "\n",
        "def print_performance_metrics(predicted, true):\n",
        "    matrix = {}\n",
        "    labels = sorted(list(set(true)))\n",
        "\n",
        "    for t in labels:\n",
        "        for p in labels:\n",
        "            matrix[(t, p)] = sum([1 for i, j in zip(true, predicted) if i == t and j == p]) / len(true)\n",
        "\n",
        "    print()\n",
        "    print(\"Confusion Matrix\")\n",
        "    print(\"Rows - Actual\")\n",
        "    print(\"Columns - Predicted\")\n",
        "    print()\n",
        "\n",
        "    print((\"{:>3}\"+\" | \"+\"{:>6}\"*len(labels)+\" | \").format(\" \", *[p for p in labels]))\n",
        "\n",
        "    print(\"-\" * (3 + 3 + 6 * len(labels) + 3 + 6))\n",
        "\n",
        "    for t in labels:\n",
        "        print((\"{:>3}\"+\" | \"+\"{:>6.2f}\"*len(labels)+\" | \"+\"{:>6.2f}\").format(t, *[round_to_percentages(matrix[(t, p)]) for p in labels], round_to_percentages(sum([matrix[(t, p)] for p in labels]))))\n",
        "\n",
        "    print(\"-\" * (3 + 3 + 6 * len(labels) + 3 + 6))\n",
        "\n",
        "    print((\"{:>3}\"+\" | \"+\"{:>6.2f}\"*len(labels)+\" | \").format(\" \", *[round_to_percentages(sum([matrix[(t, p)] for t in labels])) for p in labels]))\n",
        "    \n",
        "    print()\n",
        "    \n",
        "    y_true = np.array(true)\n",
        "    y_pred = np.array(predicted)\n",
        "\n",
        "    print(metrics.classification_report(y_true, y_pred))"
      ],
      "execution_count": 13,
      "outputs": []
    },
    {
      "cell_type": "markdown",
      "metadata": {
        "id": "2cUR_wcTC5-p"
      },
      "source": [
        "# Preprocessing"
      ]
    },
    {
      "cell_type": "code",
      "metadata": {
        "colab": {
          "base_uri": "https://localhost:8080/"
        },
        "id": "71eMX--LiLvU",
        "outputId": "f5041203-f0e0-4ac0-a7ec-c1337d891d1a"
      },
      "source": [
        "import spacy\n",
        "import re\n",
        "import classla\n",
        "\n",
        "import nltk\n",
        "from nltk.stem import WordNetLemmatizer\n",
        "from nltk.tokenize import word_tokenize\n",
        "from nltk.corpus import stopwords\n",
        "\n",
        "nltk.download('stopwords')\n",
        "nltk.download('punkt')\n",
        "nltk.download('wordnet')\n",
        "\n",
        "classla.download('sl')\n",
        "#classla.download('sl', type='nonstandard')\n",
        "\n",
        "nlp_eng = spacy.load(\"en_core_web_sm\", disable=['tagger', 'parser', 'ner'])\n",
        "eng_stopwords = set(nlp_eng.Defaults.stop_words)\n",
        "slo_stopwords = set(stopwords.words('slovene'))\n",
        "\n",
        "def eng_preprocessing(text, remove_stopwords=True, do_lemmatization=True):\n",
        "\n",
        "    text = base_preprocessing(text)\n",
        "\n",
        "    tokens = []\n",
        "\n",
        "    # split text to single words\n",
        "    words = word_tokenize(text)\n",
        "\n",
        "    lemmer = WordNetLemmatizer()\n",
        "\n",
        "    # remove stopwords and words with length 1\n",
        "    for word in words:\n",
        "        if not remove_stopwords or word not in eng_stopwords:\n",
        "            if do_lemmatization:\n",
        "                word = lemmer.lemmatize(word)\n",
        "            tokens.append(word)\n",
        "\n",
        "    # convert tokens back to text\n",
        "    preprocessed_text = ' '.join([str(element) for element in tokens])\n",
        "    return preprocessed_text\n",
        "\n",
        "def slo_preprocessing(dataset, remove_stopwords=True, do_lemmatization=True):\n",
        "\n",
        "    # do base proccesing\n",
        "    dataset['preprocessed'] = dataset['Text'].apply(base_preprocessing)\n",
        "\n",
        "    # create pipelines\n",
        "    #tokenizer = classla.Pipeline('sl', processors='tokenize', type='nonstandard', logging_level='WARN')\n",
        "    #lemmatizer = classla.Pipeline('sl', processors='tokenize, lemma', type='nonstandard', logging_level='WARN')\n",
        "\n",
        "    tokenizer = classla.Pipeline('sl', processors='tokenize', logging_level='WARN')\n",
        "    lemmatizer = classla.Pipeline('sl', processors='tokenize, lemma', logging_level='WARN')\n",
        "\n",
        "    # do tokenization\n",
        "    documents = '\\n'.join(dataset['preprocessed'].values)\n",
        "    out_docs = tokenizer(documents)\n",
        "\n",
        "    for i, sentence in enumerate(out_docs.sentences):\n",
        "        #print(\"DOCUMENT\")\n",
        "        seq = []\n",
        "        for word in sentence.words:\n",
        "            if not remove_stopwords or word.text not in slo_stopwords:\n",
        "                seq.append(word.text)\n",
        "\n",
        "        dataset.at[i, 'preprocessed'] = ' '.join(seq)\n",
        "\n",
        "    # do lemmatization\n",
        "    if do_lemmatization:\n",
        "        documents = '\\n'.join(dataset['preprocessed'].values)\n",
        "        out_docs = lemmatizer(documents)\n",
        "        \n",
        "        for i, sentence in enumerate(out_docs.sentences):\n",
        "            dataset.at[i, 'preprocessed'] = ' '.join(word.lemma for word in sentence.words)\n",
        "\n",
        "    return dataset\n",
        "\n",
        "def base_preprocessing(text):\n",
        "\n",
        "    EMOJI_PATTERN = re.compile(\n",
        "        \"([\"\n",
        "        \"\\U0001F1E0-\\U0001F1FF\"  # flags (iOS)\n",
        "        \"\\U0001F300-\\U0001F5FF\"  # symbols & pictographs\n",
        "        \"\\U0001F600-\\U0001F64F\"  # emoticons\n",
        "        \"\\U0001F680-\\U0001F6FF\"  # transport & map symbols\n",
        "        \"\\U0001F700-\\U0001F77F\"  # alchemical symbols\n",
        "        \"\\U0001F780-\\U0001F7FF\"  # Geometric Shapes Extended\n",
        "        \"\\U0001F800-\\U0001F8FF\"  # Supplemental Arrows-C\n",
        "        \"\\U0001F900-\\U0001F9FF\"  # Supplemental Symbols and Pictographs\n",
        "        \"\\U0001FA00-\\U0001FA6F\"  # Chess Symbols\n",
        "        \"\\U0001FA70-\\U0001FAFF\"  # Symbols and Pictographs Extended-A\n",
        "        \"])\"\n",
        "    )\n",
        "    text = re.sub(EMOJI_PATTERN,\"\",text)\n",
        "    # remove (twitter) urls\n",
        "    text = re.sub(r\"http://t.co/[a-zA-Z0-9čČšŠžŽ]+\", \" \", text)\n",
        "    text = re.sub(r\"https://t.co/[a-zA-Z0-9čČšŠžŽ]+\", \" \", text)\n",
        "\n",
        "    # remove all hashtags or @name Mentions (Usernames only allowed to includes characters A-Z, 0-9 and underscores)\n",
        "    text = re.sub(r\"[@#][a-zA-Z0-9_čČšŠžŽ]+\", \" \", text)\n",
        "\n",
        "    # remove non alphabetical characters\n",
        "    text = re.sub(r\"[^a-zA-Z0-9\\sčČšŠžŽ]\", \" \", text)\n",
        "\n",
        "    # remove multiple white spaces\n",
        "    text = re.sub(' +', ' ', text)\n",
        "\n",
        "    # convert all letters to lower case\n",
        "    text = text.lower()\n",
        "\n",
        "    return text.strip()\n",
        "\n",
        "def run_dataset_preparation(dataset, lang=\"eng\", remove_stopwords=True, do_lemmatization=True):\n",
        "\n",
        "    dataset = dataset.dropna(how='any', axis=0)\n",
        "    if lang == \"eng\":\n",
        "        dataset['preprocessed'] = dataset['Text'].apply(eng_preprocessing, remove_stopwords=remove_stopwords, do_lemmatization=do_lemmatization)\n",
        "    elif lang == \"slo\":\n",
        "        dataset = slo_preprocessing(dataset, remove_stopwords=remove_stopwords, do_lemmatization=do_lemmatization)\n",
        "\n",
        "    x,y = dataset['preprocessed'], dataset['Label']\n",
        "    data = (x,y)\n",
        "    return data"
      ],
      "execution_count": 14,
      "outputs": [
        {
          "output_type": "stream",
          "text": [
            "[nltk_data] Downloading package stopwords to /root/nltk_data...\n",
            "[nltk_data]   Unzipping corpora/stopwords.zip.\n",
            "[nltk_data] Downloading package punkt to /root/nltk_data...\n",
            "[nltk_data]   Unzipping tokenizers/punkt.zip.\n",
            "[nltk_data] Downloading package wordnet to /root/nltk_data...\n",
            "[nltk_data]   Unzipping corpora/wordnet.zip.\n"
          ],
          "name": "stdout"
        },
        {
          "output_type": "stream",
          "text": [
            "Downloading https://raw.githubusercontent.com/clarinsi/classla-resources/main/resources_1.0.0.json: 10.3kB [00:00, 3.36MB/s]                   \n",
            "2021-05-21 10:36:48 INFO: Downloading these customized packages for language: sl (Slovenian)...\n",
            "========================\n",
            "| Processor | Package  |\n",
            "------------------------\n",
            "| tokenize  | standard |\n",
            "| pos       | standard |\n",
            "| lemma     | standard |\n",
            "| depparse  | standard |\n",
            "| ner       | standard |\n",
            "| pretrain  | standard |\n",
            "========================\n",
            "\n",
            "Downloading https://www.clarin.si/repository/xmlui/bitstream/handle/11356/1391/ssj500k: 100%|██████████| 118M/118M [00:46<00:00, 2.56MB/s]\n",
            "Downloading https://www.clarin.si/repository/xmlui/bitstream/handle/11356/1412/sl_all_Sloleks_lemmatizer.pt: 100%|██████████| 38.8M/38.8M [00:23<00:00, 1.69MB/s]\n",
            "Downloading https://www.clarin.si/repository/xmlui/bitstream/handle/11356/1258/ssj500k_ud: 100%|██████████| 96.0M/96.0M [00:52<00:00, 1.84MB/s]\n",
            "Downloading https://www.clarin.si/repository/xmlui/bitstream/handle/11356/1321/ssj500k: 100%|██████████| 48.3M/48.3M [00:26<00:00, 1.84MB/s]\n",
            "Downloading https://www.clarin.si/repository/xmlui/bitstream/handle/11356/1391/ssj500k.pretrain.pt: 100%|██████████| 110M/110M [00:41<00:00, 2.65MB/s]\n",
            "2021-05-21 10:40:09 INFO: Finished downloading models and saved to /root/classla_resources.\n"
          ],
          "name": "stderr"
        }
      ]
    },
    {
      "cell_type": "markdown",
      "metadata": {
        "id": "fTNtYoht-Den"
      },
      "source": [
        "# Other"
      ]
    },
    {
      "cell_type": "code",
      "metadata": {
        "id": "M9W9YAKe44xX"
      },
      "source": [
        "import matplotlib.pyplot as plt\n",
        "\n",
        "def distribution_dataset(data):\n",
        "    distribution = {}\n",
        "    for element in data:\n",
        "        if element not in distribution:\n",
        "            distribution[element] = 0\n",
        "        distribution[element] += 1\n",
        "    return distribution"
      ],
      "execution_count": 15,
      "outputs": []
    },
    {
      "cell_type": "markdown",
      "metadata": {
        "id": "itIORIUu-MpJ"
      },
      "source": [
        "# Binary Eng classification"
      ]
    },
    {
      "cell_type": "markdown",
      "metadata": {
        "id": "Z48_4PEW_34D"
      },
      "source": [
        "## Setup"
      ]
    },
    {
      "cell_type": "code",
      "metadata": {
        "id": "ugdgb93AqdAV"
      },
      "source": [
        "binary_data = pd.read_csv('drive/MyDrive/Data/Eng/Binary/data.csv')\n",
        "x,y = run_dataset_preparation(binary_data, \"eng\", remove_stopwords=False, do_lemmatization=False)"
      ],
      "execution_count": null,
      "outputs": []
    },
    {
      "cell_type": "markdown",
      "metadata": {
        "id": "RdNZwzP4ciyY"
      },
      "source": [
        "Text length distribution"
      ]
    },
    {
      "cell_type": "code",
      "metadata": {
        "colab": {
          "base_uri": "https://localhost:8080/",
          "height": 322
        },
        "id": "E_ZbjFmQUCfT",
        "outputId": "f31569b6-44f2-476c-cfb7-3855d88e0d9c"
      },
      "source": [
        "length_distribution = distribution_dataset([len(e) for e in list(x.values)])\n",
        "xv = list(length_distribution.keys())\n",
        "yv = list(length_distribution.values())\n",
        "plt.bar(xv, yv, color=\"tab:blue\")\n",
        "axes = plt.gca()\n",
        "axes.set_xlim([0,1000])"
      ],
      "execution_count": null,
      "outputs": [
        {
          "output_type": "stream",
          "text": [
            "{25: 533, 134: 205, 79: 332, 460: 12, 97: 314, 38: 521, 362: 29, 48: 524, 74: 399, 37: 506, 114: 314, 255: 69, 36: 575, 53: 459, 57: 473, 15: 393, 126: 252, 72: 435, 29: 522, 60: 425, 5: 145, 12: 336, 59: 462, 140: 166, 68: 409, 135: 196, 268: 68, 136: 172, 73: 371, 129: 226, 121: 274, 49: 505, 94: 342, 40: 509, 17: 462, 101: 325, 58: 474, 152: 155, 192: 139, 240: 76, 188: 117, 86: 348, 61: 449, 98: 351, 111: 311, 54: 454, 62: 438, 71: 408, 14: 397, 10: 265, 41: 529, 88: 353, 34: 548, 80: 358, 112: 302, 137: 190, 43: 462, 50: 461, 18: 431, 92: 333, 105: 335, 341: 65, 138: 194, 64: 423, 75: 410, 87: 341, 104: 305, 159: 141, 115: 306, 116: 308, 154: 142, 124: 286, 7: 162, 119: 279, 78: 362, 13: 414, 33: 547, 28: 542, 443: 9, 113: 278, 0: 194, 21: 534, 120: 311, 67: 489, 44: 531, 46: 497, 70: 450, 196: 104, 65: 402, 6: 165, 150: 162, 66: 429, 127: 222, 23: 539, 19: 451, 334: 60, 35: 456, 3: 138, 329: 56, 561: 9, 161: 135, 27: 563, 24: 561, 16: 499, 30: 547, 26: 512, 56: 459, 84: 365, 200: 103, 133: 169, 156: 147, 442: 10, 85: 317, 69: 377, 171: 145, 52: 471, 99: 326, 39: 525, 204: 83, 22: 475, 81: 393, 144: 166, 925: 6, 228: 80, 467: 19, 530: 7, 459: 10, 249: 81, 1341: 1, 269: 75, 1435: 1, 109: 306, 31: 525, 199: 99, 155: 136, 1937: 1, 32: 554, 8: 209, 216: 95, 309: 51, 626: 8, 11: 364, 168: 136, 20: 516, 145: 167, 95: 314, 9: 270, 55: 485, 299: 66, 180: 135, 143: 158, 96: 341, 262: 58, 128: 226, 172: 138, 343: 58, 367: 19, 512: 8, 179: 130, 223: 82, 45: 480, 118: 307, 130: 184, 125: 269, 513: 10, 4: 150, 117: 304, 123: 270, 231: 96, 202: 95, 163: 152, 175: 113, 110: 291, 169: 140, 212: 83, 83: 374, 241: 96, 103: 319, 251: 70, 148: 161, 263: 69, 90: 333, 91: 333, 102: 322, 157: 150, 476: 10, 203: 96, 487: 11, 271: 72, 160: 141, 1516: 2, 1243: 3, 226: 90, 428: 16, 528: 12, 392: 10, 63: 444, 358: 44, 158: 161, 170: 125, 1055: 1, 351: 57, 497: 5, 141: 166, 525: 8, 516: 5, 944: 4, 287: 73, 548: 8, 194: 96, 996: 6, 273: 64, 277: 74, 77: 354, 47: 467, 432: 15, 318: 43, 177: 108, 296: 46, 761: 6, 42: 495, 149: 136, 315: 41, 122: 288, 176: 114, 473: 11, 139: 172, 100: 374, 89: 329, 578: 5, 266: 73, 1758: 1, 552: 9, 332: 47, 189: 108, 147: 183, 166: 127, 728: 2, 107: 320, 214: 85, 164: 125, 300: 51, 236: 86, 826: 4, 195: 101, 205: 92, 594: 7, 281: 55, 220: 90, 348: 57, 250: 79, 51: 437, 441: 11, 331: 66, 257: 82, 480: 3, 209: 118, 190: 102, 213: 83, 243: 81, 260: 72, 197: 109, 252: 66, 232: 86, 82: 387, 237: 82, 285: 73, 272: 61, 372: 13, 238: 81, 184: 128, 373: 20, 221: 80, 783: 6, 153: 140, 206: 84, 570: 7, 1570: 3, 182: 133, 554: 2, 276: 70, 229: 91, 357: 35, 1056: 2, 701: 5, 361: 39, 1092: 3, 286: 55, 178: 114, 928: 1, 142: 172, 279: 72, 246: 91, 217: 100, 132: 177, 749: 4, 451: 18, 162: 151, 283: 71, 427: 15, 108: 321, 215: 104, 264: 56, 222: 89, 174: 128, 187: 110, 667: 6, 636: 4, 1326: 1, 764: 3, 370: 16, 409: 19, 146: 167, 185: 122, 412: 12, 242: 85, 767: 10, 763: 4, 307: 69, 371: 17, 289: 61, 234: 88, 422: 23, 305: 63, 364: 27, 191: 106, 193: 105, 198: 92, 303: 64, 106: 295, 312: 52, 239: 74, 317: 54, 235: 84, 93: 345, 201: 97, 391: 12, 308: 67, 151: 160, 325: 54, 397: 12, 449: 18, 131: 200, 740: 4, 498: 9, 320: 57, 843: 2, 581: 8, 472: 15, 462: 14, 333: 45, 1006: 2, 439: 12, 282: 66, 335: 49, 501: 14, 225: 87, 167: 122, 224: 77, 502: 6, 376: 29, 254: 98, 560: 6, 420: 11, 725: 7, 274: 69, 563: 6, 211: 95, 609: 8, 508: 10, 454: 9, 481: 8, 366: 19, 297: 57, 592: 9, 811: 3, 261: 73, 586: 7, 433: 17, 227: 70, 2: 68, 848: 3, 534: 8, 181: 139, 338: 60, 247: 72, 304: 45, 596: 8, 375: 16, 218: 87, 628: 9, 349: 68, 1246: 2, 806: 4, 440: 13, 326: 48, 1517: 2, 936: 3, 415: 9, 417: 19, 346: 71, 290: 77, 620: 7, 495: 10, 675: 3, 368: 31, 258: 74, 562: 12, 337: 51, 294: 55, 230: 69, 1170: 2, 1399: 1, 293: 48, 1661: 1, 589: 5, 527: 9, 657: 7, 347: 47, 423: 17, 425: 23, 769: 5, 710: 3, 949: 2, 342: 81, 438: 8, 275: 58, 1154: 2, 306: 50, 731: 5, 244: 81, 1551: 1, 1238: 1, 603: 6, 386: 9, 359: 41, 1157: 4, 793: 5, 173: 111, 631: 4, 483: 15, 478: 10, 3500: 1, 313: 51, 363: 19, 745: 3, 407: 14, 869: 4, 1289: 2, 1508: 1, 655: 5, 778: 6, 2110: 2, 265: 79, 1: 23, 354: 59, 500: 9, 405: 20, 692: 4, 470: 13, 310: 61, 735: 5, 598: 7, 801: 3, 426: 12, 210: 98, 2043: 4, 830: 4, 978: 1, 447: 12, 505: 8, 291: 54, 267: 78, 623: 11, 533: 14, 356: 63, 350: 64, 298: 74, 958: 4, 818: 6, 572: 13, 982: 2, 1436: 2, 311: 51, 649: 9, 380: 16, 877: 3, 365: 26, 504: 12, 336: 61, 573: 7, 76: 395, 1026: 2, 446: 13, 1438: 3, 1011: 4, 1247: 2, 1757: 2, 613: 8, 653: 11, 418: 12, 388: 13, 378: 18, 550: 7, 756: 2, 207: 84, 474: 10, 932: 3, 1649: 1, 732: 5, 295: 54, 355: 44, 796: 5, 721: 5, 2286: 1, 259: 61, 465: 15, 2591: 2, 1882: 1, 2356: 1, 1824: 1, 900: 2, 280: 67, 344: 64, 444: 6, 652: 6, 913: 2, 414: 9, 715: 3, 245: 67, 1038: 2, 887: 3, 983: 4, 556: 11, 529: 14, 233: 82, 638: 6, 208: 73, 910: 1, 662: 6, 314: 55, 360: 36, 352: 51, 248: 74, 437: 13, 461: 11, 535: 7, 471: 12, 394: 17, 1833: 1, 808: 3, 489: 11, 377: 13, 270: 71, 1603: 1, 430: 13, 540: 5, 1458: 2, 1145: 2, 711: 5, 507: 6, 485: 7, 396: 20, 278: 63, 1007: 2, 1498: 2, 532: 8, 697: 8, 679: 3, 559: 9, 673: 4, 718: 3, 855: 3, 1001: 2, 253: 67, 599: 5, 2059: 1, 707: 5, 2279: 1, 755: 2, 1081: 1, 450: 15, 520: 15, 633: 4, 406: 15, 302: 54, 395: 17, 328: 61, 1107: 2, 904: 2, 219: 77, 971: 5, 1538: 1, 1072: 6, 844: 3, 642: 6, 1678: 1, 421: 13, 825: 3, 340: 52, 555: 5, 714: 7, 2734: 1, 1942: 2, 2147: 1, 895: 5, 477: 9, 186: 110, 775: 7, 683: 6, 782: 3, 1228: 1, 466: 12, 977: 3, 514: 16, 1220: 2, 933: 2, 455: 13, 672: 6, 2117: 1, 684: 5, 1202: 1, 387: 28, 469: 10, 607: 10, 345: 64, 1085: 2, 824: 7, 610: 5, 1182: 1, 841: 8, 323: 52, 575: 7, 393: 16, 399: 17, 770: 1, 705: 6, 284: 63, 537: 5, 686: 7, 457: 15, 256: 70, 339: 42, 1339: 3, 1721: 1, 1492: 1, 319: 45, 661: 5, 3459: 1, 547: 8, 411: 10, 1821: 2, 541: 7, 702: 6, 1290: 3, 790: 2, 1468: 1, 435: 13, 750: 2, 458: 19, 183: 115, 2691: 1, 918: 8, 385: 14, 759: 6, 1423: 1, 972: 1, 2003: 1, 453: 13, 771: 3, 762: 2, 645: 8, 330: 55, 654: 7, 617: 7, 383: 18, 967: 2, 445: 10, 987: 3, 780: 6, 402: 15, 475: 13, 301: 44, 316: 54, 792: 5, 2017: 1, 1071: 4, 499: 10, 678: 5, 1314: 2, 699: 7, 851: 4, 509: 8, 165: 129, 827: 3, 1939: 1, 544: 8, 1413: 3, 1828: 2, 2386: 1, 2590: 1, 2431: 1, 591: 6, 1667: 2, 494: 5, 733: 3, 1027: 1, 1968: 1, 632: 2, 408: 13, 384: 16, 404: 14, 431: 16, 693: 6, 1029: 5, 777: 3, 903: 4, 490: 8, 353: 49, 1162: 4, 1163: 3, 576: 4, 448: 10, 1200: 1, 943: 2, 1039: 3, 2729: 1, 1100: 2, 2210: 2, 567: 7, 1226: 2, 704: 11, 911: 3, 1884: 1, 758: 3, 571: 7, 861: 6, 519: 7, 1109: 3, 379: 12, 1639: 1, 616: 7, 1179: 1, 536: 7, 419: 20, 424: 21, 867: 4, 846: 3, 656: 12, 651: 10, 1022: 2, 486: 15, 1874: 2, 1067: 1, 723: 4, 410: 13, 369: 19, 1647: 1, 321: 47, 523: 9, 452: 9, 1239: 4, 400: 17, 852: 6, 1319: 1, 468: 9, 765: 3, 1967: 2, 518: 4, 685: 6, 538: 7, 381: 27, 606: 11, 644: 6, 1582: 3, 588: 7, 1521: 1, 496: 12, 434: 13, 663: 4, 674: 7, 734: 1, 2665: 1, 553: 9, 1534: 1, 292: 56, 493: 15, 836: 2, 1031: 1, 390: 14, 539: 5, 635: 3, 1111: 2, 800: 1, 3521: 1, 401: 14, 531: 10, 543: 9, 327: 40, 1588: 1, 288: 61, 1049: 1, 569: 4, 803: 4, 600: 8, 1089: 3, 902: 3, 2402: 1, 2853: 1, 816: 4, 2144: 1, 677: 6, 565: 9, 1263: 2, 510: 11, 4337: 1, 1188: 1, 1004: 1, 403: 17, 1021: 3, 2358: 2, 1051: 2, 1332: 1, 601: 6, 615: 4, 1317: 4, 787: 3, 1208: 3, 687: 2, 605: 3, 382: 16, 627: 4, 822: 4, 1359: 1, 1104: 2, 922: 1, 1607: 1, 503: 6, 845: 3, 1204: 2, 865: 2, 1414: 1, 1155: 3, 1868: 1, 618: 6, 546: 9, 619: 6, 1525: 2, 622: 6, 854: 4, 968: 1, 641: 4, 941: 3, 716: 9, 1673: 1, 819: 2, 670: 3, 612: 10, 862: 2, 1074: 4, 429: 9, 643: 7, 1738: 2, 1418: 1, 2509: 1, 696: 4, 647: 3, 1003: 1, 668: 4, 1275: 1, 820: 3, 479: 11, 1696: 1, 1015: 2, 975: 1, 1091: 2, 2302: 1, 1772: 2, 1068: 2, 614: 6, 753: 3, 324: 62, 921: 2, 1225: 1, 1177: 1, 1431: 1, 2839: 1, 629: 5, 1041: 2, 521: 8, 799: 5, 2624: 1, 690: 6, 2084: 1, 2278: 1, 881: 2, 804: 3, 564: 7, 568: 2, 389: 11, 593: 11, 604: 4, 1657: 1, 3398: 1, 608: 7, 2622: 1, 322: 56, 1527: 1, 1503: 1, 951: 4, 625: 5, 821: 2, 995: 4, 950: 5, 1191: 2, 727: 4, 1053: 1, 1769: 1, 658: 4, 1028: 2, 1831: 1, 542: 5, 1445: 2, 436: 12, 2787: 1, 842: 4, 1138: 3, 1640: 1, 905: 2, 1096: 1, 1148: 2, 1943: 1, 2063: 1, 1568: 1, 960: 2, 774: 3, 1447: 1, 2131: 1, 1002: 1, 1281: 2, 916: 2, 582: 8, 985: 2, 708: 4, 726: 3, 2216: 1, 857: 4, 864: 3, 1559: 1, 515: 3, 1362: 3, 809: 6, 1133: 1, 664: 6, 1428: 1, 798: 3, 1668: 2, 807: 3, 1602: 1, 813: 1, 1130: 2, 1098: 2, 751: 3, 1270: 2, 1066: 2, 1360: 3, 1192: 2, 585: 10, 1036: 1, 815: 3, 650: 4, 1183: 4, 491: 8, 676: 4, 3736: 1, 786: 1, 3691: 1, 1323: 4, 5402: 1, 1264: 2, 1469: 1, 1716: 1, 795: 2, 456: 8, 1496: 1, 1135: 1, 757: 3, 2352: 2, 917: 3, 1254: 1, 3541: 1, 579: 6, 492: 9, 660: 4, 398: 10, 739: 3, 1953: 1, 1924: 2, 2078: 1, 3372: 1, 2496: 1, 1365: 3, 2298: 1, 2463: 1, 1424: 1, 2553: 1, 724: 5, 2639: 1, 709: 4, 3251: 1, 680: 6, 1697: 1, 1061: 2, 639: 6, 956: 2, 1119: 2, 1196: 3, 741: 4, 1331: 2, 989: 4, 1369: 1, 3565: 1, 2523: 1, 6889: 1, 5539: 1, 850: 2, 6442: 1, 671: 6, 1719: 1, 1209: 3, 2354: 1, 2612: 1, 4271: 1, 4834: 1, 7587: 1, 2114: 2, 7361: 1, 743: 1, 736: 3, 988: 1, 640: 4, 587: 14, 1895: 1, 1991: 1, 882: 1, 717: 3, 703: 3, 484: 9, 611: 8, 689: 4, 1093: 6, 464: 10, 891: 7, 621: 4, 1257: 3, 1070: 4, 566: 5, 2954: 1, 545: 10, 413: 7, 737: 3, 1835: 1, 584: 7, 1197: 1, 1086: 2, 2067: 1, 1404: 3, 2458: 1, 1809: 1, 1515: 2, 1058: 1, 876: 3, 2124: 1, 1084: 3, 1817: 2, 4856: 1, 517: 13, 1878: 1, 828: 3, 6140: 1, 6803: 1, 4300: 1, 1044: 1, 637: 4, 742: 3, 1012: 2, 3656: 1, 768: 6, 1406: 1, 837: 3, 1907: 1, 3918: 1, 1524: 1, 970: 1, 1321: 3, 1764: 1, 1333: 1, 2331: 1, 897: 2, 5039: 1, 2329: 1, 1547: 1, 1132: 2, 2790: 1, 1756: 1, 2180: 1, 1062: 3, 1605: 1, 659: 4, 940: 2, 1118: 2, 954: 2, 630: 3, 938: 1, 880: 4, 789: 4, 1116: 4, 1215: 1, 2662: 1, 1046: 2, 1185: 1, 3219: 1, 698: 5, 1222: 4, 797: 4, 1313: 3, 511: 7, 574: 6, 463: 5, 1212: 3, 695: 4, 915: 4, 1307: 2, 1231: 1, 712: 4, 1242: 1, 1077: 1, 488: 8, 776: 4, 1502: 1, 2342: 1, 2912: 1, 2886: 2, 868: 3, 939: 2, 1106: 1, 1244: 2, 1306: 1, 898: 5, 374: 15, 914: 3, 1350: 1, 1176: 1, 1194: 1, 1245: 1, 980: 1, 1407: 1, 583: 8, 1790: 1, 1997: 1, 706: 4, 688: 6, 624: 6, 840: 3, 896: 2, 754: 1, 1557: 1, 1487: 1, 1159: 2, 766: 7, 2604: 1, 558: 9, 1490: 2, 3825: 1, 2167: 1, 549: 7, 416: 10, 526: 8, 863: 2, 856: 2, 3171: 1, 1035: 1, 875: 1, 994: 2, 1690: 1, 1075: 2, 2049: 2, 955: 2, 1813: 1, 1473: 1, 834: 4, 1276: 1, 874: 1, 1931: 1, 4098: 1, 1361: 2, 1898: 2, 930: 2, 999: 2, 2792: 2, 1216: 1, 760: 3, 899: 2, 973: 2, 1284: 1, 1283: 2, 2058: 2, 1127: 2, 1405: 1, 791: 2, 1853: 1, 1995: 2, 2301: 2, 1099: 4, 2092: 1, 986: 6, 860: 3, 580: 6, 1224: 1, 772: 4, 1210: 1, 522: 3, 1552: 2, 885: 2, 1020: 1, 2811: 2, 812: 3, 1308: 2, 1745: 1, 590: 4, 2375: 1, 747: 3, 2395: 2, 3432: 1, 1873: 1, 934: 2, 957: 1, 2281: 1, 1380: 1, 1069: 4, 937: 2, 853: 3, 1742: 1, 3200: 1, 1139: 1, 482: 11, 3259: 1, 1969: 1, 974: 3, 1795: 2, 1706: 1, 823: 6, 691: 3, 829: 3, 2528: 2, 1695: 1, 1759: 2, 730: 3, 1550: 2, 1420: 1, 859: 3, 666: 4, 722: 4, 1214: 1, 1042: 1, 1643: 1, 1718: 1, 839: 1, 748: 3, 1909: 1, 814: 2, 929: 3, 1316: 2, 2411: 1, 3566: 1, 883: 3, 1110: 2, 3036: 1, 1646: 1, 1397: 1, 577: 9, 2684: 1, 681: 4, 2423: 1, 7663: 1, 506: 7, 888: 1, 1440: 1, 752: 2, 746: 2, 1280: 2, 1799: 1, 1401: 1, 965: 1, 779: 5, 713: 5, 2208: 1, 602: 1, 1219: 2, 1820: 1, 1136: 2, 784: 2, 4004: 1, 2658: 1, 1383: 2, 700: 6, 1611: 1, 1198: 3, 773: 2, 1347: 2, 1073: 2, 931: 1, 2031: 1, 1448: 1, 920: 4, 694: 4, 835: 6, 1825: 1, 1151: 1, 1206: 1, 1327: 1, 1491: 2, 2038: 1, 3069: 1, 1057: 2, 802: 3, 2596: 2, 1702: 1, 879: 2, 1059: 2, 2700: 1, 889: 4, 909: 2, 729: 2, 1087: 3, 1117: 2, 1142: 1, 1088: 2, 1348: 1, 669: 3, 3000: 1, 720: 2, 878: 1, 2125: 1, 1082: 1, 1342: 1, 1115: 2, 2009: 1, 3102: 1, 894: 2, 1017: 4, 1255: 2, 1269: 1, 1865: 1, 1429: 1, 2020: 1, 1201: 1, 4199: 1, 2462: 1, 4582: 1, 665: 2, 1357: 2, 1782: 1, 2922: 1, 2162: 2, 1717: 1, 3016: 1, 3013: 1, 1199: 1, 1258: 2, 833: 2, 1493: 2, 817: 1, 890: 2, 1877: 1, 2868: 1, 2944: 1, 3614: 1, 5140: 1, 2008: 1, 1095: 3, 4223: 1, 2550: 1, 935: 2, 1379: 2, 1513: 1, 1260: 2, 597: 4, 1616: 2, 964: 2, 1548: 1, 2552: 1, 2335: 2, 2191: 1, 595: 5, 1186: 1, 901: 3, 551: 5, 1617: 1, 3436: 1, 1114: 2, 1858: 1, 4080: 1, 2399: 1, 1834: 1, 2794: 1, 1806: 2, 952: 1, 3329: 1, 1322: 2, 1121: 2, 1129: 1, 648: 5, 1310: 1, 1079: 2, 2030: 1, 1500: 2, 1658: 1, 1654: 2, 1848: 1, 1048: 3, 2227: 1, 2333: 1, 1144: 1, 810: 3, 2326: 1, 1033: 1, 1303: 2, 2949: 1, 1180: 1, 3522: 1, 3109: 1, 2338: 1, 634: 2, 3224: 1, 1274: 1, 1233: 1, 1122: 1, 1749: 1, 2445: 1, 6649: 1, 1735: 1, 524: 5, 1150: 1, 1018: 4, 1512: 1, 2702: 1, 2054: 1, 1008: 2, 838: 1, 2272: 1, 1309: 1, 2467: 1, 2465: 3, 966: 4, 1625: 1, 2160: 1, 3323: 1, 3719: 1, 1005: 1, 1457: 1, 2446: 1, 3009: 1, 1652: 1, 1446: 2, 1485: 1, 2970: 1, 1271: 2, 2941: 1, 2320: 1, 1950: 1, 2989: 1, 2977: 1, 5673: 1, 6495: 1, 1108: 1, 2537: 1, 1730: 1, 1724: 1, 1838: 1, 1541: 1, 1546: 2, 1566: 1, 1013: 1, 1462: 1, 1336: 1, 1467: 1, 1925: 1, 1052: 2, 1395: 1, 3280: 1, 805: 2, 5013: 1, 1291: 2, 738: 1, 2200: 2, 991: 2, 1175: 1, 2275: 1, 873: 3, 1921: 1, 2616: 1, 892: 2, 981: 1, 1595: 1, 1481: 1, 646: 5, 2273: 1, 1511: 1, 963: 1, 1164: 1, 1207: 1, 1392: 1, 1040: 1, 1250: 1, 3210: 1, 2184: 1, 1597: 1, 976: 1, 1443: 2, 1590: 1, 3154: 1, 2327: 1, 4826: 1, 2940: 1, 1844: 1, 1240: 2, 1389: 1, 3366: 1, 1149: 2, 3093: 1, 919: 1, 1355: 1, 5556: 1, 1983: 1, 4252: 1, 1810: 1, 1994: 1, 5629: 1, 3730: 1, 1533: 1, 1032: 2, 1146: 1, 907: 3, 1143: 1, 2950: 1, 2806: 1, 3744: 1, 3748: 1, 4409: 1, 3298: 1, 2106: 1, 1014: 1, 3515: 1, 945: 1, 3255: 1, 1422: 1, 1558: 1, 847: 4, 2407: 1, 1974: 1, 3839: 1, 3294: 1, 2780: 1, 1740: 1, 1409: 1, 870: 2, 5873: 1, 1421: 1, 1054: 1, 1065: 1, 1329: 1, 1141: 1, 1166: 2, 1752: 1, 1023: 1, 2316: 1, 2244: 1, 1528: 1, 1955: 2, 1292: 1, 912: 2, 2576: 1, 2270: 1, 2215: 1, 1990: 1, 2744: 1, 1024: 1, 3837: 1, 4012: 1, 557: 4, 1680: 1, 1335: 1, 1286: 1, 1045: 3, 1619: 1, 1470: 1, 1784: 1, 1864: 1, 979: 1, 1025: 1, 2672: 1, 946: 3, 4089: 1, 719: 3, 1609: 1, 1610: 1, 831: 2, 1262: 1, 1466: 1, 3090: 1, 1763: 1, 1514: 1, 2538: 1, 1009: 1, 1113: 1, 997: 1, 1174: 1, 1034: 1, 990: 1, 4509: 1, 2016: 1, 1396: 1, 3130: 1, 1859: 1, 1488: 2, 8203: 1, 1656: 1, 2141: 1, 1156: 1, 926: 3, 1456: 1, 1037: 1, 2036: 1, 1710: 1, 1615: 1, 788: 1, 4441: 1, 1282: 1, 893: 1, 2233: 1, 1416: 1, 2517: 1, 1904: 1, 1765: 1, 984: 1, 2405: 1, 1090: 1, 2403: 1, 3293: 1, 1346: 1, 2588: 1, 1655: 1, 1912: 1, 1344: 1, 1124: 1, 1080: 2, 2778: 2, 1430: 1, 2685: 1, 1019: 1, 3273: 1, 1479: 1, 2062: 1, 1964: 1, 2197: 1, 1140: 2, 2936: 2, 1880: 1, 2835: 1, 2695: 1, 1402: 2, 3188: 1, 2365: 1, 884: 1, 1381: 1, 3451: 1, 744: 1, 2932: 1, 1767: 1, 3390: 1, 2371: 1, 1553: 1, 1305: 1, 2603: 1, 1293: 1, 1641: 2, 3179: 1, 2771: 1, 1677: 1, 2959: 1, 1961: 1, 2025: 1, 1030: 3, 1461: 1, 871: 1, 906: 1, 1249: 1, 1278: 1, 2712: 1, 1437: 1, 2081: 1, 1539: 1, 1636: 1, 2952: 1, 2068: 1, 3441: 1, 3314: 1, 2837: 1, 2115: 1, 3400: 1, 3393: 1, 2870: 1, 2854: 1, 1167: 1, 2569: 1, 2089: 1, 2826: 1, 2296: 1, 2288: 1, 2562: 1, 2897: 1, 1483: 1, 1687: 1, 2254: 1, 794: 1, 2137: 1, 3094: 1, 3055: 1, 3309: 1, 1928: 1, 1345: 1, 2872: 1, 1535: 1, 2175: 1, 1266: 1, 2902: 1, 2708: 1, 1973: 1, 2962: 1, 1315: 1, 961: 1, 1459: 1, 1325: 2, 2956: 1, 3204: 1, 1367: 1, 1787: 1, 1837: 1, 1773: 1, 1063: 1, 3177: 1, 1536: 1, 1043: 2, 2864: 1, 1125: 1, 2401: 1, 3217: 1, 1612: 1, 2555: 1, 1241: 1, 1571: 1, 2761: 1, 3284: 1, 1505: 1, 1253: 1}\n"
          ],
          "name": "stdout"
        },
        {
          "output_type": "execute_result",
          "data": {
            "text/plain": [
              "(0.0, 1000.0)"
            ]
          },
          "metadata": {
            "tags": []
          },
          "execution_count": 217
        },
        {
          "output_type": "display_data",
          "data": {
            "image/png": "[encoded data removed]",
            "text/plain": [
              "<Figure size 432x288 with 1 Axes>"
            ]
          },
          "metadata": {
            "tags": [],
            "needs_background": "light"
          }
        }
      ]
    },
    {
      "cell_type": "code",
      "metadata": {
        "colab": {
          "base_uri": "https://localhost:8080/",
          "height": 365,
          "referenced_widgets": [
            "30824b467e854b29a46548b8a3b9355e",
            "a27f4497c9ae41538434080f75f9a66c",
            "ddcb83bc58d3473ab5d8a901549420fd",
            "b8e398935aeb4dadaaf8285366447c48",
            "56a87427b1a54e16bf8ca15f24963ce6",
            "ae8c6d59799a4c93885c66ae54dec598",
            "8a4483ca965444fbbbe9501ebdf54374",
            "190ab6af28b54fa8bc297e199011da42",
            "ea744325a059480ab38ef32b8589bc1b",
            "cae606e670f647b293c67d38a1d7bb10",
            "e563e06ffd5e43a983adf60095aa149b",
            "8735f9a34cf54cd89bbe57706e30eb31",
            "973f9c2ba14041adaec40729fb3adb24",
            "7b065843752249e5aad95dbb323d998c",
            "319d5a5ca4b24896a5ec7d683025637b",
            "e194ca364b48479bbf498a2b2066a241",
            "3b4ce007377a45739386ef74ce8b2789",
            "73231deabc3b4b7197b9520ccf30e490",
            "2f87ff0866454649a8f5faf4e536b2a0",
            "cac4118e8b9d4a9b8238eb235ca112ed",
            "45e5f567fb3741f798512ed06382bacd",
            "3b6c4a2d510248a597087519c29ccb71",
            "50861c6be22a4e38afea8fcfc948e5b1",
            "9dfb84525f47437e8f823c1240c960c4",
            "fbb3048d6ab740b78355564a03a52be6",
            "cd711f55ac4d41de99fbb579980b2964",
            "a5c7c5ccdbbe4e78a00fe54c6e0f53b4",
            "09de554e07c5471ca68736583f06d379",
            "b661929037554c858f391c1046fd210b",
            "4c988c36e2144f1a845459fde2bfce4e",
            "033b314ac7694da28ef816e0c740ed46",
            "6cc818e2e71848b49c35a5ff9e74a8ef",
            "f60f41be999e4144b1daaacdd659251a",
            "27af0f1b47b24ef6b21f43f5fa1da6ce",
            "f4dc667001124876bd5b752e64899873",
            "936bdd9bef3a488aac6048d2e9f10706",
            "71e3a2c2ee5a49aeadd86b5a3dab94d6",
            "ca7307b4c4c34e948184dd8a5cb8af4c",
            "a86f4fb9ba8c49ff901e4bbbf3c28250",
            "2a3d043bfddd48cfbb70f1b8911748f6"
          ]
        },
        "id": "RbPWMpV23UVn",
        "outputId": "36a70a26-d04e-4410-f78d-13bb4a951db4"
      },
      "source": [
        "model = setup_classifier(\n",
        "    model_name = \"drive/MyDrive/classifiers/bert/CroSloEngual\",\n",
        "    num_labels = 2\n",
        ")\n",
        "\n",
        "dataset = setup_data(\n",
        "    model_name = \"drive/MyDrive/classifiers/bert/CroSloEngual\",\n",
        "    x = x,\n",
        "    y = y,\n",
        "    do_lower_case = False,\n",
        "    max_length = 512\n",
        ")\n",
        "\n",
        "test_ratio = 0.8\n",
        "train_size = int(test_ratio * len(dataset))\n",
        "test_size = len(dataset) - train_size\n",
        "\n",
        "train_dataset, test_dataset = random_split(dataset, [train_size, test_size], generator=torch.Generator().manual_seed(seed_val))"
      ],
      "execution_count": null,
      "outputs": [
        {
          "output_type": "display_data",
          "data": {
            "application/vnd.jupyter.widget-view+json": {
              "model_id": "30824b467e854b29a46548b8a3b9355e",
              "version_minor": 0,
              "version_major": 2
            },
            "text/plain": [
              "HBox(children=(FloatProgress(value=0.0, description='Downloading', max=625.0, style=ProgressStyle(description_…"
            ]
          },
          "metadata": {
            "tags": []
          }
        },
        {
          "output_type": "stream",
          "text": [
            "\n"
          ],
          "name": "stdout"
        },
        {
          "output_type": "display_data",
          "data": {
            "application/vnd.jupyter.widget-view+json": {
              "model_id": "ea744325a059480ab38ef32b8589bc1b",
              "version_minor": 0,
              "version_major": 2
            },
            "text/plain": [
              "HBox(children=(FloatProgress(value=0.0, description='Downloading', max=714314041.0, style=ProgressStyle(descri…"
            ]
          },
          "metadata": {
            "tags": []
          }
        },
        {
          "output_type": "stream",
          "text": [
            "\n"
          ],
          "name": "stdout"
        },
        {
          "output_type": "stream",
          "text": [
            "Some weights of the model checkpoint at bert-base-multilingual-cased were not used when initializing BertForSequenceClassification: ['cls.predictions.bias', 'cls.predictions.transform.dense.weight', 'cls.predictions.transform.dense.bias', 'cls.predictions.decoder.weight', 'cls.seq_relationship.weight', 'cls.seq_relationship.bias', 'cls.predictions.transform.LayerNorm.weight', 'cls.predictions.transform.LayerNorm.bias']\n",
            "- This IS expected if you are initializing BertForSequenceClassification from the checkpoint of a model trained on another task or with another architecture (e.g. initializing a BertForSequenceClassification model from a BertForPreTraining model).\n",
            "- This IS NOT expected if you are initializing BertForSequenceClassification from the checkpoint of a model that you expect to be exactly identical (initializing a BertForSequenceClassification model from a BertForSequenceClassification model).\n",
            "Some weights of BertForSequenceClassification were not initialized from the model checkpoint at bert-base-multilingual-cased and are newly initialized: ['classifier.weight', 'classifier.bias']\n",
            "You should probably TRAIN this model on a down-stream task to be able to use it for predictions and inference.\n"
          ],
          "name": "stderr"
        },
        {
          "output_type": "display_data",
          "data": {
            "application/vnd.jupyter.widget-view+json": {
              "model_id": "3b4ce007377a45739386ef74ce8b2789",
              "version_minor": 0,
              "version_major": 2
            },
            "text/plain": [
              "HBox(children=(FloatProgress(value=0.0, description='Downloading', max=995526.0, style=ProgressStyle(descripti…"
            ]
          },
          "metadata": {
            "tags": []
          }
        },
        {
          "output_type": "stream",
          "text": [
            "\n"
          ],
          "name": "stdout"
        },
        {
          "output_type": "display_data",
          "data": {
            "application/vnd.jupyter.widget-view+json": {
              "model_id": "fbb3048d6ab740b78355564a03a52be6",
              "version_minor": 0,
              "version_major": 2
            },
            "text/plain": [
              "HBox(children=(FloatProgress(value=0.0, description='Downloading', max=29.0, style=ProgressStyle(description_w…"
            ]
          },
          "metadata": {
            "tags": []
          }
        },
        {
          "output_type": "stream",
          "text": [
            "\n"
          ],
          "name": "stdout"
        },
        {
          "output_type": "display_data",
          "data": {
            "application/vnd.jupyter.widget-view+json": {
              "model_id": "f60f41be999e4144b1daaacdd659251a",
              "version_minor": 0,
              "version_major": 2
            },
            "text/plain": [
              "HBox(children=(FloatProgress(value=0.0, description='Downloading', max=1961828.0, style=ProgressStyle(descript…"
            ]
          },
          "metadata": {
            "tags": []
          }
        },
        {
          "output_type": "stream",
          "text": [
            "\n"
          ],
          "name": "stdout"
        }
      ]
    },
    {
      "cell_type": "markdown",
      "metadata": {
        "id": "iTN9KIt0ASOt"
      },
      "source": [
        "## Train dataset class distribution"
      ]
    },
    {
      "cell_type": "code",
      "metadata": {
        "colab": {
          "base_uri": "https://localhost:8080/",
          "height": 298
        },
        "id": "11ZtjhbhA821",
        "outputId": "8f6a1ff9-b48c-4d13-8674-384ad157435a"
      },
      "source": [
        "class_distribution = distribution_dataset([e[2].item() for e in list(train_dataset)])\n",
        "print(class_distribution)\n",
        "xv = list(class_distribution.keys())\n",
        "yv = list(class_distribution.values())\n",
        "plt.bar(xv, yv, color=\"tab:blue\")"
      ],
      "execution_count": null,
      "outputs": [
        {
          "output_type": "stream",
          "text": [
            "{0: 32458, 1: 25594}\n"
          ],
          "name": "stdout"
        },
        {
          "output_type": "execute_result",
          "data": {
            "text/plain": [
              "<BarContainer object of 2 artists>"
            ]
          },
          "metadata": {
            "tags": []
          },
          "execution_count": 220
        },
        {
          "output_type": "display_data",
          "data": {
            "image/png": "[encoded data removed]",
            "text/plain": [
              "<Figure size 432x288 with 1 Axes>"
            ]
          },
          "metadata": {
            "tags": [],
            "needs_background": "light"
          }
        }
      ]
    },
    {
      "cell_type": "markdown",
      "metadata": {
        "id": "_HJh2OzQAb7c"
      },
      "source": [
        "## Test dataset class distribution"
      ]
    },
    {
      "cell_type": "code",
      "metadata": {
        "colab": {
          "base_uri": "https://localhost:8080/",
          "height": 298
        },
        "id": "8ECSBRR5BVIv",
        "outputId": "98296dfe-4441-4d57-de99-73a0423e591d"
      },
      "source": [
        "class_distribution = distribution_dataset([e[2].item() for e in list(test_dataset)])\n",
        "print(class_distribution)\n",
        "xv = list(class_distribution.keys())\n",
        "yv = list(class_distribution.values())\n",
        "plt.bar(xv, yv, color=\"tab:orange\")"
      ],
      "execution_count": null,
      "outputs": [
        {
          "output_type": "stream",
          "text": [
            "{1: 6385, 0: 8128}\n"
          ],
          "name": "stdout"
        },
        {
          "output_type": "execute_result",
          "data": {
            "text/plain": [
              "<BarContainer object of 2 artists>"
            ]
          },
          "metadata": {
            "tags": []
          },
          "execution_count": 221
        },
        {
          "output_type": "display_data",
          "data": {
            "image/png": "[encoded data removed]",
            "text/plain": [
              "<Figure size 432x288 with 1 Axes>"
            ]
          },
          "metadata": {
            "tags": [],
            "needs_background": "light"
          }
        }
      ]
    },
    {
      "cell_type": "markdown",
      "metadata": {
        "id": "4_9Vgtcy_9cR"
      },
      "source": [
        "## Train"
      ]
    },
    {
      "cell_type": "code",
      "metadata": {
        "colab": {
          "base_uri": "https://localhost:8080/"
        },
        "id": "jfR1d7Dg3_oy",
        "outputId": "194c54a7-1d1c-4b76-c201-f46cca5830c0"
      },
      "source": [
        "torch.cuda.empty_cache()\n",
        "!nvidia-smi"
      ],
      "execution_count": null,
      "outputs": [
        {
          "output_type": "stream",
          "text": [
            "Sun May  2 03:37:39 2021       \n",
            "+-----------------------------------------------------------------------------+\n",
            "| NVIDIA-SMI 465.19.01    Driver Version: 460.32.03    CUDA Version: 11.2     |\n",
            "|-------------------------------+----------------------+----------------------+\n",
            "| GPU  Name        Persistence-M| Bus-Id        Disp.A | Volatile Uncorr. ECC |\n",
            "| Fan  Temp  Perf  Pwr:Usage/Cap|         Memory-Usage | GPU-Util  Compute M. |\n",
            "|                               |                      |               MIG M. |\n",
            "|===============================+======================+======================|\n",
            "|   0  Tesla T4            Off  | 00000000:00:04.0 Off |                    0 |\n",
            "| N/A   45C    P0    30W /  70W |   2016MiB / 15109MiB |    100%      Default |\n",
            "|                               |                      |                  N/A |\n",
            "+-------------------------------+----------------------+----------------------+\n",
            "                                                                               \n",
            "+-----------------------------------------------------------------------------+\n",
            "| Processes:                                                                  |\n",
            "|  GPU   GI   CI        PID   Type   Process name                  GPU Memory |\n",
            "|        ID   ID                                                   Usage      |\n",
            "|=============================================================================|\n",
            "+-----------------------------------------------------------------------------+\n"
          ],
          "name": "stdout"
        }
      ]
    },
    {
      "cell_type": "code",
      "metadata": {
        "colab": {
          "base_uri": "https://localhost:8080/"
        },
        "id": "QzcU0XMR3Yor",
        "outputId": "645fafa8-7c84-4592-827f-37e1459ad79f"
      },
      "source": [
        "model, stats = train_classifier(\n",
        "    model = model,\n",
        "    dataset = train_dataset,\n",
        "    validation_ratio = 0.9,\n",
        "    batch_size = 20,\n",
        "    freeze_embeddings_layer = True,\n",
        "    freeze_encoder_layers = 8,\n",
        "    epochs = 3,\n",
        "    save_checkpoints = True\n",
        ")"
      ],
      "execution_count": null,
      "outputs": [
        {
          "output_type": "stream",
          "text": [
            "There are 1 GPU(s) available.\n",
            "We will use the GPU: Tesla T4\n",
            "\n",
            "======== Epoch 1 / 3 ========\n",
            "Training...\n",
            "  Batch    40  of  2,613.    Elapsed: 0:00:38.\n",
            "  Batch    80  of  2,613.    Elapsed: 0:01:17.\n",
            "  Batch   120  of  2,613.    Elapsed: 0:01:58.\n",
            "  Batch   160  of  2,613.    Elapsed: 0:02:38.\n",
            "  Batch   200  of  2,613.    Elapsed: 0:03:19.\n",
            "  Batch   240  of  2,613.    Elapsed: 0:04:01.\n",
            "  Batch   280  of  2,613.    Elapsed: 0:04:43.\n",
            "  Batch   320  of  2,613.    Elapsed: 0:05:25.\n",
            "  Batch   360  of  2,613.    Elapsed: 0:06:08.\n",
            "  Batch   400  of  2,613.    Elapsed: 0:06:51.\n",
            "  Batch   440  of  2,613.    Elapsed: 0:07:33.\n",
            "  Batch   480  of  2,613.    Elapsed: 0:08:16.\n",
            "  Batch   520  of  2,613.    Elapsed: 0:08:59.\n",
            "  Batch   560  of  2,613.    Elapsed: 0:09:42.\n",
            "  Batch   600  of  2,613.    Elapsed: 0:10:25.\n",
            "  Batch   640  of  2,613.    Elapsed: 0:11:08.\n",
            "  Batch   680  of  2,613.    Elapsed: 0:11:51.\n",
            "  Batch   720  of  2,613.    Elapsed: 0:12:34.\n",
            "  Batch   760  of  2,613.    Elapsed: 0:13:17.\n",
            "  Batch   800  of  2,613.    Elapsed: 0:14:00.\n",
            "  Batch   840  of  2,613.    Elapsed: 0:14:43.\n",
            "  Batch   880  of  2,613.    Elapsed: 0:15:26.\n",
            "  Batch   920  of  2,613.    Elapsed: 0:16:09.\n",
            "  Batch   960  of  2,613.    Elapsed: 0:16:52.\n",
            "  Batch 1,000  of  2,613.    Elapsed: 0:17:36.\n",
            "  Batch 1,040  of  2,613.    Elapsed: 0:18:19.\n",
            "  Batch 1,080  of  2,613.    Elapsed: 0:19:03.\n",
            "  Batch 1,120  of  2,613.    Elapsed: 0:19:46.\n",
            "  Batch 1,160  of  2,613.    Elapsed: 0:20:29.\n",
            "  Batch 1,200  of  2,613.    Elapsed: 0:21:12.\n",
            "  Batch 1,240  of  2,613.    Elapsed: 0:21:55.\n",
            "  Batch 1,280  of  2,613.    Elapsed: 0:22:38.\n",
            "  Batch 1,320  of  2,613.    Elapsed: 0:23:22.\n",
            "  Batch 1,360  of  2,613.    Elapsed: 0:24:05.\n",
            "  Batch 1,400  of  2,613.    Elapsed: 0:24:48.\n",
            "  Batch 1,440  of  2,613.    Elapsed: 0:25:31.\n",
            "  Batch 1,480  of  2,613.    Elapsed: 0:26:14.\n",
            "  Batch 1,520  of  2,613.    Elapsed: 0:26:57.\n",
            "  Batch 1,560  of  2,613.    Elapsed: 0:27:40.\n",
            "  Batch 1,600  of  2,613.    Elapsed: 0:28:23.\n",
            "  Batch 1,640  of  2,613.    Elapsed: 0:29:06.\n",
            "  Batch 1,680  of  2,613.    Elapsed: 0:29:49.\n",
            "  Batch 1,720  of  2,613.    Elapsed: 0:30:32.\n",
            "  Batch 1,760  of  2,613.    Elapsed: 0:31:16.\n",
            "  Batch 1,800  of  2,613.    Elapsed: 0:31:59.\n"
          ],
          "name": "stdout"
        }
      ]
    },
    {
      "cell_type": "code",
      "metadata": {
        "colab": {
          "base_uri": "https://localhost:8080/"
        },
        "id": "6u_iD9DPUnYg",
        "outputId": "8a547f14-d29b-4042-d8d5-44bb74a98b75"
      },
      "source": [
        "model_state_dict, _, _, _ = load_checkpoint(\"drive/MyDrive/models/1. binary_checkpoint_e2_2021-05-01 23:32:30.839698.pt\")\n",
        "model.load_state_dict(model_state_dict)"
      ],
      "execution_count": null,
      "outputs": [
        {
          "output_type": "execute_result",
          "data": {
            "text/plain": [
              "<All keys matched successfully>"
            ]
          },
          "metadata": {
            "tags": []
          },
          "execution_count": 147
        }
      ]
    },
    {
      "cell_type": "markdown",
      "metadata": {
        "id": "XmPslDtRAAlh"
      },
      "source": [
        "## Test"
      ]
    },
    {
      "cell_type": "code",
      "metadata": {
        "colab": {
          "base_uri": "https://localhost:8080/"
        },
        "id": "HzVHRZEXySqO",
        "outputId": "64ba179e-382f-44e1-febc-f74d0edf72e9"
      },
      "source": [
        "predictions, true_labels = test_classifier(\n",
        "    model = model,\n",
        "    dataset = test_dataset,\n",
        "    batch_size = 32\n",
        ")"
      ],
      "execution_count": null,
      "outputs": [
        {
          "output_type": "stream",
          "text": [
            "There are 1 GPU(s) available.\n",
            "We will use the GPU: Tesla T4\n",
            "\n",
            "Running Prediction...\n",
            "DONE.\n"
          ],
          "name": "stdout"
        }
      ]
    },
    {
      "cell_type": "markdown",
      "metadata": {
        "id": "BP2iSlOwAGFe"
      },
      "source": [
        "## Performance"
      ]
    },
    {
      "cell_type": "code",
      "metadata": {
        "colab": {
          "base_uri": "https://localhost:8080/"
        },
        "id": "dsmDx5DXIlV4",
        "outputId": "4379ebc0-17c2-403c-8a0d-c8899642a07d"
      },
      "source": [
        "print_performance_metrics(predictions, true_labels)"
      ],
      "execution_count": null,
      "outputs": [
        {
          "output_type": "stream",
          "text": [
            "\n",
            "Confusion Matrix\n",
            "Rows - Actual\n",
            "Columns - Predicted\n",
            "\n",
            "    |      0     1 | \n",
            "---------------------------\n",
            "  0 |  49.76  5.83 |  55.59\n",
            "  1 |   3.70 40.71 |  44.41\n",
            "---------------------------\n",
            "    |  53.46 46.54 | \n",
            "\n",
            "Majority Class                     :  0.5559\n",
            "Accuracy                           :  0.9047\n",
            "\n",
            "Sensitivity, Recall                :  0.8951\n",
            "Specificity                        :  0.9167\n",
            "Positive Predictive, Precision     :  0.9308\n",
            "Negative Predictive                :  0.8747\n",
            "F1 Score                           :  0.9126\n"
          ],
          "name": "stdout"
        }
      ]
    },
    {
      "cell_type": "markdown",
      "metadata": {
        "id": "YSanatpqKcOz"
      },
      "source": [
        "**Saving model**"
      ]
    },
    {
      "cell_type": "code",
      "metadata": {
        "id": "aGNAQXvpzH2j"
      },
      "source": [
        "save_model(\"drive/MyDrive/models/binary_5_nostop_400.pt\", model)"
      ],
      "execution_count": null,
      "outputs": []
    },
    {
      "cell_type": "markdown",
      "metadata": {
        "id": "vwFfPKXW-eVr"
      },
      "source": [
        "# Multiclass Eng classification"
      ]
    },
    {
      "cell_type": "markdown",
      "metadata": {
        "id": "HPxOSL2D_N4R"
      },
      "source": [
        "## Setup"
      ]
    },
    {
      "cell_type": "code",
      "metadata": {
        "id": "Gkb5Ox29KEkS"
      },
      "source": [
        "multiclass_data = pd.read_csv('drive/MyDrive/Data/Eng/Multiclass/data.csv')\n",
        "x,y = run_dataset_preparation(multiclass_data, \"eng\", remove_stopwords=False, do_lemmatization=False)"
      ],
      "execution_count": 40,
      "outputs": []
    },
    {
      "cell_type": "markdown",
      "metadata": {
        "id": "d7qPZcQ3dRS9"
      },
      "source": [
        "Text length distribution"
      ]
    },
    {
      "cell_type": "code",
      "metadata": {
        "colab": {
          "base_uri": "https://localhost:8080/",
          "height": 282
        },
        "id": "NnmkzmvFdM3A",
        "outputId": "750aa7c2-8038-4792-f2e1-f3feec99f5e8"
      },
      "source": [
        "length_distribution = distribution_dataset([len(e) for e in list(x.values)])\n",
        "xv = list(length_distribution.keys())\n",
        "yv = list(length_distribution.values())\n",
        "plt.bar(xv, yv, color=\"tab:blue\")\n",
        "axes = plt.gca()\n",
        "axes.set_xlim([0,1000])"
      ],
      "execution_count": 41,
      "outputs": [
        {
          "output_type": "execute_result",
          "data": {
            "text/plain": [
              "(0.0, 1000.0)"
            ]
          },
          "metadata": {
            "tags": []
          },
          "execution_count": 41
        },
        {
          "output_type": "display_data",
          "data": {
            "image/png": "[encoded data removed]",
            "text/plain": [
              "<Figure size 432x288 with 1 Axes>"
            ]
          },
          "metadata": {
            "tags": [],
            "needs_background": "light"
          }
        }
      ]
    },
    {
      "cell_type": "code",
      "metadata": {
        "colab": {
          "base_uri": "https://localhost:8080/"
        },
        "id": "1qQq7zVFKQup",
        "outputId": "8193ae2b-c964-4896-b44f-efafc2734b81"
      },
      "source": [
        "model = setup_classifier(\n",
        "    model_name = \"drive/MyDrive/classifiers/bert/CroSloEngual\",\n",
        "    num_labels = 6\n",
        ")\n",
        "\n",
        "dataset = setup_data(\n",
        "    model_name = \"drive/MyDrive/classifiers/bert/CroSloEngual\",\n",
        "    x = x,\n",
        "    y = y,\n",
        "    do_lower_case = False,\n",
        "    max_length = 512\n",
        ")\n",
        "\n",
        "test_ratio = 0.8\n",
        "train_size = int(test_ratio * len(dataset))\n",
        "test_size = len(dataset) - train_size\n",
        "\n",
        "train_dataset, test_dataset = random_split(dataset, [train_size, test_size], generator=torch.Generator().manual_seed(seed_val))"
      ],
      "execution_count": 42,
      "outputs": [
        {
          "output_type": "stream",
          "text": [
            "Some weights of the model checkpoint at drive/MyDrive/classifiers/bert/CroSloEngual were not used when initializing BertForSequenceClassification: ['cls.predictions.bias', 'cls.predictions.transform.dense.weight', 'cls.seq_relationship.weight', 'cls.predictions.decoder.weight', 'cls.predictions.transform.dense.bias', 'cls.predictions.transform.LayerNorm.weight', 'cls.seq_relationship.bias', 'cls.predictions.transform.LayerNorm.bias']\n",
            "- This IS expected if you are initializing BertForSequenceClassification from the checkpoint of a model trained on another task or with another architecture (e.g. initializing a BertForSequenceClassification model from a BertForPreTraining model).\n",
            "- This IS NOT expected if you are initializing BertForSequenceClassification from the checkpoint of a model that you expect to be exactly identical (initializing a BertForSequenceClassification model from a BertForSequenceClassification model).\n",
            "Some weights of BertForSequenceClassification were not initialized from the model checkpoint at drive/MyDrive/classifiers/bert/CroSloEngual and are newly initialized: ['classifier.bias', 'classifier.weight']\n",
            "You should probably TRAIN this model on a down-stream task to be able to use it for predictions and inference.\n"
          ],
          "name": "stderr"
        }
      ]
    },
    {
      "cell_type": "markdown",
      "metadata": {
        "id": "-gBS2fvo8_Z_"
      },
      "source": [
        "## Train dataset class distribution"
      ]
    },
    {
      "cell_type": "code",
      "metadata": {
        "colab": {
          "base_uri": "https://localhost:8080/",
          "height": 298
        },
        "id": "C1Da6VhT5WrN",
        "outputId": "aace49a9-c1d5-49d3-d95e-b780e4318062"
      },
      "source": [
        "class_distribution = distribution_dataset([e[2].item() for e in list(train_dataset)])\n",
        "print(class_distribution)\n",
        "xv = list(class_distribution.keys())\n",
        "yv = list(class_distribution.values())\n",
        "plt.bar(xv, yv, color=\"tab:blue\")"
      ],
      "execution_count": 43,
      "outputs": [
        {
          "output_type": "stream",
          "text": [
            "{0: 34210, 1: 4577, 5: 1866, 2: 12411, 3: 6686, 4: 562}\n"
          ],
          "name": "stdout"
        },
        {
          "output_type": "execute_result",
          "data": {
            "text/plain": [
              "<BarContainer object of 6 artists>"
            ]
          },
          "metadata": {
            "tags": []
          },
          "execution_count": 43
        },
        {
          "output_type": "display_data",
          "data": {
            "image/png": "[encoded data removed]",
            "text/plain": [
              "<Figure size 432x288 with 1 Axes>"
            ]
          },
          "metadata": {
            "tags": [],
            "needs_background": "light"
          }
        }
      ]
    },
    {
      "cell_type": "markdown",
      "metadata": {
        "id": "_jaGOmPe9N0D"
      },
      "source": [
        "## Test dataset class distribution"
      ]
    },
    {
      "cell_type": "code",
      "metadata": {
        "colab": {
          "base_uri": "https://localhost:8080/",
          "height": 298
        },
        "id": "kAXSxdRI8a9i",
        "outputId": "31344700-f4b3-4978-aa59-d8a09ad1620a"
      },
      "source": [
        "class_distribution = distribution_dataset([e[2].item() for e in list(test_dataset)])\n",
        "print(class_distribution)\n",
        "xv = list(class_distribution.keys())\n",
        "yv = list(class_distribution.values())\n",
        "plt.bar(xv, yv, color=\"tab:orange\")"
      ],
      "execution_count": 44,
      "outputs": [
        {
          "output_type": "stream",
          "text": [
            "{0: 8621, 3: 1749, 2: 3044, 1: 1105, 5: 417, 4: 142}\n"
          ],
          "name": "stdout"
        },
        {
          "output_type": "execute_result",
          "data": {
            "text/plain": [
              "<BarContainer object of 6 artists>"
            ]
          },
          "metadata": {
            "tags": []
          },
          "execution_count": 44
        },
        {
          "output_type": "display_data",
          "data": {
            "image/png": "[encoded data removed]",
            "text/plain": [
              "<Figure size 432x288 with 1 Axes>"
            ]
          },
          "metadata": {
            "tags": [],
            "needs_background": "light"
          }
        }
      ]
    },
    {
      "cell_type": "markdown",
      "metadata": {
        "id": "PabB9eGV--Xz"
      },
      "source": [
        "## Train"
      ]
    },
    {
      "cell_type": "code",
      "metadata": {
        "id": "FLedbWjPnJ8n",
        "colab": {
          "base_uri": "https://localhost:8080/"
        },
        "outputId": "8c113609-ef48-4b41-b628-5e56a6229836"
      },
      "source": [
        "torch.cuda.empty_cache()\n",
        "!nvidia-smi"
      ],
      "execution_count": 45,
      "outputs": [
        {
          "output_type": "stream",
          "text": [
            "Fri May 21 11:22:45 2021       \n",
            "+-----------------------------------------------------------------------------+\n",
            "| NVIDIA-SMI 465.19.01    Driver Version: 460.32.03    CUDA Version: 11.2     |\n",
            "|-------------------------------+----------------------+----------------------+\n",
            "| GPU  Name        Persistence-M| Bus-Id        Disp.A | Volatile Uncorr. ECC |\n",
            "| Fan  Temp  Perf  Pwr:Usage/Cap|         Memory-Usage | GPU-Util  Compute M. |\n",
            "|                               |                      |               MIG M. |\n",
            "|===============================+======================+======================|\n",
            "|   0  Tesla T4            Off  | 00000000:00:04.0 Off |                    0 |\n",
            "| N/A   69C    P0    36W /  70W |   2848MiB / 15109MiB |     93%      Default |\n",
            "|                               |                      |                  N/A |\n",
            "+-------------------------------+----------------------+----------------------+\n",
            "                                                                               \n",
            "+-----------------------------------------------------------------------------+\n",
            "| Processes:                                                                  |\n",
            "|  GPU   GI   CI        PID   Type   Process name                  GPU Memory |\n",
            "|        ID   ID                                                   Usage      |\n",
            "|=============================================================================|\n",
            "+-----------------------------------------------------------------------------+\n"
          ],
          "name": "stdout"
        }
      ]
    },
    {
      "cell_type": "code",
      "metadata": {
        "colab": {
          "base_uri": "https://localhost:8080/"
        },
        "id": "rJcywstmfibI",
        "outputId": "60aa5fb3-ec7e-443b-a799-65c8f3a0e5c1"
      },
      "source": [
        "model, stats = train_classifier(\n",
        "    model = model,\n",
        "    dataset = train_dataset,\n",
        "    validation_ratio = 0.9,\n",
        "    batch_size = 20,\n",
        "    freeze_embeddings_layer = True,\n",
        "    freeze_encoder_layers = 8,\n",
        "    epochs = 3,\n",
        "    save_checkpoints = True\n",
        ")"
      ],
      "execution_count": null,
      "outputs": [
        {
          "output_type": "stream",
          "text": [
            "There are 1 GPU(s) available.\n",
            "We will use the GPU: Tesla T4\n",
            "\n",
            "======== Epoch 1 / 3 ========\n",
            "Training...\n",
            "  Batch    40  of  2,714.    Elapsed: 0:00:43.\n",
            "  Batch    80  of  2,714.    Elapsed: 0:01:25.\n",
            "  Batch   120  of  2,714.    Elapsed: 0:02:07.\n",
            "  Batch   160  of  2,714.    Elapsed: 0:02:50.\n",
            "  Batch   200  of  2,714.    Elapsed: 0:03:32.\n",
            "  Batch   240  of  2,714.    Elapsed: 0:04:14.\n",
            "  Batch   280  of  2,714.    Elapsed: 0:04:57.\n",
            "  Batch   320  of  2,714.    Elapsed: 0:05:39.\n",
            "  Batch   360  of  2,714.    Elapsed: 0:06:21.\n",
            "  Batch   400  of  2,714.    Elapsed: 0:07:04.\n",
            "  Batch   440  of  2,714.    Elapsed: 0:07:46.\n",
            "  Batch   480  of  2,714.    Elapsed: 0:08:29.\n",
            "  Batch   520  of  2,714.    Elapsed: 0:09:11.\n",
            "  Batch   560  of  2,714.    Elapsed: 0:09:54.\n",
            "  Batch   600  of  2,714.    Elapsed: 0:10:36.\n",
            "  Batch   640  of  2,714.    Elapsed: 0:11:19.\n",
            "  Batch   680  of  2,714.    Elapsed: 0:12:01.\n",
            "  Batch   720  of  2,714.    Elapsed: 0:12:43.\n",
            "  Batch   760  of  2,714.    Elapsed: 0:13:26.\n",
            "  Batch   800  of  2,714.    Elapsed: 0:14:08.\n",
            "  Batch   840  of  2,714.    Elapsed: 0:14:50.\n",
            "  Batch   880  of  2,714.    Elapsed: 0:15:33.\n",
            "  Batch   920  of  2,714.    Elapsed: 0:16:15.\n",
            "  Batch   960  of  2,714.    Elapsed: 0:16:58.\n",
            "  Batch 1,000  of  2,714.    Elapsed: 0:17:40.\n",
            "  Batch 1,040  of  2,714.    Elapsed: 0:18:23.\n",
            "  Batch 1,080  of  2,714.    Elapsed: 0:19:05.\n",
            "  Batch 1,120  of  2,714.    Elapsed: 0:19:48.\n",
            "  Batch 1,160  of  2,714.    Elapsed: 0:20:30.\n",
            "  Batch 1,200  of  2,714.    Elapsed: 0:21:12.\n",
            "  Batch 1,240  of  2,714.    Elapsed: 0:21:55.\n",
            "  Batch 1,280  of  2,714.    Elapsed: 0:22:37.\n",
            "  Batch 1,320  of  2,714.    Elapsed: 0:23:20.\n",
            "  Batch 1,360  of  2,714.    Elapsed: 0:24:02.\n",
            "  Batch 1,400  of  2,714.    Elapsed: 0:24:45.\n",
            "  Batch 1,440  of  2,714.    Elapsed: 0:25:27.\n",
            "  Batch 1,480  of  2,714.    Elapsed: 0:26:10.\n",
            "  Batch 1,520  of  2,714.    Elapsed: 0:26:52.\n",
            "  Batch 1,560  of  2,714.    Elapsed: 0:27:34.\n",
            "  Batch 1,600  of  2,714.    Elapsed: 0:28:17.\n",
            "  Batch 1,640  of  2,714.    Elapsed: 0:28:59.\n",
            "  Batch 1,680  of  2,714.    Elapsed: 0:29:42.\n",
            "  Batch 1,720  of  2,714.    Elapsed: 0:30:24.\n",
            "  Batch 1,760  of  2,714.    Elapsed: 0:31:06.\n",
            "  Batch 1,800  of  2,714.    Elapsed: 0:31:49.\n",
            "  Batch 1,840  of  2,714.    Elapsed: 0:32:31.\n",
            "  Batch 1,880  of  2,714.    Elapsed: 0:33:13.\n",
            "  Batch 1,920  of  2,714.    Elapsed: 0:33:56.\n",
            "  Batch 1,960  of  2,714.    Elapsed: 0:34:38.\n",
            "  Batch 2,000  of  2,714.    Elapsed: 0:35:21.\n",
            "  Batch 2,040  of  2,714.    Elapsed: 0:36:03.\n",
            "  Batch 2,080  of  2,714.    Elapsed: 0:36:46.\n"
          ],
          "name": "stdout"
        }
      ]
    },
    {
      "cell_type": "markdown",
      "metadata": {
        "id": "vqDT_mFv_Z6D"
      },
      "source": [
        "## Test"
      ]
    },
    {
      "cell_type": "code",
      "metadata": {
        "colab": {
          "base_uri": "https://localhost:8080/"
        },
        "id": "T1mespARhrcP",
        "outputId": "1d099e43-1f02-4c48-ad6f-c7dee5efd07c"
      },
      "source": [
        "model_state_dict, _, _, _ = load_checkpoint(\"drive/MyDrive/models/checkpoint_e2_2021-05-21 06:18:16.890388.pt\")\n",
        "model.load_state_dict(model_state_dict)"
      ],
      "execution_count": 23,
      "outputs": [
        {
          "output_type": "execute_result",
          "data": {
            "text/plain": [
              "<All keys matched successfully>"
            ]
          },
          "metadata": {
            "tags": []
          },
          "execution_count": 23
        }
      ]
    },
    {
      "cell_type": "code",
      "metadata": {
        "colab": {
          "base_uri": "https://localhost:8080/",
          "height": 397
        },
        "id": "PzchdYSYflEk",
        "outputId": "c3dbe730-8dbe-4585-86ce-d75394aad191"
      },
      "source": [
        "predictions, true_labels = test_classifier(\n",
        "    model = model,\n",
        "    dataset = test_dataset,\n",
        "    batch_size = 32\n",
        ")"
      ],
      "execution_count": 24,
      "outputs": [
        {
          "output_type": "stream",
          "text": [
            "There are 1 GPU(s) available.\n",
            "We will use the GPU: Tesla T4\n",
            "\n",
            "Running Prediction...\n"
          ],
          "name": "stdout"
        },
        {
          "output_type": "error",
          "ename": "KeyboardInterrupt",
          "evalue": "ignored",
          "traceback": [
            "\u001b[0;31m---------------------------------------------------------------------------\u001b[0m",
            "\u001b[0;31mKeyboardInterrupt\u001b[0m                         Traceback (most recent call last)",
            "\u001b[0;32m<ipython-input-24-df3b26f864ed>\u001b[0m in \u001b[0;36m<module>\u001b[0;34m()\u001b[0m\n\u001b[1;32m      2\u001b[0m     \u001b[0mmodel\u001b[0m \u001b[0;34m=\u001b[0m \u001b[0mmodel\u001b[0m\u001b[0;34m,\u001b[0m\u001b[0;34m\u001b[0m\u001b[0;34m\u001b[0m\u001b[0m\n\u001b[1;32m      3\u001b[0m     \u001b[0mdataset\u001b[0m \u001b[0;34m=\u001b[0m \u001b[0mtest_dataset\u001b[0m\u001b[0;34m,\u001b[0m\u001b[0;34m\u001b[0m\u001b[0;34m\u001b[0m\u001b[0m\n\u001b[0;32m----> 4\u001b[0;31m     \u001b[0mbatch_size\u001b[0m \u001b[0;34m=\u001b[0m \u001b[0;36m32\u001b[0m\u001b[0;34m\u001b[0m\u001b[0;34m\u001b[0m\u001b[0m\n\u001b[0m\u001b[1;32m      5\u001b[0m )\n",
            "\u001b[0;32m<ipython-input-11-f434b0432173>\u001b[0m in \u001b[0;36mtest_classifier\u001b[0;34m(model, dataset, batch_size)\u001b[0m\n\u001b[1;32m     37\u001b[0m         \u001b[0mlogits\u001b[0m \u001b[0;34m=\u001b[0m \u001b[0moutputs\u001b[0m\u001b[0;34m.\u001b[0m\u001b[0mlogits\u001b[0m\u001b[0;34m\u001b[0m\u001b[0;34m\u001b[0m\u001b[0m\n\u001b[1;32m     38\u001b[0m \u001b[0;34m\u001b[0m\u001b[0m\n\u001b[0;32m---> 39\u001b[0;31m         \u001b[0mlogits\u001b[0m \u001b[0;34m=\u001b[0m \u001b[0mlogits\u001b[0m\u001b[0;34m.\u001b[0m\u001b[0mdetach\u001b[0m\u001b[0;34m(\u001b[0m\u001b[0;34m)\u001b[0m\u001b[0;34m.\u001b[0m\u001b[0mcpu\u001b[0m\u001b[0;34m(\u001b[0m\u001b[0;34m)\u001b[0m\u001b[0;34m.\u001b[0m\u001b[0mnumpy\u001b[0m\u001b[0;34m(\u001b[0m\u001b[0;34m)\u001b[0m\u001b[0;34m\u001b[0m\u001b[0;34m\u001b[0m\u001b[0m\n\u001b[0m\u001b[1;32m     40\u001b[0m         \u001b[0mlabel_ids\u001b[0m \u001b[0;34m=\u001b[0m \u001b[0mb_labels\u001b[0m\u001b[0;34m.\u001b[0m\u001b[0mnumpy\u001b[0m\u001b[0;34m(\u001b[0m\u001b[0;34m)\u001b[0m\u001b[0;34m\u001b[0m\u001b[0;34m\u001b[0m\u001b[0m\n\u001b[1;32m     41\u001b[0m \u001b[0;34m\u001b[0m\u001b[0m\n",
            "\u001b[0;31mKeyboardInterrupt\u001b[0m: "
          ]
        }
      ]
    },
    {
      "cell_type": "markdown",
      "metadata": {
        "id": "Sa2G8tqt-0m5"
      },
      "source": [
        "## Performance"
      ]
    },
    {
      "cell_type": "code",
      "metadata": {
        "colab": {
          "base_uri": "https://localhost:8080/"
        },
        "id": "gnZA-iFjKVcz",
        "outputId": "eb38ec0d-6d48-49cb-b652-ff0d6c170558"
      },
      "source": [
        "print_performance_metrics(predictions, true_labels)"
      ],
      "execution_count": null,
      "outputs": [
        {
          "output_type": "stream",
          "text": [
            "\n",
            "Confusion Matrix\n",
            "Rows - Actual\n",
            "Columns - Predicted\n",
            "\n",
            "    |      0     1     2     3     4     5 | \n",
            "---------------------------------------------------\n",
            "  0 |  45.76  0.45  0.69  0.45  0.10  0.10 |  47.55\n",
            "  1 |   0.49  4.24  0.20  0.22  0.02  0.00 |   5.18\n",
            "  2 |   0.24  0.04 26.29  0.10  0.14  0.02 |  26.84\n",
            "  3 |   0.33  0.69  0.14 14.53  0.04  0.10 |  15.84\n",
            "  4 |   0.08  0.06  0.02  0.02  2.61  0.00 |   2.79\n",
            "  5 |   0.20  0.06  0.06  0.49  0.00  0.98 |   1.79\n",
            "---------------------------------------------------\n",
            "    |  47.11  5.54 27.42 15.82  2.91  1.20 | \n",
            "\n",
            "Majority Class                     :  0.4755\n",
            "Accuracy                           :  0.9442\n",
            "\n"
          ],
          "name": "stdout"
        }
      ]
    },
    {
      "cell_type": "markdown",
      "metadata": {
        "id": "6sxFc2YnKxNu"
      },
      "source": [
        "**Saving model**"
      ]
    },
    {
      "cell_type": "code",
      "metadata": {
        "id": "X2-tX5WrK69X"
      },
      "source": [
        "save_model(\"drive/MyDrive/models/multiclass.pt\", model)"
      ],
      "execution_count": null,
      "outputs": []
    },
    {
      "cell_type": "markdown",
      "metadata": {
        "id": "7GNypsLqF2yZ"
      },
      "source": [
        "# Binary Slo classification"
      ]
    },
    {
      "cell_type": "markdown",
      "metadata": {
        "id": "IUal_lBGHIhg"
      },
      "source": [
        "## Setup"
      ]
    },
    {
      "cell_type": "code",
      "metadata": {
        "id": "NmO7fvWwJO1i"
      },
      "source": [
        "binary_data = pd.read_csv('drive/MyDrive/Data/Slo/Binary/data.csv')\n",
        "x,y = run_dataset_preparation(binary_data, \"slo\", remove_stopwords=False, do_lemmatization=False)"
      ],
      "execution_count": null,
      "outputs": []
    },
    {
      "cell_type": "markdown",
      "metadata": {
        "id": "yurU9gsidm_8"
      },
      "source": [
        "Text length distribution"
      ]
    },
    {
      "cell_type": "code",
      "metadata": {
        "id": "he9Sq-Oidik4",
        "colab": {
          "base_uri": "https://localhost:8080/",
          "height": 318
        },
        "outputId": "194e7c47-7f39-4051-ef48-56bddc4cc84e"
      },
      "source": [
        "length_distribution = distribution_dataset([len(e) for e in list(x.values)])\n",
        "xv = list(length_distribution.keys())\n",
        "yv = list(length_distribution.values())\n",
        "plt.bar(xv, yv, color=\"tab:blue\")\n",
        "axes = plt.gca()\n",
        "axes.set_xlim([0,1000])"
      ],
      "execution_count": null,
      "outputs": [
        {
          "output_type": "stream",
          "text": [
            "{54: 36, 198: 2, 284: 1, 235: 2, 387: 1, 203: 4, 89: 58, 104: 47, 146: 2, 151: 1, 66: 40, 34: 7, 51: 26, 25: 3, 122: 18, 108: 34, 413: 1, 90: 50, 180: 4, 210: 2, 225: 3, 65: 48, 106: 50, 134: 8, 56: 32, 369: 1, 127: 13, 96: 40, 128: 18, 30: 5, 100: 45, 147: 1, 63: 36, 75: 59, 77: 51, 46: 13, 74: 55, 78: 63, 300: 1, 101: 42, 145: 3, 138: 5, 95: 50, 133: 15, 57: 29, 50: 30, 91: 46, 14: 2, 156: 2, 72: 60, 64: 60, 47: 24, 107: 43, 23: 2, 27: 5, 67: 61, 40: 7, 69: 54, 118: 21, 44: 13, 21: 1, 58: 41, 73: 62, 87: 49, 62: 38, 110: 43, 86: 40, 28: 3, 115: 28, 129: 18, 24: 4, 92: 45, 102: 35, 169: 5, 84: 49, 99: 37, 105: 52, 214: 3, 131: 14, 68: 55, 116: 24, 60: 50, 61: 48, 39: 6, 81: 54, 124: 21, 194: 2, 94: 42, 82: 55, 111: 51, 215: 3, 130: 11, 222: 4, 117: 21, 76: 44, 71: 50, 48: 20, 120: 18, 201: 3, 125: 16, 239: 2, 187: 1, 244: 3, 121: 19, 80: 56, 98: 48, 85: 50, 93: 29, 45: 10, 88: 49, 109: 44, 103: 42, 113: 22, 36: 4, 143: 2, 123: 19, 31: 9, 258: 4, 83: 42, 59: 44, 53: 26, 139: 3, 112: 28, 126: 18, 264: 1, 97: 41, 188: 1, 79: 50, 231: 1, 152: 1, 205: 1, 266: 2, 200: 2, 114: 26, 177: 2, 196: 3, 70: 41, 119: 20, 170: 2, 257: 2, 269: 8, 41: 18, 32: 6, 246: 3, 49: 20, 252: 2, 55: 23, 26: 2, 43: 13, 226: 1, 154: 1, 268: 2, 162: 3, 267: 5, 52: 21, 164: 2, 38: 6, 11: 1, 212: 1, 166: 4, 42: 10, 230: 3, 273: 2, 135: 8, 183: 2, 144: 3, 229: 2, 233: 1, 251: 1, 159: 5, 176: 3, 265: 3, 263: 3, 33: 4, 22: 2, 238: 1, 150: 1, 261: 1, 148: 3, 270: 1, 206: 2, 250: 3, 137: 7, 223: 1, 35: 3, 195: 1, 262: 3, 259: 2, 37: 4, 256: 1, 240: 1, 209: 1, 190: 2, 142: 1, 220: 2, 136: 4, 274: 1, 208: 1, 197: 1, 199: 1, 295: 1, 218: 1, 16: 1, 29: 3, 191: 1, 334: 1, 171: 1, 155: 1, 213: 2, 234: 2, 317: 1, 168: 3, 181: 1, 245: 2, 189: 2, 140: 4, 158: 2, 175: 1, 132: 5, 242: 3, 221: 1, 165: 2, 163: 3, 272: 1, 216: 1, 173: 3, 141: 1, 227: 1, 247: 2, 20: 1, 241: 1, 236: 1, 224: 1, 254: 1, 15: 1, 167: 1, 255: 1}\n"
          ],
          "name": "stdout"
        },
        {
          "output_type": "execute_result",
          "data": {
            "text/plain": [
              "(0.0, 1000.0)"
            ]
          },
          "metadata": {
            "tags": []
          },
          "execution_count": 16
        },
        {
          "output_type": "display_data",
          "data": {
            "image/png": "[encoded data removed]",
            "text/plain": [
              "<Figure size 432x288 with 1 Axes>"
            ]
          },
          "metadata": {
            "tags": [],
            "needs_background": "light"
          }
        }
      ]
    },
    {
      "cell_type": "code",
      "metadata": {
        "id": "EvqimCWXJpVx",
        "colab": {
          "base_uri": "https://localhost:8080/"
        },
        "outputId": "20ef1ba6-565f-4d47-eee7-6fcf87129567"
      },
      "source": [
        "model = setup_classifier(\n",
        "    model_name = \"drive/MyDrive/classifiers/bert/CroSloEngual\",\n",
        "    num_labels = 2\n",
        ")\n",
        "\n",
        "#model.load_state_dict(load_model(\"drive/MyDrive/models/binary_5_nostop_400.pt\"))\n",
        "\n",
        "model_state_dict, _, _, _ = load_checkpoint(\"drive/MyDrive/models/1. binary_checkpoint_e3_2021-05-02 00:23:14.117783.pt\")\n",
        "model.load_state_dict(model_state_dict)\n",
        "\n",
        "dataset = setup_data(\n",
        "    model_name = \"drive/MyDrive/classifiers/bert/CroSloEngual\",\n",
        "    x = x,\n",
        "    y = y,\n",
        "    do_lower_case = False,\n",
        "    max_length = 512\n",
        ")"
      ],
      "execution_count": null,
      "outputs": [
        {
          "output_type": "stream",
          "text": [
            "Some weights of the model checkpoint at drive/MyDrive/classifiers/bert/CroSloEngual were not used when initializing BertForSequenceClassification: ['cls.predictions.transform.dense.weight', 'cls.predictions.bias', 'cls.predictions.transform.LayerNorm.weight', 'cls.seq_relationship.bias', 'cls.predictions.decoder.weight', 'cls.seq_relationship.weight', 'cls.predictions.transform.dense.bias', 'cls.predictions.transform.LayerNorm.bias']\n",
            "- This IS expected if you are initializing BertForSequenceClassification from the checkpoint of a model trained on another task or with another architecture (e.g. initializing a BertForSequenceClassification model from a BertForPreTraining model).\n",
            "- This IS NOT expected if you are initializing BertForSequenceClassification from the checkpoint of a model that you expect to be exactly identical (initializing a BertForSequenceClassification model from a BertForSequenceClassification model).\n",
            "Some weights of BertForSequenceClassification were not initialized from the model checkpoint at drive/MyDrive/classifiers/bert/CroSloEngual and are newly initialized: ['classifier.weight', 'classifier.bias']\n",
            "You should probably TRAIN this model on a down-stream task to be able to use it for predictions and inference.\n"
          ],
          "name": "stderr"
        }
      ]
    },
    {
      "cell_type": "markdown",
      "metadata": {
        "id": "6Pps0-nKJebL"
      },
      "source": [
        "## Dataset class distribution"
      ]
    },
    {
      "cell_type": "code",
      "metadata": {
        "id": "0ONk_sMDJh8I",
        "colab": {
          "base_uri": "https://localhost:8080/",
          "height": 298
        },
        "outputId": "9d15c65b-e4da-42a2-de35-d0becab2d003"
      },
      "source": [
        "class_distribution = distribution_dataset([e[2].item() for e in list(dataset)])\n",
        "print(class_distribution)\n",
        "yv = list(class_distribution.keys())\n",
        "xv = list(class_distribution.values())\n",
        "plt.bar(yv, xv, color=\"tab:blue\")"
      ],
      "execution_count": null,
      "outputs": [
        {
          "output_type": "stream",
          "text": [
            "{0: 2074, 1: 1620}\n"
          ],
          "name": "stdout"
        },
        {
          "output_type": "execute_result",
          "data": {
            "text/plain": [
              "<BarContainer object of 2 artists>"
            ]
          },
          "metadata": {
            "tags": []
          },
          "execution_count": 18
        },
        {
          "output_type": "display_data",
          "data": {
            "image/png": "[encoded data removed]",
            "text/plain": [
              "<Figure size 432x288 with 1 Axes>"
            ]
          },
          "metadata": {
            "tags": [],
            "needs_background": "light"
          }
        }
      ]
    },
    {
      "cell_type": "markdown",
      "metadata": {
        "id": "zU5-9XAJKd0e"
      },
      "source": [
        "## Test"
      ]
    },
    {
      "cell_type": "code",
      "metadata": {
        "id": "_A1FtiFjKhMW",
        "colab": {
          "base_uri": "https://localhost:8080/"
        },
        "outputId": "7209e6b9-bcef-431f-ee3c-9c470fae3dea"
      },
      "source": [
        "predictions, true_labels = test_classifier(\n",
        "    model = model,\n",
        "    dataset = dataset,\n",
        "    batch_size = 32\n",
        ")"
      ],
      "execution_count": null,
      "outputs": [
        {
          "output_type": "stream",
          "text": [
            "There are 1 GPU(s) available.\n",
            "We will use the GPU: Tesla T4\n",
            "\n",
            "Running Prediction...\n",
            "DONE.\n"
          ],
          "name": "stdout"
        }
      ]
    },
    {
      "cell_type": "markdown",
      "metadata": {
        "id": "YA6ec1eWKoP_"
      },
      "source": [
        "## Performance"
      ]
    },
    {
      "cell_type": "code",
      "metadata": {
        "id": "ka6vtupgKtDX",
        "colab": {
          "base_uri": "https://localhost:8080/"
        },
        "outputId": "de98e02d-9f7f-4c20-9191-38dca3b97614"
      },
      "source": [
        "print_performance_metrics(predictions, true_labels)"
      ],
      "execution_count": null,
      "outputs": [
        {
          "output_type": "stream",
          "text": [
            "\n",
            "Confusion Matrix\n",
            "Rows - Actual\n",
            "Columns - Predicted\n",
            "\n",
            "    |      0     1 | \n",
            "---------------------------\n",
            "  0 |  54.06  2.08 |  56.15\n",
            "  1 |  39.33  4.52 |  43.85\n",
            "---------------------------\n",
            "    |  93.39  6.61 | \n",
            "\n",
            "              precision    recall  f1-score   support\n",
            "\n",
            "           0       0.58      0.96      0.72      2074\n",
            "           1       0.68      0.10      0.18      1620\n",
            "\n",
            "    accuracy                           0.59      3694\n",
            "   macro avg       0.63      0.53      0.45      3694\n",
            "weighted avg       0.63      0.59      0.48      3694\n",
            "\n"
          ],
          "name": "stdout"
        }
      ]
    },
    {
      "cell_type": "markdown",
      "metadata": {
        "id": "6OlFLGTlF-16"
      },
      "source": [
        "# Multiclass Slo classification"
      ]
    },
    {
      "cell_type": "markdown",
      "metadata": {
        "id": "wvOLyHovHLed"
      },
      "source": [
        "## Setup"
      ]
    },
    {
      "cell_type": "code",
      "metadata": {
        "id": "V56lHYT3LMw2"
      },
      "source": [
        "multiclass_data = pd.read_csv('drive/MyDrive/Data/Slo/Multiclass/data.csv')\n",
        "x,y = run_dataset_preparation(multiclass_data, \"slo\", remove_stopwords=False, do_lemmatization=False)"
      ],
      "execution_count": null,
      "outputs": []
    },
    {
      "cell_type": "markdown",
      "metadata": {
        "id": "6yw7iTOIdpDK"
      },
      "source": [
        "Text length distribution"
      ]
    },
    {
      "cell_type": "code",
      "metadata": {
        "id": "GC0yQjmfdruf",
        "colab": {
          "base_uri": "https://localhost:8080/",
          "height": 318
        },
        "outputId": "0d42d0bf-9c7f-48ab-a698-cca0a58a09fa"
      },
      "source": [
        "length_distribution = distribution_dataset([len(e) for e in list(x.values)])\n",
        "xv = list(length_distribution.keys())\n",
        "yv = list(length_distribution.values())\n",
        "plt.bar(xv, yv, color=\"tab:blue\")\n",
        "axes = plt.gca()\n",
        "axes.set_xlim([0,1000])"
      ],
      "execution_count": null,
      "outputs": [
        {
          "output_type": "stream",
          "text": [
            "{54: 36, 199: 1, 198: 2, 68: 55, 284: 1, 214: 3, 235: 2, 67: 62, 387: 1, 203: 4, 89: 58, 104: 47, 146: 2, 151: 1, 66: 42, 34: 7, 51: 26, 25: 3, 122: 18, 108: 34, 413: 1, 90: 50, 180: 4, 64: 60, 210: 2, 225: 3, 65: 48, 106: 50, 295: 1, 134: 8, 246: 3, 56: 32, 218: 1, 369: 1, 127: 13, 96: 40, 128: 19, 30: 5, 100: 45, 147: 1, 63: 36, 75: 59, 77: 51, 46: 13, 74: 55, 78: 63, 300: 1, 101: 42, 145: 3, 138: 5, 95: 50, 133: 15, 57: 29, 50: 30, 91: 46, 14: 2, 156: 2, 72: 60, 16: 1, 47: 24, 117: 21, 33: 4, 107: 44, 41: 18, 23: 2, 200: 2, 69: 54, 27: 5, 83: 42, 58: 42, 111: 51, 115: 28, 44: 13, 40: 7, 29: 3, 118: 21, 76: 44, 21: 1, 73: 62, 97: 42, 257: 2, 109: 45, 43: 13, 196: 3, 191: 1, 102: 35, 334: 1, 94: 43, 171: 1, 42: 10, 48: 20, 155: 1, 213: 2, 71: 50, 267: 5, 194: 2, 148: 3, 84: 49, 234: 2, 62: 38, 59: 44, 317: 1, 143: 2, 168: 3, 79: 51, 265: 3, 181: 1, 87: 49, 110: 43, 86: 41, 28: 3, 129: 18, 24: 4, 92: 45, 169: 5, 99: 37, 105: 53, 131: 14, 116: 24, 60: 50, 61: 49, 39: 6, 81: 54, 124: 21, 82: 55, 215: 3, 130: 11, 222: 4, 120: 18, 201: 3, 125: 16, 239: 2, 187: 1, 244: 3, 121: 19, 80: 56, 98: 49, 85: 50, 93: 29, 45: 10, 88: 49, 103: 42, 113: 22, 36: 4, 123: 19, 31: 9, 258: 4, 53: 26, 139: 3, 112: 28, 126: 18, 264: 1, 188: 1, 231: 1, 152: 1, 205: 1, 266: 2, 114: 26, 177: 2, 70: 41, 119: 20, 170: 2, 269: 8, 32: 6, 49: 20, 252: 2, 55: 23, 26: 2, 226: 1, 154: 1, 268: 2, 162: 3, 52: 21, 164: 2, 38: 6, 11: 1, 212: 1, 166: 4, 230: 3, 273: 2, 135: 8, 183: 2, 144: 3, 229: 2, 233: 1, 251: 1, 159: 5, 176: 3, 263: 3, 22: 2, 238: 1, 150: 1, 261: 1, 270: 1, 206: 2, 250: 3, 137: 7, 223: 1, 35: 3, 195: 1, 262: 3, 259: 2, 37: 4, 256: 1, 240: 1, 209: 1, 190: 2, 142: 1, 220: 2, 136: 4, 274: 1, 208: 1, 197: 1, 245: 2, 189: 2, 140: 4, 158: 2, 175: 1, 132: 5, 242: 3, 221: 1, 165: 2, 163: 3, 272: 1, 216: 1, 173: 3, 141: 1, 227: 1, 247: 2, 20: 1, 241: 1, 236: 1, 224: 1, 254: 1, 15: 1, 167: 1, 255: 1}\n"
          ],
          "name": "stdout"
        },
        {
          "output_type": "execute_result",
          "data": {
            "text/plain": [
              "(0.0, 1000.0)"
            ]
          },
          "metadata": {
            "tags": []
          },
          "execution_count": 29
        },
        {
          "output_type": "display_data",
          "data": {
            "image/png": "[encoded data removed]",
            "text/plain": [
              "<Figure size 432x288 with 1 Axes>"
            ]
          },
          "metadata": {
            "tags": [],
            "needs_background": "light"
          }
        }
      ]
    },
    {
      "cell_type": "code",
      "metadata": {
        "id": "-Vt4carMLfbQ",
        "colab": {
          "base_uri": "https://localhost:8080/"
        },
        "outputId": "ed83f02f-fcfa-4581-89fd-d4ab6fa9f30f"
      },
      "source": [
        "model = setup_classifier(\n",
        "    model_name = \"drive/MyDrive/classifiers/bert/CroSloEngual\",\n",
        "    num_labels = 6\n",
        ")\n",
        "\n",
        "#model.load_state_dict(load_model(\"drive/MyDrive/models/checkpoint_e2_2021-04-23 23:33:32.776693.pt\"))\n",
        "\n",
        "model_state_dict, _, _, _ = load_checkpoint(\"drive/MyDrive/models/1. multiclass_checkpoint_e3_2021-05-02 01:56:34.069871.pt\")\n",
        "model.load_state_dict(model_state_dict)\n",
        "\n",
        "dataset = setup_data(\n",
        "    model_name = \"drive/MyDrive/classifiers/bert/CroSloEngual\",\n",
        "    x = x,\n",
        "    y = y,\n",
        "    do_lower_case = False,\n",
        "    max_length = 512\n",
        ")"
      ],
      "execution_count": null,
      "outputs": [
        {
          "output_type": "stream",
          "text": [
            "Some weights of the model checkpoint at drive/MyDrive/classifiers/bert/CroSloEngual were not used when initializing BertForSequenceClassification: ['cls.predictions.transform.dense.weight', 'cls.predictions.bias', 'cls.predictions.transform.LayerNorm.weight', 'cls.seq_relationship.bias', 'cls.predictions.decoder.weight', 'cls.seq_relationship.weight', 'cls.predictions.transform.dense.bias', 'cls.predictions.transform.LayerNorm.bias']\n",
            "- This IS expected if you are initializing BertForSequenceClassification from the checkpoint of a model trained on another task or with another architecture (e.g. initializing a BertForSequenceClassification model from a BertForPreTraining model).\n",
            "- This IS NOT expected if you are initializing BertForSequenceClassification from the checkpoint of a model that you expect to be exactly identical (initializing a BertForSequenceClassification model from a BertForSequenceClassification model).\n",
            "Some weights of BertForSequenceClassification were not initialized from the model checkpoint at drive/MyDrive/classifiers/bert/CroSloEngual and are newly initialized: ['classifier.weight', 'classifier.bias']\n",
            "You should probably TRAIN this model on a down-stream task to be able to use it for predictions and inference.\n"
          ],
          "name": "stderr"
        }
      ]
    },
    {
      "cell_type": "markdown",
      "metadata": {
        "id": "SW09iJBbLC23"
      },
      "source": [
        "## Dataset class distribution"
      ]
    },
    {
      "cell_type": "code",
      "metadata": {
        "id": "CocSmJk0LtCi",
        "colab": {
          "base_uri": "https://localhost:8080/",
          "height": 298
        },
        "outputId": "0248652c-4460-4566-df9d-a9df3952636e"
      },
      "source": [
        "class_distribution = distribution_dataset([e[2].item() for e in list(dataset)])\n",
        "print(class_distribution)\n",
        "yv = list(class_distribution.keys())\n",
        "xv = list(class_distribution.values())\n",
        "plt.bar(yv, xv, color=\"tab:blue\")"
      ],
      "execution_count": null,
      "outputs": [
        {
          "output_type": "stream",
          "text": [
            "{0: 2074, 5: 1491, 4: 9, 1: 58, 2: 53, 3: 23}\n"
          ],
          "name": "stdout"
        },
        {
          "output_type": "execute_result",
          "data": {
            "text/plain": [
              "<BarContainer object of 6 artists>"
            ]
          },
          "metadata": {
            "tags": []
          },
          "execution_count": 31
        },
        {
          "output_type": "display_data",
          "data": {
            "image/png": "[encoded data removed]",
            "text/plain": [
              "<Figure size 432x288 with 1 Axes>"
            ]
          },
          "metadata": {
            "tags": [],
            "needs_background": "light"
          }
        }
      ]
    },
    {
      "cell_type": "markdown",
      "metadata": {
        "id": "h8_g6yNTLE-U"
      },
      "source": [
        "## Test"
      ]
    },
    {
      "cell_type": "code",
      "metadata": {
        "id": "2KRbf7cFR19Q",
        "colab": {
          "base_uri": "https://localhost:8080/"
        },
        "outputId": "d3ac9ab3-1053-4289-b194-86f37d9852d3"
      },
      "source": [
        "predictions, true_labels = test_classifier(\n",
        "    model = model,\n",
        "    dataset = dataset,\n",
        "    batch_size = 32\n",
        ")"
      ],
      "execution_count": null,
      "outputs": [
        {
          "output_type": "stream",
          "text": [
            "There are 1 GPU(s) available.\n",
            "We will use the GPU: Tesla T4\n",
            "\n",
            "Running Prediction...\n",
            "DONE.\n"
          ],
          "name": "stdout"
        }
      ]
    },
    {
      "cell_type": "markdown",
      "metadata": {
        "id": "1XiuvOciLHoR"
      },
      "source": [
        "## Performance"
      ]
    },
    {
      "cell_type": "code",
      "metadata": {
        "id": "B5eT-0fFR6o5",
        "colab": {
          "base_uri": "https://localhost:8080/"
        },
        "outputId": "a06245ce-8a71-4452-ef50-7c4767ac0162"
      },
      "source": [
        "print_performance_metrics(predictions, true_labels)"
      ],
      "execution_count": null,
      "outputs": [
        {
          "output_type": "stream",
          "text": [
            "\n",
            "Confusion Matrix\n",
            "Rows - Actual\n",
            "Columns - Predicted\n",
            "\n",
            "    |      0     1     2     3     4     5 | \n",
            "---------------------------------------------------\n",
            "  0 |  54.56  0.40  0.62  0.16  0.03  0.16 |  55.93\n",
            "  1 |   1.56  0.00  0.00  0.00  0.00  0.00 |   1.56\n",
            "  2 |   1.43  0.00  0.00  0.00  0.00  0.00 |   1.43\n",
            "  3 |   0.59  0.00  0.03  0.00  0.00  0.00 |   0.62\n",
            "  4 |   0.24  0.00  0.00  0.00  0.00  0.00 |   0.24\n",
            "  5 |  39.48  0.24  0.16  0.24  0.00  0.08 |  40.21\n",
            "---------------------------------------------------\n",
            "    |  97.87  0.65  0.81  0.40  0.03  0.24 | \n",
            "\n",
            "              precision    recall  f1-score   support\n",
            "\n",
            "           0       0.56      0.98      0.71      2074\n",
            "           1       0.00      0.00      0.00        58\n",
            "           2       0.00      0.00      0.00        53\n",
            "           3       0.00      0.00      0.00        23\n",
            "           4       0.00      0.00      0.00         9\n",
            "           5       0.33      0.00      0.00      1491\n",
            "\n",
            "    accuracy                           0.55      3708\n",
            "   macro avg       0.15      0.16      0.12      3708\n",
            "weighted avg       0.45      0.55      0.40      3708\n",
            "\n"
          ],
          "name": "stdout"
        }
      ]
    }
  ]
}