{
  "nbformat": 4,
  "nbformat_minor": 0,
  "metadata": {
    "colab": {
      "name": "bert-notebook.ipynb",
      "provenance": [],
      "collapsed_sections": [],
      "toc_visible": true
    },
    "kernelspec": {
      "name": "python3",
      "display_name": "Python 3"
    },
    "language_info": {
      "name": "python"
    },
    "accelerator": "GPU"
  },
  "cells": [
    {
      "cell_type": "markdown",
      "metadata": {
        "id": "kDMqDAAAmiLD"
      },
      "source": [
        "**I/O device register**"
      ]
    },
    {
      "cell_type": "code",
      "metadata": {
        "colab": {
          "base_uri": "https://localhost:8080/"
        },
        "id": "NVR711hafvAy",
        "outputId": "5fd4db01-57db-41b1-fdac-aadc4d4a9b13"
      },
      "source": [
        "!nvidia-smi"
      ],
      "execution_count": null,
      "outputs": [
        {
          "output_type": "stream",
          "text": [
            "Fri Apr 23 20:08:54 2021       \n",
            "+-----------------------------------------------------------------------------+\n",
            "| NVIDIA-SMI 465.19.01    Driver Version: 460.32.03    CUDA Version: 11.2     |\n",
            "|-------------------------------+----------------------+----------------------+\n",
            "| GPU  Name        Persistence-M| Bus-Id        Disp.A | Volatile Uncorr. ECC |\n",
            "| Fan  Temp  Perf  Pwr:Usage/Cap|         Memory-Usage | GPU-Util  Compute M. |\n",
            "|                               |                      |               MIG M. |\n",
            "|===============================+======================+======================|\n",
            "|   0  Tesla T4            Off  | 00000000:00:04.0 Off |                    0 |\n",
            "| N/A   44C    P0    26W /  70W |   9376MiB / 15109MiB |      0%      Default |\n",
            "|                               |                      |                  N/A |\n",
            "+-------------------------------+----------------------+----------------------+\n",
            "                                                                               \n",
            "+-----------------------------------------------------------------------------+\n",
            "| Processes:                                                                  |\n",
            "|  GPU   GI   CI        PID   Type   Process name                  GPU Memory |\n",
            "|        ID   ID                                                   Usage      |\n",
            "|=============================================================================|\n",
            "+-----------------------------------------------------------------------------+\n"
          ],
          "name": "stdout"
        }
      ]
    },
    {
      "cell_type": "code",
      "metadata": {
        "colab": {
          "base_uri": "https://localhost:8080/"
        },
        "id": "U2q6Ix5Fl2s3",
        "outputId": "779ba452-1330-4410-9b0f-e202d57b7c96"
      },
      "source": [
        "from google.colab import drive\n",
        "drive.mount('/content/drive')"
      ],
      "execution_count": null,
      "outputs": [
        {
          "output_type": "stream",
          "text": [
            "Drive already mounted at /content/drive; to attempt to forcibly remount, call drive.mount(\"/content/drive\", force_remount=True).\n"
          ],
          "name": "stdout"
        }
      ]
    },
    {
      "cell_type": "markdown",
      "metadata": {
        "id": "Ek7kHsU3nTBN"
      },
      "source": [
        "**Install required libraries**"
      ]
    },
    {
      "cell_type": "code",
      "metadata": {
        "colab": {
          "base_uri": "https://localhost:8080/"
        },
        "id": "1yKQ4IG6nXJT",
        "outputId": "a8e808bc-bcf8-4a56-a329-e47a1e0ea305"
      },
      "source": [
        "!pip3 install transformers pandas nltk spacy classla"
      ],
      "execution_count": null,
      "outputs": [
        {
          "output_type": "stream",
          "text": [
            "Requirement already satisfied: transformers in /usr/local/lib/python3.7/dist-packages (4.5.1)\n",
            "Requirement already satisfied: pandas in /usr/local/lib/python3.7/dist-packages (1.1.5)\n",
            "Requirement already satisfied: nltk in /usr/local/lib/python3.7/dist-packages (3.2.5)\n",
            "Requirement already satisfied: spacy in /usr/local/lib/python3.7/dist-packages (2.2.4)\n",
            "Requirement already satisfied: classla in /usr/local/lib/python3.7/dist-packages (1.0.1)\n",
            "Requirement already satisfied: tqdm>=4.27 in /usr/local/lib/python3.7/dist-packages (from transformers) (4.41.1)\n",
            "Requirement already satisfied: filelock in /usr/local/lib/python3.7/dist-packages (from transformers) (3.0.12)\n",
            "Requirement already satisfied: regex!=2019.12.17 in /usr/local/lib/python3.7/dist-packages (from transformers) (2019.12.20)\n",
            "Requirement already satisfied: importlib-metadata; python_version < \"3.8\" in /usr/local/lib/python3.7/dist-packages (from transformers) (3.10.1)\n",
            "Requirement already satisfied: numpy>=1.17 in /usr/local/lib/python3.7/dist-packages (from transformers) (1.19.5)\n",
            "Requirement already satisfied: sacremoses in /usr/local/lib/python3.7/dist-packages (from transformers) (0.0.45)\n",
            "Requirement already satisfied: requests in /usr/local/lib/python3.7/dist-packages (from transformers) (2.23.0)\n",
            "Requirement already satisfied: packaging in /usr/local/lib/python3.7/dist-packages (from transformers) (20.9)\n",
            "Requirement already satisfied: tokenizers<0.11,>=0.10.1 in /usr/local/lib/python3.7/dist-packages (from transformers) (0.10.2)\n",
            "Requirement already satisfied: pytz>=2017.2 in /usr/local/lib/python3.7/dist-packages (from pandas) (2018.9)\n",
            "Requirement already satisfied: python-dateutil>=2.7.3 in /usr/local/lib/python3.7/dist-packages (from pandas) (2.8.1)\n",
            "Requirement already satisfied: six in /usr/local/lib/python3.7/dist-packages (from nltk) (1.15.0)\n",
            "Requirement already satisfied: wasabi<1.1.0,>=0.4.0 in /usr/local/lib/python3.7/dist-packages (from spacy) (0.8.2)\n",
            "Requirement already satisfied: preshed<3.1.0,>=3.0.2 in /usr/local/lib/python3.7/dist-packages (from spacy) (3.0.5)\n",
            "Requirement already satisfied: blis<0.5.0,>=0.4.0 in /usr/local/lib/python3.7/dist-packages (from spacy) (0.4.1)\n",
            "Requirement already satisfied: srsly<1.1.0,>=1.0.2 in /usr/local/lib/python3.7/dist-packages (from spacy) (1.0.5)\n",
            "Requirement already satisfied: plac<1.2.0,>=0.9.6 in /usr/local/lib/python3.7/dist-packages (from spacy) (1.1.3)\n",
            "Requirement already satisfied: setuptools in /usr/local/lib/python3.7/dist-packages (from spacy) (56.0.0)\n",
            "Requirement already satisfied: catalogue<1.1.0,>=0.0.7 in /usr/local/lib/python3.7/dist-packages (from spacy) (1.0.0)\n",
            "Requirement already satisfied: cymem<2.1.0,>=2.0.2 in /usr/local/lib/python3.7/dist-packages (from spacy) (2.0.5)\n",
            "Requirement already satisfied: thinc==7.4.0 in /usr/local/lib/python3.7/dist-packages (from spacy) (7.4.0)\n",
            "Requirement already satisfied: murmurhash<1.1.0,>=0.28.0 in /usr/local/lib/python3.7/dist-packages (from spacy) (1.0.5)\n",
            "Requirement already satisfied: protobuf in /usr/local/lib/python3.7/dist-packages (from classla) (3.12.4)\n",
            "Requirement already satisfied: obeliks in /usr/local/lib/python3.7/dist-packages (from classla) (1.0.4)\n",
            "Requirement already satisfied: torch>=1.3.0 in /usr/local/lib/python3.7/dist-packages (from classla) (1.8.0+cu111)\n",
            "Requirement already satisfied: typing-extensions>=3.6.4; python_version < \"3.8\" in /usr/local/lib/python3.7/dist-packages (from importlib-metadata; python_version < \"3.8\"->transformers) (3.7.4.3)\n",
            "Requirement already satisfied: zipp>=0.5 in /usr/local/lib/python3.7/dist-packages (from importlib-metadata; python_version < \"3.8\"->transformers) (3.4.1)\n",
            "Requirement already satisfied: click in /usr/local/lib/python3.7/dist-packages (from sacremoses->transformers) (7.1.2)\n",
            "Requirement already satisfied: joblib in /usr/local/lib/python3.7/dist-packages (from sacremoses->transformers) (1.0.1)\n",
            "Requirement already satisfied: urllib3!=1.25.0,!=1.25.1,<1.26,>=1.21.1 in /usr/local/lib/python3.7/dist-packages (from requests->transformers) (1.24.3)\n",
            "Requirement already satisfied: idna<3,>=2.5 in /usr/local/lib/python3.7/dist-packages (from requests->transformers) (2.10)\n",
            "Requirement already satisfied: certifi>=2017.4.17 in /usr/local/lib/python3.7/dist-packages (from requests->transformers) (2020.12.5)\n",
            "Requirement already satisfied: chardet<4,>=3.0.2 in /usr/local/lib/python3.7/dist-packages (from requests->transformers) (3.0.4)\n",
            "Requirement already satisfied: pyparsing>=2.0.2 in /usr/local/lib/python3.7/dist-packages (from packaging->transformers) (2.4.7)\n",
            "Requirement already satisfied: lxml in /usr/local/lib/python3.7/dist-packages (from obeliks->classla) (4.2.6)\n"
          ],
          "name": "stdout"
        }
      ]
    },
    {
      "cell_type": "code",
      "metadata": {
        "colab": {
          "base_uri": "https://localhost:8080/"
        },
        "id": "xN64HZQ1nqfG",
        "outputId": "9f26bc19-8f4d-4924-8d51-d93aacfa50bc"
      },
      "source": [
        "!pip install torch==1.8.0+cu111 torchvision==0.9.0+cu111 torchaudio==0.8.0 -f https://download.pytorch.org/whl/torch_stable.html \n"
      ],
      "execution_count": null,
      "outputs": [
        {
          "output_type": "stream",
          "text": [
            "Looking in links: https://download.pytorch.org/whl/torch_stable.html\n",
            "Requirement already satisfied: torch==1.8.0+cu111 in /usr/local/lib/python3.7/dist-packages (1.8.0+cu111)\n",
            "Requirement already satisfied: torchvision==0.9.0+cu111 in /usr/local/lib/python3.7/dist-packages (0.9.0+cu111)\n",
            "Requirement already satisfied: torchaudio==0.8.0 in /usr/local/lib/python3.7/dist-packages (0.8.0)\n",
            "Requirement already satisfied: typing-extensions in /usr/local/lib/python3.7/dist-packages (from torch==1.8.0+cu111) (3.7.4.3)\n",
            "Requirement already satisfied: numpy in /usr/local/lib/python3.7/dist-packages (from torch==1.8.0+cu111) (1.19.5)\n",
            "Requirement already satisfied: pillow>=4.1.1 in /usr/local/lib/python3.7/dist-packages (from torchvision==0.9.0+cu111) (7.1.2)\n"
          ],
          "name": "stdout"
        }
      ]
    },
    {
      "cell_type": "markdown",
      "metadata": {
        "id": "f1d1mY1A_i-3"
      },
      "source": [
        "# Random seed"
      ]
    },
    {
      "cell_type": "code",
      "metadata": {
        "id": "BsKRLWda4Vzr"
      },
      "source": [
        "import random\n",
        "import numpy as np\n",
        "import torch\n",
        "\n",
        "seed_val = 2021\n",
        "\n",
        "random.seed(seed_val)\n",
        "np.random.seed(seed_val)\n",
        "torch.manual_seed(seed_val)\n",
        "torch.cuda.manual_seed_all(seed_val)"
      ],
      "execution_count": null,
      "outputs": []
    },
    {
      "cell_type": "markdown",
      "metadata": {
        "id": "9Gi3WN8PCvwO"
      },
      "source": [
        "# BERT "
      ]
    },
    {
      "cell_type": "code",
      "metadata": {
        "id": "5ncO0nQDosXU"
      },
      "source": [
        "from transformers import BertTokenizer, BertForSequenceClassification, AdamW, get_linear_schedule_with_warmup\n",
        "import pandas as pd\n",
        "from torch.utils.data import TensorDataset, random_split, DataLoader, RandomSampler, SequentialSampler\n",
        "import time\n",
        "import datetime"
      ],
      "execution_count": null,
      "outputs": []
    },
    {
      "cell_type": "code",
      "metadata": {
        "id": "-gZZzKq7owzA"
      },
      "source": [
        "def setup_classifier(\n",
        "    model_name: str,\n",
        "    num_labels: int) -> BertForSequenceClassification:\n",
        "\n",
        "    model = BertForSequenceClassification.from_pretrained(\n",
        "        model_name,\n",
        "        num_labels = num_labels,\n",
        "        output_attentions = False,\n",
        "        output_hidden_states = False,\n",
        "    )\n",
        "    \n",
        "    return model"
      ],
      "execution_count": null,
      "outputs": []
    },
    {
      "cell_type": "code",
      "metadata": {
        "id": "9g4etr1so1f3"
      },
      "source": [
        "def setup_data(\n",
        "    model_name: str,\n",
        "    x: pd.DataFrame, \n",
        "    y: pd.DataFrame,\n",
        "    do_lower_case: bool,\n",
        "    max_length: int) -> TensorDataset:\n",
        "\n",
        "    tokenizer = BertTokenizer.from_pretrained(model_name, do_lower_case = do_lower_case)\n",
        "\n",
        "    input_ids = []\n",
        "    attention_masks = []\n",
        "\n",
        "    for text in x:\n",
        "        encoded_dict = tokenizer.encode_plus(\n",
        "            text,\n",
        "            add_special_tokens = True,\n",
        "            max_length = max_length,\n",
        "            padding='max_length',\n",
        "            return_attention_mask = True,\n",
        "            return_tensors = 'pt',\n",
        "            truncation = True\n",
        "        )\n",
        "\n",
        "        input_ids.append(encoded_dict['input_ids'])\n",
        "        attention_masks.append(encoded_dict['attention_mask'])\n",
        "    \n",
        "    input_ids = torch.cat(input_ids, dim=0)\n",
        "    attention_masks = torch.cat(attention_masks, dim=0)\n",
        "    labels = torch.tensor(y)\n",
        "\n",
        "    dataset = TensorDataset(input_ids, attention_masks, labels)\n",
        "\n",
        "    return dataset"
      ],
      "execution_count": null,
      "outputs": []
    },
    {
      "cell_type": "code",
      "metadata": {
        "id": "Hw9DF4H3o5NS"
      },
      "source": [
        "def train_classifier(\n",
        "    model: BertForSequenceClassification, \n",
        "    dataset: TensorDataset, \n",
        "    validation_ratio: float,\n",
        "    batch_size: int,\n",
        "    freeze_embeddings_layer: bool,\n",
        "    freeze_encoder_layers: int,\n",
        "    epochs: int,\n",
        "    save_checkpoints: bool) -> (BertForSequenceClassification, list):\n",
        "\n",
        "    device = select_device()\n",
        "\n",
        "    train_size = int(validation_ratio * len(dataset))\n",
        "    val_size = len(dataset) - train_size\n",
        "\n",
        "    train_dataset, val_dataset = random_split(dataset, [train_size, val_size])\n",
        "\n",
        "    train_dataloader = DataLoader(\n",
        "        train_dataset,\n",
        "        sampler = RandomSampler(train_dataset),\n",
        "        batch_size = batch_size\n",
        "    )\n",
        "\n",
        "    validation_dataloader = DataLoader(\n",
        "        val_dataset,\n",
        "        sampler = SequentialSampler(val_dataset),\n",
        "        batch_size = batch_size\n",
        "    )\n",
        "\n",
        "    modules = []\n",
        "\n",
        "    if freeze_embeddings_layer:\n",
        "        modules.append(model.bert.embeddings)\n",
        "    \n",
        "    for i in range(freeze_encoder_layers):\n",
        "        modules.append(model.bert.encoder.layer[i])\n",
        "\n",
        "    for module in modules:\n",
        "        for param in module.parameters():\n",
        "            param.requires_grad = False\n",
        "    \n",
        "    model.to(device)\n",
        "\n",
        "    optimizer = AdamW(\n",
        "        filter(lambda p: p.requires_grad, model.parameters()),\n",
        "        lr = 2e-5,\n",
        "        eps = 1e-8\n",
        "    )\n",
        "\n",
        "    total_steps = len(train_dataloader) * epochs\n",
        "\n",
        "    scheduler = get_linear_schedule_with_warmup(\n",
        "        optimizer, \n",
        "        num_warmup_steps = 0,\n",
        "        num_training_steps = total_steps\n",
        "    )\n",
        "\n",
        "    training_stats = []\n",
        "\n",
        "    total_t0 = time.time()\n",
        "\n",
        "    for epoch_i in range(0, epochs):\n",
        "\n",
        "        print(\"\")\n",
        "        print('======== Epoch {:} / {:} ========'.format(epoch_i + 1, epochs))\n",
        "        print('Training...')\n",
        "\n",
        "        t0 = time.time()\n",
        "\n",
        "        total_train_loss = 0\n",
        "\n",
        "        model.train()\n",
        "\n",
        "        for step, batch in enumerate(train_dataloader):\n",
        "\n",
        "            if step % 40 == 0 and not step == 0:\n",
        "                elapsed = format_time(time.time() - t0)\n",
        "                print('  Batch {:>5,}  of  {:>5,}.    Elapsed: {:}.'.format(step, len(train_dataloader), elapsed))\n",
        "\n",
        "            b_input_ids = batch[0].to(device)\n",
        "            b_input_mask = batch[1].to(device)\n",
        "            b_labels = batch[2].to(device)\n",
        "\n",
        "            model.zero_grad()        \n",
        "\n",
        "            outputs = model(\n",
        "                b_input_ids, \n",
        "                token_type_ids = None, \n",
        "                attention_mask = b_input_mask, \n",
        "                labels = b_labels\n",
        "            )\n",
        "\n",
        "            loss = outputs.loss\n",
        "            logits = outputs.logits\n",
        "\n",
        "            total_train_loss += loss.item()\n",
        "\n",
        "            loss.backward()\n",
        "\n",
        "            # Clip the norm of the gradients to 1.0.\n",
        "            # This is to help prevent the \"exploding gradients\" problem.\n",
        "            torch.nn.utils.clip_grad_norm_(model.parameters(), 1.0)\n",
        "\n",
        "            optimizer.step()\n",
        "\n",
        "            scheduler.step()\n",
        "\n",
        "        avg_train_loss = total_train_loss / len(train_dataloader)            \n",
        "        \n",
        "        training_time = format_time(time.time() - t0)\n",
        "\n",
        "        print(\"\")\n",
        "        print(\"  Average training loss: {0:.2f}\".format(avg_train_loss))\n",
        "        print(\"  Training epcoh took: {:}\".format(training_time))\n",
        "        \n",
        "\n",
        "        print(\"\")\n",
        "        print(\"Running Validation...\")\n",
        "\n",
        "        t0 = time.time()\n",
        "\n",
        "        model.eval()\n",
        "\n",
        "        total_eval_accuracy = 0\n",
        "        total_eval_loss = 0\n",
        "        nb_eval_steps = 0\n",
        "\n",
        "        for batch in validation_dataloader:\n",
        "            \n",
        "            b_input_ids = batch[0].to(device)\n",
        "            b_input_mask = batch[1].to(device)\n",
        "            b_labels = batch[2].to(device)\n",
        "            \n",
        "            with torch.no_grad():\n",
        "\n",
        "                outputs = model(\n",
        "                    b_input_ids, \n",
        "                    token_type_ids = None, \n",
        "                    attention_mask = b_input_mask,\n",
        "                    labels = b_labels\n",
        "                )\n",
        "                \n",
        "                loss = outputs.loss\n",
        "                logits = outputs.logits\n",
        "                \n",
        "            total_eval_loss += loss.item()\n",
        "\n",
        "            logits = logits.detach().cpu().numpy()\n",
        "            label_ids = b_labels.cpu().numpy()\n",
        "\n",
        "            total_eval_accuracy += flat_accuracy(logits, label_ids)\n",
        "            \n",
        "\n",
        "        avg_val_accuracy = total_eval_accuracy / len(validation_dataloader)\n",
        "        print(\"  Accuracy: {0:.2f}\".format(avg_val_accuracy))\n",
        "\n",
        "        avg_val_loss = total_eval_loss / len(validation_dataloader)\n",
        "        \n",
        "        validation_time = format_time(time.time() - t0)\n",
        "        \n",
        "        print(\"  Validation Loss: {0:.2f}\".format(avg_val_loss))\n",
        "        print(\"  Validation took: {:}\".format(validation_time))\n",
        "\n",
        "        training_stats.append(\n",
        "            {\n",
        "                'epoch': epoch_i + 1,\n",
        "                'Training Loss': avg_train_loss,\n",
        "                'Valid. Loss': avg_val_loss,\n",
        "                'Valid. Accur.': avg_val_accuracy,\n",
        "                'Training Time': training_time,\n",
        "                'Validation Time': validation_time\n",
        "            }\n",
        "        )\n",
        "\n",
        "        if save_checkpoints:\n",
        "            now = datetime.datetime.now()\n",
        "            save_checkpoint(\n",
        "                \"drive/MyDrive/models/checkpoint_e\" + str(epoch_i + 1) + \"_\" + str(now) + \".pt\",\n",
        "                model, optimizer, epoch_i, { \"train\": avg_train_loss, \"val\": avg_val_loss }\n",
        "            )\n",
        "\n",
        "    print(\"\")\n",
        "    print(\"Training complete!\")\n",
        "\n",
        "    print(\"Total training took {:} (h:mm:ss)\".format(format_time(time.time()-total_t0)))\n",
        "\n",
        "    return model, training_stats"
      ],
      "execution_count": null,
      "outputs": []
    },
    {
      "cell_type": "code",
      "metadata": {
        "id": "P_1G3NNIo-P0"
      },
      "source": [
        "def test_classifier(\n",
        "    model: BertForSequenceClassification, \n",
        "    dataset: TensorDataset,\n",
        "    batch_size: int):\n",
        "\n",
        "    device = select_device()\n",
        "\n",
        "    prediction_dataloader = DataLoader(\n",
        "        dataset, \n",
        "        sampler = SequentialSampler(dataset), \n",
        "        batch_size = batch_size\n",
        "    )\n",
        "\n",
        "    print(\"\")\n",
        "    print(\"Running Prediction...\")\n",
        "\n",
        "    model.to(device)\n",
        "\n",
        "    model.eval()\n",
        "\n",
        "    predictions , true_labels = [], []\n",
        "\n",
        "    for batch in prediction_dataloader:\n",
        "\n",
        "        b_input_ids = batch[0].to(device)\n",
        "        b_input_mask = batch[1].to(device)\n",
        "        b_labels = batch[2]\n",
        "        \n",
        "        with torch.no_grad():\n",
        "\n",
        "            outputs = model(\n",
        "                b_input_ids, \n",
        "                token_type_ids = None, \n",
        "                attention_mask = b_input_mask\n",
        "            )\n",
        "\n",
        "        logits = outputs.logits\n",
        "\n",
        "        logits = logits.detach().cpu().numpy()\n",
        "        label_ids = b_labels.numpy()\n",
        "        \n",
        "        #predictions.append(logits)\n",
        "        #true_labels.append(label_ids)\n",
        "        predictions.extend(list(np.argmax(logits, axis=1).flatten()))\n",
        "        true_labels.extend(list(label_ids))\n",
        "    \n",
        "    print('DONE.')\n",
        "\n",
        "    return predictions, true_labels\n"
      ],
      "execution_count": null,
      "outputs": []
    },
    {
      "cell_type": "code",
      "metadata": {
        "id": "mrH3biqlpGgY"
      },
      "source": [
        "def save_checkpoint(path, model, optimizer, epoch, loss):\n",
        "    torch.save({\n",
        "        'epoch': epoch,\n",
        "        'model_state_dict': model.state_dict(),\n",
        "        'optimizer_state_dict': optimizer.state_dict(),\n",
        "        'loss': loss\n",
        "        }, path)\n",
        "\n",
        "\n",
        "def save_model(path, model):\n",
        "    torch.save(model.state_dict(), path)\n",
        "\n",
        "\n",
        "def load_checkpoint(path):\n",
        "    checkpoint = torch.load(path)\n",
        "    return checkpoint['model_state_dict'], checkpoint['optimizer_state_dict'], checkpoint['epoch'], checkpoint['loss']\n",
        "\n",
        "\n",
        "def load_model(path):\n",
        "    return torch.load(path)\n",
        "\n",
        "\n",
        "def select_device():\n",
        "\n",
        "    if torch.cuda.is_available():\n",
        "        print('There are %d GPU(s) available.' % torch.cuda.device_count())\n",
        "        print('We will use the GPU:', torch.cuda.get_device_name(0))\n",
        "        device = torch.device(\"cuda\")\n",
        "    else:\n",
        "        print('No GPU available, using the CPU instead.')\n",
        "        device = torch.device(\"cpu\")\n",
        "    \n",
        "    return device\n",
        "\n",
        "\n",
        "def format_time(elapsed):\n",
        "    '''\n",
        "    Takes a time in seconds and returns a string hh:mm:ss\n",
        "    '''\n",
        "    elapsed_rounded = int(round((elapsed)))\n",
        "    return str(datetime.timedelta(seconds=elapsed_rounded))\n",
        "\n",
        "\n",
        "def flat_accuracy(preds, labels):\n",
        "    pred_flat = np.argmax(preds, axis=1).flatten()\n",
        "    labels_flat = labels.flatten()\n",
        "    return np.sum(pred_flat == labels_flat) / len(labels_flat)\n"
      ],
      "execution_count": null,
      "outputs": []
    },
    {
      "cell_type": "markdown",
      "metadata": {
        "id": "Cdo8m-Qa900i"
      },
      "source": [
        "# Performance metrics"
      ]
    },
    {
      "cell_type": "code",
      "metadata": {
        "id": "gwkR6pndJUjz"
      },
      "source": [
        "def avg_accuracy(predictions,labels):\n",
        "    return sum(1 for i, j in zip(predictions, labels) if i == j) / len(predictions) \n",
        "\n",
        "def round_to_percentages(value):\n",
        "    return round(round(value, 4) * 100, 2)\n",
        "\n",
        "def majority_class(data):\n",
        "    elements_count = {}\n",
        "    for element in data:\n",
        "        if element not in elements_count:\n",
        "            elements_count[element] = 0\n",
        "        elements_count[element] += 1\n",
        "    maximum = max(elements_count, key=elements_count.get)\n",
        "    return elements_count[maximum] / len(data)\n",
        "\n",
        "def print_performance_metrics(predicted, true):\n",
        "    matrix = {}\n",
        "    labels = sorted(list(set(true)))\n",
        "\n",
        "    for t in labels:\n",
        "        for p in labels:\n",
        "            matrix[(t, p)] = sum([1 for i, j in zip(true, predicted) if i == t and j == p]) / len(true)\n",
        "\n",
        "    print()\n",
        "    print(\"Confusion Matrix\")\n",
        "    print(\"Rows - Actual\")\n",
        "    print(\"Columns - Predicted\")\n",
        "    print()\n",
        "\n",
        "    print((\"{:>3}\"+\" | \"+\"{:>6}\"*len(labels)+\" | \").format(\" \", *[p for p in labels]))\n",
        "\n",
        "    print(\"-\" * (3 + 3 + 6 * len(labels) + 3 + 6))\n",
        "\n",
        "    for t in labels:\n",
        "        print((\"{:>3}\"+\" | \"+\"{:>6.2f}\"*len(labels)+\" | \"+\"{:>6.2f}\").format(t, *[round_to_percentages(matrix[(t, p)]) for p in labels], round_to_percentages(sum([matrix[(t, p)] for p in labels]))))\n",
        "\n",
        "    print(\"-\" * (3 + 3 + 6 * len(labels) + 3 + 6))\n",
        "\n",
        "    print((\"{:>3}\"+\" | \"+\"{:>6.2f}\"*len(labels)+\" | \").format(\" \", *[round_to_percentages(sum([matrix[(t, p)] for t in labels])) for p in labels]))\n",
        "    \n",
        "    print()\n",
        "    print(\"{:<35}:{:>8.4f}\".format(\"Majority Class\", round(majority_class(true), 4)))\n",
        "    print(\"{:<35}:{:>8.4f}\".format(\"Accuracy\", round(avg_accuracy(predicted, true), 4)))\n",
        "    print()\n",
        "\n",
        "    if len(labels) == 2:\n",
        "        sensitivity = matrix[(labels[0], labels[0])] / (matrix[(labels[0], labels[0])] + matrix[(labels[0], labels[1])])\n",
        "        specificity = matrix[(labels[1], labels[1])] / (matrix[(labels[1], labels[1])] + matrix[(labels[1], labels[0])])\n",
        "        positive_predictive = matrix[(labels[0], labels[0])] / (matrix[(labels[0], labels[0])] + matrix[(labels[1], labels[0])])\n",
        "        negative_predictive = matrix[(labels[1], labels[1])] / (matrix[(labels[1], labels[1])] + matrix[(labels[0], labels[1])])\n",
        "        f1_score = 2 * ((positive_predictive * sensitivity) / (positive_predictive + sensitivity))\n",
        "\n",
        "        print(\"{:<35}:{:>8.4f}\".format(\"Sensitivity, Recall\", round(sensitivity, 4)))\n",
        "        print(\"{:<35}:{:>8.4f}\".format(\"Specificity\", round(specificity, 4)))\n",
        "        print(\"{:<35}:{:>8.4f}\".format(\"Positive Predictive, Precision\", round(positive_predictive, 4)))\n",
        "        print(\"{:<35}:{:>8.4f}\".format(\"Negative Predictive\", round(negative_predictive, 4)))\n",
        "        print(\"{:<35}:{:>8.4f}\".format(\"F1 Score\", round(f1_score, 4)))"
      ],
      "execution_count": null,
      "outputs": []
    },
    {
      "cell_type": "markdown",
      "metadata": {
        "id": "2cUR_wcTC5-p"
      },
      "source": [
        "# Preprocessing"
      ]
    },
    {
      "cell_type": "code",
      "metadata": {
        "colab": {
          "base_uri": "https://localhost:8080/"
        },
        "id": "71eMX--LiLvU",
        "outputId": "b41e82f1-df06-41f5-9f8b-8618ae137d6f"
      },
      "source": [
        "import spacy\n",
        "import re\n",
        "import classla\n",
        "\n",
        "import nltk\n",
        "from nltk.stem import WordNetLemmatizer\n",
        "from nltk.tokenize import word_tokenize\n",
        "from nltk.corpus import stopwords\n",
        "\n",
        "nltk.download('stopwords')\n",
        "nltk.download('punkt')\n",
        "nltk.download('wordnet')\n",
        "\n",
        "classla.download('sl')\n",
        "classla.download('sl', type='nonstandard')\n",
        "\n",
        "nlp_eng = spacy.load(\"en_core_web_sm\", disable=['tagger', 'parser', 'ner'])\n",
        "eng_stopwords = set(nlp_eng.Defaults.stop_words)\n",
        "slo_stopwords = set(stopwords.words('slovene'))\n",
        "\n",
        "def eng_preprocessing(text, remove_stopwords=True, do_lemmatization=True):\n",
        "\n",
        "    text = base_preprocessing(text)\n",
        "\n",
        "    tokens = []\n",
        "\n",
        "    # split text to single words\n",
        "    words = word_tokenize(text)\n",
        "\n",
        "    lemmer = WordNetLemmatizer()\n",
        "\n",
        "    # remove stopwords and words with length 1\n",
        "    for word in words:\n",
        "        if not remove_stopwords or word not in eng_stopwords:\n",
        "            if do_lemmatization:\n",
        "                word = lemmer.lemmatize(word)\n",
        "            tokens.append(word)\n",
        "\n",
        "    # convert tokens back to text\n",
        "    preprocessed_text = ' '.join([str(element) for element in tokens])\n",
        "    return preprocessed_text\n",
        "\n",
        "def slo_preprocessing(dataset, remove_stopwords=True, do_lemmatization=True):\n",
        "\n",
        "    # do base proccesing\n",
        "    dataset['preprocessed'] = dataset['Text'].apply(base_preprocessing)\n",
        "\n",
        "    # create pipelines\n",
        "    tokenizer = classla.Pipeline('sl', processors='tokenize', type='nonstandard', logging_level='WARN')\n",
        "    lemmatizer = classla.Pipeline('sl', processors='tokenize, lemma', type='nonstandard', logging_level='WARN')\n",
        "\n",
        "    # do tokenization\n",
        "    documents = '\\n'.join(dataset['preprocessed'].values)\n",
        "    out_docs = tokenizer(documents)\n",
        "\n",
        "    for i, sentence in enumerate(out_docs.sentences):\n",
        "        #print(\"DOCUMENT\")\n",
        "        seq = []\n",
        "        for word in sentence.words:\n",
        "            if not remove_stopwords or word.text not in slo_stopwords:\n",
        "                seq.append(word.text)\n",
        "\n",
        "        dataset.at[i, 'preprocessed'] = ' '.join(seq)\n",
        "\n",
        "    # do lemmatization\n",
        "    if do_lemmatization:\n",
        "        documents = '\\n'.join(dataset['preprocessed'].values)\n",
        "        out_docs = lemmatizer(documents)\n",
        "        \n",
        "        for i, sentence in enumerate(out_docs.sentences):\n",
        "            dataset.at[i, 'preprocessed'] = ' '.join(word.lemma for word in sentence.words)\n",
        "\n",
        "    return dataset\n",
        "\n",
        "def base_preprocessing(text):\n",
        "\n",
        "    EMOJI_PATTERN = re.compile(\n",
        "        \"([\"\n",
        "        \"\\U0001F1E0-\\U0001F1FF\"  # flags (iOS)\n",
        "        \"\\U0001F300-\\U0001F5FF\"  # symbols & pictographs\n",
        "        \"\\U0001F600-\\U0001F64F\"  # emoticons\n",
        "        \"\\U0001F680-\\U0001F6FF\"  # transport & map symbols\n",
        "        \"\\U0001F700-\\U0001F77F\"  # alchemical symbols\n",
        "        \"\\U0001F780-\\U0001F7FF\"  # Geometric Shapes Extended\n",
        "        \"\\U0001F800-\\U0001F8FF\"  # Supplemental Arrows-C\n",
        "        \"\\U0001F900-\\U0001F9FF\"  # Supplemental Symbols and Pictographs\n",
        "        \"\\U0001FA00-\\U0001FA6F\"  # Chess Symbols\n",
        "        \"\\U0001FA70-\\U0001FAFF\"  # Symbols and Pictographs Extended-A\n",
        "        \"])\"\n",
        "    )\n",
        "    text = re.sub(EMOJI_PATTERN,\"\",text)\n",
        "    # remove (twitter) urls\n",
        "    text = re.sub(r\"http://t.co/[a-zA-Z0-9čČšŠžŽ]+\", \" \", text)\n",
        "    text = re.sub(r\"https://t.co/[a-zA-Z0-9čČšŠžŽ]+\", \" \", text)\n",
        "\n",
        "    # remove all hashtags or @name Mentions (Usernames only allowed to includes characters A-Z, 0-9 and underscores)\n",
        "    text = re.sub(r\"[@#][a-zA-Z0-9_čČšŠžŽ]+\", \" \", text)\n",
        "\n",
        "    # remove non alphabetical characters\n",
        "    text = re.sub(r\"[^a-zA-Z0-9\\sčČšŠžŽ]\", \" \", text)\n",
        "\n",
        "    # remove multiple white spaces\n",
        "    text = re.sub(' +', ' ', text)\n",
        "\n",
        "    # convert all letters to lower case\n",
        "    text = text.lower()\n",
        "\n",
        "    return text.strip()\n",
        "\n",
        "def run_dataset_preparation(dataset, lang=\"eng\", remove_stopwords=True, do_lemmatization=True):\n",
        "\n",
        "    dataset = dataset.dropna(how='any', axis=0)\n",
        "    if lang == \"eng\":\n",
        "        dataset['preprocessed'] = dataset['Text'].apply(eng_preprocessing, remove_stopwords=remove_stopwords, do_lemmatization=do_lemmatization)\n",
        "    elif lang == \"slo\":\n",
        "        dataset = slo_preprocessing(dataset, remove_stopwords=remove_stopwords, do_lemmatization=do_lemmatization)\n",
        "\n",
        "    x,y = dataset['preprocessed'], dataset['Label']\n",
        "    data = (x,y)\n",
        "    return data"
      ],
      "execution_count": null,
      "outputs": [
        {
          "output_type": "stream",
          "text": [
            "[nltk_data] Downloading package stopwords to /root/nltk_data...\n",
            "[nltk_data]   Package stopwords is already up-to-date!\n",
            "[nltk_data] Downloading package punkt to /root/nltk_data...\n",
            "[nltk_data]   Package punkt is already up-to-date!\n",
            "[nltk_data] Downloading package wordnet to /root/nltk_data...\n"
          ],
          "name": "stdout"
        },
        {
          "output_type": "stream",
          "text": [
            "Downloading https://raw.githubusercontent.com/clarinsi/classla-resources/main/resources_1.0.0.json: 10.3kB [00:00, 2.84MB/s]                   \n",
            "2021-04-24 01:11:08 INFO: Downloading these customized packages for language: sl (Slovenian)...\n",
            "========================\n",
            "| Processor | Package  |\n",
            "------------------------\n",
            "| tokenize  | standard |\n",
            "| pos       | standard |\n",
            "| lemma     | standard |\n",
            "| depparse  | standard |\n",
            "| ner       | standard |\n",
            "| pretrain  | standard |\n",
            "========================\n",
            "\n"
          ],
          "name": "stderr"
        },
        {
          "output_type": "stream",
          "text": [
            "[nltk_data]   Package wordnet is already up-to-date!\n"
          ],
          "name": "stdout"
        },
        {
          "output_type": "stream",
          "text": [
            "2021-04-24 01:11:12 INFO: File exists: /root/classla_resources/sl/pos/standard.pt.\n",
            "2021-04-24 01:11:17 INFO: File exists: /root/classla_resources/sl/lemma/standard.pt.\n",
            "2021-04-24 01:11:20 INFO: File exists: /root/classla_resources/sl/depparse/standard.pt.\n",
            "2021-04-24 01:11:21 INFO: File exists: /root/classla_resources/sl/ner/standard.pt.\n",
            "2021-04-24 01:11:25 INFO: File exists: /root/classla_resources/sl/pretrain/standard.pt.\n",
            "2021-04-24 01:11:25 INFO: Finished downloading models and saved to /root/classla_resources.\n",
            "Downloading https://raw.githubusercontent.com/clarinsi/classla-resources/main/resources_1.0.0.json: 10.3kB [00:00, 2.98MB/s]                   \n",
            "2021-04-24 01:11:26 INFO: Downloading these customized packages for language: sl (Slovenian)...\n",
            "===========================\n",
            "| Processor | Package     |\n",
            "---------------------------\n",
            "| tokenize  | nonstandard |\n",
            "| pos       | nonstandard |\n",
            "| lemma     | nonstandard |\n",
            "| depparse  | standard    |\n",
            "| ner       | nonstandard |\n",
            "| pretrain  | standard    |\n",
            "===========================\n",
            "\n",
            "2021-04-24 01:11:29 INFO: File exists: /root/classla_resources/sl/pos/nonstandard.pt.\n",
            "2021-04-24 01:11:30 INFO: File exists: /root/classla_resources/sl/lemma/nonstandard.pt.\n",
            "2021-04-24 01:11:30 INFO: File exists: /root/classla_resources/sl/depparse/standard.pt.\n",
            "2021-04-24 01:11:31 INFO: File exists: /root/classla_resources/sl/ner/nonstandard.pt.\n",
            "2021-04-24 01:11:32 INFO: File exists: /root/classla_resources/sl/pretrain/standard.pt.\n",
            "2021-04-24 01:11:32 INFO: Finished downloading models and saved to /root/classla_resources.\n"
          ],
          "name": "stderr"
        }
      ]
    },
    {
      "cell_type": "markdown",
      "metadata": {
        "id": "fTNtYoht-Den"
      },
      "source": [
        "# Other"
      ]
    },
    {
      "cell_type": "code",
      "metadata": {
        "id": "M9W9YAKe44xX"
      },
      "source": [
        "import matplotlib.pyplot as plt\n",
        "\n",
        "def distribution_dataset(data):\n",
        "    distribution = {}\n",
        "    for element in data:\n",
        "        if element not in distribution:\n",
        "            distribution[element] = 0\n",
        "        distribution[element] += 1\n",
        "    return distribution"
      ],
      "execution_count": null,
      "outputs": []
    },
    {
      "cell_type": "markdown",
      "metadata": {
        "id": "itIORIUu-MpJ"
      },
      "source": [
        "# Binary Eng classification"
      ]
    },
    {
      "cell_type": "markdown",
      "metadata": {
        "id": "Z48_4PEW_34D"
      },
      "source": [
        "## Setup"
      ]
    },
    {
      "cell_type": "code",
      "metadata": {
        "id": "ugdgb93AqdAV"
      },
      "source": [
        "binary_data = pd.read_csv('drive/MyDrive/Data/Eng/Binary/data.csv')\n",
        "x,y = run_dataset_preparation(binary_data, \"eng\", remove_stopwords=False, do_lemmatization=True)"
      ],
      "execution_count": null,
      "outputs": []
    },
    {
      "cell_type": "markdown",
      "metadata": {
        "id": "RdNZwzP4ciyY"
      },
      "source": [
        "Text length distribution"
      ]
    },
    {
      "cell_type": "code",
      "metadata": {
        "colab": {
          "base_uri": "https://localhost:8080/",
          "height": 318
        },
        "id": "E_ZbjFmQUCfT",
        "outputId": "52e031be-5cde-44b5-9deb-b8ecbb202807"
      },
      "source": [
        "length_distribution = distribution_dataset([len(e) for e in list(x.values)])\n",
        "print(length_distribution)\n",
        "xv = list(length_distribution.keys())\n",
        "yv = list(length_distribution.values())\n",
        "plt.bar(xv, yv, color=\"tab:blue\")\n",
        "axes = plt.gca()\n",
        "axes.set_xlim([0,1000])"
      ],
      "execution_count": null,
      "outputs": [
        {
          "output_type": "stream",
          "text": [
            "{25: 516, 132: 186, 77: 352, 451: 9, 94: 335, 38: 546, 352: 32, 47: 518, 71: 464, 34: 526, 111: 302, 246: 58, 37: 509, 35: 541, 51: 450, 55: 485, 15: 383, 124: 251, 69: 420, 28: 565, 60: 457, 5: 141, 45: 477, 11: 392, 57: 474, 140: 181, 65: 432, 134: 174, 260: 56, 127: 217, 117: 292, 49: 492, 89: 348, 40: 517, 16: 511, 99: 345, 152: 161, 189: 120, 237: 80, 182: 125, 80: 384, 59: 452, 95: 339, 108: 305, 62: 432, 13: 423, 10: 272, 41: 492, 85: 352, 33: 552, 76: 397, 110: 343, 135: 203, 42: 527, 50: 463, 18: 442, 92: 340, 101: 295, 333: 75, 48: 494, 63: 409, 72: 380, 103: 340, 158: 136, 113: 293, 115: 321, 150: 162, 120: 274, 7: 164, 116: 312, 100: 365, 74: 432, 27: 549, 434: 15, 23: 585, 70: 418, 0: 194, 21: 551, 118: 298, 43: 486, 58: 459, 188: 110, 64: 506, 78: 376, 6: 172, 149: 159, 125: 243, 22: 501, 330: 46, 46: 501, 36: 554, 3: 142, 324: 64, 551: 8, 155: 156, 24: 589, 30: 568, 97: 377, 54: 531, 26: 513, 79: 388, 196: 95, 128: 187, 153: 148, 431: 11, 82: 374, 67: 427, 56: 465, 166: 136, 52: 468, 19: 470, 32: 548, 96: 354, 66: 422, 83: 354, 195: 100, 20: 522, 29: 563, 143: 168, 906: 1, 224: 89, 462: 12, 194: 102, 522: 10, 102: 310, 453: 15, 247: 72, 1312: 2, 266: 69, 1408: 3, 88: 367, 107: 319, 169: 141, 1908: 1, 8: 222, 214: 107, 306: 58, 611: 7, 104: 336, 86: 368, 98: 331, 163: 131, 145: 179, 112: 320, 119: 280, 91: 333, 14: 420, 12: 339, 9: 279, 292: 62, 173: 130, 141: 169, 75: 355, 44: 544, 257: 76, 156: 147, 126: 226, 167: 163, 53: 457, 336: 56, 356: 32, 495: 5, 172: 116, 215: 88, 73: 390, 31: 547, 114: 301, 84: 342, 129: 197, 39: 571, 497: 8, 68: 418, 229: 84, 200: 102, 160: 156, 17: 485, 106: 317, 168: 123, 207: 96, 219: 101, 244: 78, 148: 172, 264: 78, 254: 83, 90: 327, 109: 315, 180: 136, 459: 20, 198: 101, 123: 269, 467: 8, 265: 66, 157: 134, 1482: 3, 1212: 1, 218: 73, 422: 20, 515: 11, 386: 17, 87: 308, 144: 180, 355: 33, 1031: 1, 345: 40, 482: 12, 177: 121, 138: 185, 508: 9, 923: 1, 283: 70, 543: 10, 190: 120, 980: 1, 61: 451, 263: 63, 273: 66, 136: 170, 161: 131, 93: 339, 425: 14, 308: 54, 285: 54, 191: 102, 742: 1, 311: 53, 105: 317, 139: 196, 193: 96, 258: 54, 988: 3, 121: 276, 569: 10, 122: 265, 255: 72, 1711: 1, 540: 12, 327: 52, 154: 159, 186: 99, 146: 134, 176: 119, 714: 4, 192: 118, 162: 136, 296: 53, 232: 76, 813: 5, 81: 388, 204: 100, 578: 11, 217: 77, 4: 159, 337: 47, 245: 90, 185: 119, 463: 9, 426: 8, 323: 56, 248: 95, 464: 13, 206: 78, 187: 97, 130: 191, 210: 91, 238: 75, 251: 63, 174: 128, 159: 128, 142: 163, 243: 75, 226: 77, 235: 91, 278: 59, 270: 66, 133: 176, 236: 89, 363: 19, 131: 191, 234: 89, 183: 129, 362: 14, 216: 84, 770: 6, 277: 73, 566: 7, 1536: 2, 272: 57, 1039: 2, 689: 9, 357: 19, 1063: 3, 276: 61, 287: 51, 897: 8, 547: 7, 732: 3, 442: 24, 223: 96, 281: 65, 414: 23, 137: 169, 351: 53, 165: 129, 203: 92, 170: 129, 181: 110, 197: 104, 652: 3, 625: 5, 1300: 3, 909: 3, 326: 47, 561: 7, 757: 5, 393: 23, 171: 130, 399: 12, 212: 103, 233: 77, 202: 82, 735: 4, 730: 5, 220: 82, 299: 68, 365: 19, 286: 55, 227: 74, 413: 17, 294: 67, 354: 31, 222: 92, 300: 59, 307: 50, 178: 116, 385: 22, 302: 54, 313: 52, 390: 13, 439: 16, 729: 4, 489: 11, 315: 54, 822: 1, 558: 6, 433: 15, 397: 12, 280: 61, 228: 99, 491: 10, 221: 76, 499: 7, 211: 99, 256: 64, 487: 7, 369: 20, 179: 131, 249: 87, 541: 5, 710: 5, 271: 72, 591: 5, 501: 11, 443: 14, 472: 11, 359: 35, 284: 70, 585: 8, 797: 3, 382: 17, 334: 59, 240: 68, 424: 14, 199: 80, 2: 70, 831: 3, 268: 63, 531: 13, 230: 80, 208: 95, 328: 47, 239: 87, 298: 51, 587: 5, 367: 11, 610: 6, 314: 47, 341: 59, 1224: 1, 784: 6, 423: 12, 319: 43, 1471: 3, 403: 16, 919: 1, 507: 9, 400: 17, 338: 52, 282: 63, 484: 11, 654: 6, 297: 61, 552: 8, 332: 58, 335: 74, 288: 42, 184: 115, 151: 144, 381: 9, 201: 90, 1151: 1, 1379: 3, 329: 62, 1627: 1, 570: 10, 520: 7, 643: 6, 417: 13, 175: 110, 749: 4, 506: 10, 665: 5, 935: 4, 408: 14, 250: 77, 430: 9, 1119: 1, 371: 25, 716: 2, 1505: 2, 1209: 2, 584: 8, 310: 47, 375: 19, 703: 5, 350: 37, 1140: 6, 358: 19, 597: 11, 475: 13, 469: 9, 3432: 1, 305: 60, 724: 5, 213: 90, 392: 20, 389: 12, 842: 3, 1256: 2, 1479: 1, 164: 126, 644: 7, 760: 3, 755: 4, 548: 8, 2059: 2, 420: 15, 340: 73, 1: 26, 343: 48, 492: 13, 398: 16, 672: 7, 460: 6, 538: 7, 719: 4, 588: 8, 791: 6, 415: 18, 2000: 1, 959: 2, 614: 4, 441: 11, 466: 16, 500: 10, 275: 74, 613: 5, 521: 10, 290: 66, 938: 1, 745: 6, 559: 13, 958: 2, 1402: 1, 411: 18, 301: 72, 649: 8, 636: 13, 373: 16, 856: 1, 720: 2, 555: 5, 147: 159, 261: 84, 1001: 2, 435: 14, 1399: 1, 473: 13, 593: 10, 998: 1, 1211: 1, 1715: 1, 474: 18, 598: 7, 641: 4, 407: 7, 309: 49, 376: 17, 205: 85, 539: 8, 744: 6, 457: 9, 911: 3, 1612: 1, 965: 3, 712: 7, 289: 55, 348: 60, 778: 5, 709: 1, 2243: 1, 252: 70, 455: 16, 2540: 1, 456: 11, 1851: 1, 2321: 1, 1794: 1, 655: 8, 883: 4, 339: 70, 436: 16, 637: 6, 886: 4, 694: 7, 209: 87, 642: 3, 490: 9, 513: 13, 1017: 3, 349: 52, 523: 7, 631: 7, 876: 4, 975: 4, 364: 20, 542: 5, 516: 6, 628: 7, 347: 42, 900: 3, 604: 3, 639: 7, 353: 39, 440: 12, 419: 14, 454: 13, 493: 11, 384: 16, 366: 11, 404: 11, 1799: 1, 387: 9, 470: 7, 524: 6, 1563: 3, 594: 12, 907: 2, 1425: 1, 1132: 1, 692: 3, 416: 23, 370: 22, 993: 3, 1469: 1, 518: 10, 688: 7, 653: 4, 544: 12, 624: 9, 664: 9, 701: 2, 976: 2, 342: 50, 582: 4, 259: 77, 2018: 1, 685: 4, 2229: 2, 1049: 2, 514: 13, 325: 63, 344: 58, 1089: 1, 884: 3, 640: 8, 955: 5, 1435: 1, 1047: 2, 632: 7, 1640: 1, 225: 76, 808: 4, 427: 15, 395: 11, 478: 10, 545: 10, 695: 7, 2683: 2, 1913: 1, 2114: 1, 878: 4, 702: 7, 667: 5, 1531: 1, 1198: 2, 452: 6, 952: 5, 1191: 2, 916: 2, 575: 6, 445: 10, 651: 7, 428: 12, 2060: 1, 663: 6, 262: 92, 1147: 3, 461: 14, 599: 4, 1060: 4, 765: 6, 322: 72, 1146: 1, 321: 41, 828: 5, 318: 43, 568: 5, 746: 6, 394: 18, 360: 23, 525: 9, 446: 13, 291: 62, 1303: 5, 1686: 2, 1461: 2, 274: 66, 646: 5, 3399: 1, 1792: 2, 1246: 1, 1430: 3, 731: 5, 267: 65, 2628: 1, 888: 6, 418: 12, 379: 21, 743: 3, 945: 1, 1965: 1, 620: 2, 753: 4, 634: 9, 317: 47, 650: 7, 438: 16, 612: 9, 949: 1, 241: 80, 751: 3, 532: 7, 766: 4, 771: 3, 1968: 2, 1052: 4, 661: 5, 1288: 4, 680: 6, 830: 2, 447: 11, 811: 4, 1901: 1, 824: 4, 1386: 1, 1805: 1, 2323: 2, 2528: 1, 2376: 1, 580: 4, 1636: 1, 479: 6, 471: 8, 391: 12, 519: 9, 715: 4, 1002: 2, 1895: 1, 623: 5, 448: 9, 293: 48, 378: 18, 494: 9, 684: 9, 754: 4, 361: 16, 231: 77, 1138: 2, 1134: 1, 563: 11, 1172: 6, 929: 4, 1011: 3, 504: 9, 2627: 1, 1080: 2, 2149: 1, 1201: 2, 892: 2, 812: 3, 1841: 3, 450: 9, 734: 2, 841: 2, 517: 7, 1088: 2, 368: 16, 1616: 3, 603: 11, 622: 8, 1150: 2, 630: 4, 527: 6, 948: 2, 605: 4, 410: 10, 699: 8, 832: 4, 827: 1, 647: 7, 947: 2, 1000: 1, 1818: 1, 421: 14, 1041: 1, 979: 1, 279: 65, 396: 26, 691: 9, 1615: 1, 346: 46, 316: 46, 312: 53, 295: 55, 509: 6, 837: 5, 1284: 2, 683: 3, 1930: 1, 677: 5, 529: 8, 969: 4, 583: 5, 1545: 2, 576: 10, 1484: 2, 1126: 1, 483: 10, 648: 4, 721: 1, 2609: 1, 1494: 2, 807: 5, 374: 14, 512: 3, 1090: 2, 269: 69, 777: 2, 3341: 1, 498: 8, 530: 7, 728: 3, 737: 4, 849: 4, 303: 59, 1030: 2, 556: 8, 783: 2, 589: 12, 1062: 4, 887: 6, 496: 9, 2348: 1, 2793: 1, 793: 4, 595: 5, 2069: 1, 553: 10, 1236: 2, 502: 10, 380: 13, 4265: 1, 1157: 2, 914: 5, 981: 2, 2276: 1, 997: 2, 526: 7, 1305: 1, 304: 49, 535: 8, 1291: 2, 773: 3, 1190: 1, 372: 16, 565: 10, 536: 5, 796: 3, 1335: 1, 1074: 1, 902: 1, 1579: 1, 412: 14, 823: 4, 681: 5, 242: 73, 1182: 2, 840: 6, 1387: 1, 1122: 1, 1843: 1, 602: 9, 533: 6, 609: 6, 1502: 2, 1055: 3, 838: 3, 839: 4, 942: 2, 626: 6, 1593: 2, 615: 7, 798: 2, 810: 2, 675: 6, 1556: 1, 528: 3, 1046: 2, 1707: 1, 697: 4, 505: 8, 1391: 2, 2462: 1, 687: 5, 429: 15, 722: 5, 985: 3, 656: 3, 1136: 1, 804: 2, 1603: 1, 815: 7, 961: 4, 1066: 1, 2241: 1, 1717: 2, 1044: 2, 601: 5, 748: 6, 963: 3, 903: 2, 1194: 1, 1389: 2, 2778: 1, 1013: 4, 465: 9, 449: 14, 468: 10, 786: 5, 2573: 1, 708: 2, 2040: 1, 775: 4, 402: 12, 253: 78, 2209: 1, 868: 1, 717: 6, 401: 18, 405: 11, 679: 8, 1638: 1, 480: 7, 995: 3, 3324: 1, 592: 5, 1139: 2, 686: 4, 2578: 1, 596: 8, 1213: 2, 1463: 3, 633: 7, 608: 8, 698: 2, 606: 6, 377: 14, 972: 2, 933: 2, 1155: 1, 705: 5, 1032: 2, 1727: 1, 788: 3, 1010: 2, 1779: 1, 1419: 1, 2753: 1, 581: 6, 1113: 1, 1598: 1, 645: 4, 885: 2, 700: 5, 574: 7, 1064: 4, 1129: 2, 1904: 1, 1987: 1, 1731: 2, 1527: 2, 936: 3, 2078: 1, 331: 59, 759: 3, 973: 2, 1238: 3, 894: 3, 1005: 4, 2176: 1, 607: 7, 910: 4, 835: 4, 853: 1, 1534: 2, 1330: 2, 1121: 2, 1398: 2, 774: 1, 1645: 1, 800: 5, 1552: 1, 794: 3, 1094: 5, 388: 13, 1075: 1, 736: 2, 1037: 4, 833: 3, 1320: 1, 1167: 1, 572: 5, 1219: 2, 792: 4, 1163: 1, 476: 14, 3647: 1, 768: 3, 3593: 1, 1307: 2, 5274: 1, 1235: 2, 1433: 1, 1684: 1, 1681: 1, 776: 3, 1474: 2, 926: 1, 1124: 2, 577: 8, 898: 1, 1220: 2, 3422: 1, 437: 8, 718: 1, 1318: 1, 725: 3, 802: 3, 1924: 3, 1858: 1, 3293: 1, 2450: 1, 1351: 1, 2263: 2, 2430: 1, 670: 5, 2522: 1, 895: 4, 713: 4, 2542: 1, 3184: 2, 409: 12, 1650: 1, 1048: 3, 1173: 1, 1313: 2, 970: 4, 1340: 3, 3452: 1, 2442: 1, 6705: 1, 619: 5, 5179: 1, 825: 4, 763: 6, 6291: 1, 1629: 2, 1783: 1, 2295: 2, 2553: 1, 4186: 2, 4730: 1, 7405: 1, 2072: 1, 7208: 1, 1861: 2, 635: 6, 557: 4, 1938: 1, 862: 5, 889: 1, 481: 11, 320: 45, 1061: 3, 867: 5, 2884: 2, 534: 7, 1149: 2, 727: 3, 1800: 1, 977: 1, 1177: 1, 1076: 3, 1458: 1, 2028: 1, 1384: 1, 2409: 1, 1764: 1, 762: 3, 854: 4, 2070: 1, 510: 5, 750: 2, 1772: 1, 4703: 1, 546: 7, 1844: 1, 5964: 1, 6602: 1, 4188: 1, 1020: 1, 726: 2, 904: 2, 994: 2, 3508: 1, 858: 2, 1380: 2, 818: 3, 1879: 2, 3840: 1, 1503: 2, 682: 2, 1729: 1, 1296: 2, 950: 2, 2271: 1, 1083: 5, 4926: 1, 2055: 1, 1486: 1, 1105: 1, 2692: 1, 503: 8, 560: 7, 2144: 1, 1042: 2, 1569: 1, 921: 2, 1102: 4, 934: 4, 618: 1, 924: 3, 756: 4, 769: 1, 1096: 2, 1193: 2, 562: 3, 673: 6, 2592: 1, 1024: 2, 629: 6, 3151: 1, 805: 2, 1293: 1, 458: 13, 1500: 1, 488: 12, 1203: 1, 971: 2, 1054: 1, 444: 11, 857: 3, 893: 3, 1260: 1, 1993: 2, 1204: 2, 600: 3, 1228: 1, 1057: 3, 1045: 2, 2283: 1, 2872: 2, 2846: 1, 860: 3, 1084: 1, 852: 2, 1107: 2, 1215: 2, 1277: 1, 638: 2, 882: 2, 1021: 4, 1308: 1, 1142: 1, 1170: 2, 899: 2, 761: 5, 1206: 2, 1355: 2, 564: 6, 1743: 2, 1964: 2, 669: 2, 617: 1, 621: 6, 826: 4, 880: 2, 1038: 2, 1723: 1, 1514: 1, 693: 8, 432: 6, 1451: 3, 477: 4, 779: 2, 814: 6, 2544: 1, 3374: 1, 2121: 1, 848: 5, 662: 3, 511: 6, 847: 2, 891: 2, 3102: 1, 846: 2, 1026: 2, 861: 3, 671: 5, 573: 7, 1187: 2, 1664: 2, 1059: 3, 787: 6, 1827: 3, 806: 1, 1576: 1, 738: 4, 829: 3, 1493: 2, 1244: 2, 1899: 1, 1254: 1, 4019: 1, 1290: 1, 1299: 1, 590: 3, 711: 5, 2695: 1, 1874: 1, 890: 2, 957: 3, 1259: 1, 1262: 1, 2022: 1, 1095: 3, 1366: 2, 659: 1, 1814: 1, 1945: 1, 2210: 1, 1078: 1, 2046: 1, 383: 12, 758: 4, 567: 7, 1519: 1, 990: 1, 2715: 2, 1544: 1, 486: 2, 666: 4, 1721: 1, 579: 6, 2342: 1, 2365: 1, 3370: 1, 1250: 2, 1789: 1, 992: 2, 917: 3, 2233: 1, 1357: 1, 1051: 4, 1702: 1, 3133: 1, 1118: 2, 1186: 2, 2145: 1, 3139: 1, 817: 3, 676: 5, 866: 4, 1103: 1, 1934: 1, 549: 5, 859: 2, 1343: 1, 816: 5, 915: 4, 1750: 1, 1675: 1, 1120: 1, 809: 4, 2477: 1, 537: 9, 1658: 1, 1722: 1, 1082: 1, 1286: 1, 1077: 1, 1365: 1, 795: 2, 1183: 1, 1019: 1, 2353: 1, 1856: 1, 1281: 1, 2344: 1, 3492: 1, 2947: 1, 1624: 1, 1364: 2, 2541: 2, 2318: 1, 7484: 1, 1396: 1, 723: 2, 1251: 1, 1774: 1, 1749: 1, 1375: 2, 944: 2, 733: 5, 485: 6, 2821: 1, 1200: 1, 1793: 1, 1115: 1, 1043: 2, 3868: 1, 2599: 1, 1347: 2, 1585: 1, 554: 6, 406: 4, 1025: 2, 1332: 1, 1454: 2, 1316: 1, 1970: 1, 1423: 2, 1050: 1, 978: 2, 1790: 1, 1131: 3, 1175: 2, 1258: 1, 1336: 1, 1455: 1, 2966: 1, 764: 4, 1034: 2, 2518: 1, 1666: 1, 550: 5, 1040: 1, 740: 3, 2648: 1, 864: 1, 877: 2, 964: 1, 821: 3, 1314: 1, 657: 4, 2933: 1, 1184: 1, 2530: 1, 1382: 1, 2071: 1, 873: 1, 616: 4, 1068: 1, 1956: 1, 3030: 1, 865: 1, 790: 4, 1406: 1, 912: 2, 752: 2, 781: 3, 1229: 2, 690: 2, 1821: 1, 1339: 2, 1400: 1, 1973: 1, 871: 1, 586: 5, 1240: 2, 1997: 1, 3892: 1, 2370: 1, 4360: 1, 1334: 1, 1745: 2, 2853: 2, 2117: 1, 2927: 2, 696: 3, 1329: 1, 905: 3, 1838: 1, 2749: 1, 2877: 1, 3536: 1, 5046: 1, 1966: 1, 1067: 1, 571: 3, 2517: 1, 843: 2, 996: 1, 1004: 2, 1559: 2, 706: 2, 1516: 3, 2510: 1, 2293: 1, 2161: 1, 2475: 1, 1158: 1, 1418: 1, 1586: 1, 3350: 1, 1306: 1, 987: 2, 3967: 1, 782: 3, 2347: 1, 851: 3, 2742: 1, 1791: 1, 2722: 1, 928: 2, 3266: 1, 1301: 2, 1467: 1, 747: 3, 1101: 2, 1114: 1, 660: 5, 1266: 1, 1072: 1, 879: 1, 1977: 1, 1468: 1, 1824: 1, 1028: 2, 2157: 1, 2280: 1, 2242: 1, 1117: 1, 2270: 1, 1275: 3, 2879: 2, 803: 1, 1156: 2, 3444: 1, 3039: 1, 2285: 1, 3145: 1, 1208: 1, 1097: 2, 1713: 1, 2386: 1, 1016: 1, 6446: 1, 1699: 1, 872: 3, 1726: 2, 1128: 1, 991: 3, 2509: 1, 2008: 1, 2175: 1, 1282: 2, 836: 2, 627: 2, 1574: 1, 2425: 2, 780: 1, 951: 1, 1597: 1, 2085: 2, 3250: 1, 3616: 1, 2458: 1, 1436: 2, 2391: 1, 820: 1, 2943: 1, 1368: 1, 1459: 1, 2905: 1, 1197: 1, 1249: 1, 1239: 2, 2290: 1, 1921: 2, 2921: 1, 2875: 2, 5507: 1, 6323: 1, 986: 1, 2487: 1, 1683: 1, 1677: 2, 1714: 2, 1008: 2, 1427: 2, 1056: 2, 1271: 2, 1875: 1, 1029: 1, 1371: 1, 3214: 1, 1287: 1, 785: 1, 739: 3, 1087: 1, 2744: 1, 4912: 1, 1257: 1, 1230: 1, 2150: 1, 1092: 1, 674: 6, 874: 5, 2222: 1, 850: 2, 1781: 1, 1873: 1, 1012: 4, 1720: 1, 954: 2, 875: 3, 863: 1, 1137: 1, 1560: 1, 2168: 2, 1472: 2, 927: 1, 925: 2, 1093: 2, 1178: 1, 1362: 1, 1337: 2, 1196: 1, 1168: 1, 3125: 1, 1634: 1, 1164: 2, 2138: 1, 1571: 1, 1414: 1, 3079: 1, 2282: 1, 4639: 1, 2882: 2, 1801: 2, 1210: 1, 1036: 1, 1831: 1, 3287: 2, 1112: 2, 3065: 1, 870: 1, 1321: 1, 5435: 1, 1932: 1, 4135: 1, 1755: 1, 1960: 2, 5482: 1, 3666: 1, 901: 1, 1226: 1, 1231: 1, 2734: 3, 3654: 1, 3632: 1, 4316: 1, 3215: 1, 2063: 1, 3470: 1, 1091: 3, 922: 1, 1373: 1, 3200: 1, 1628: 1, 1079: 2, 920: 1, 932: 1, 974: 3, 2361: 1, 1936: 1, 3714: 1, 2707: 1, 1891: 1, 1704: 1, 5774: 1, 1397: 1, 1304: 1, 1086: 1, 989: 2, 1510: 1, 1310: 1, 1111: 1, 1671: 1, 2200: 1, 1199: 1, 1490: 1, 2500: 1, 1162: 1, 658: 3, 2217: 1, 2153: 1, 1145: 1, 1943: 1, 2684: 1, 3680: 1, 3904: 1, 1662: 1, 2027: 1, 1319: 2, 1169: 1, 1253: 1, 1582: 1, 953: 1, 1447: 1, 1754: 1, 1465: 1, 1263: 1, 999: 2, 2614: 1, 3998: 1, 962: 2, 1562: 1, 1225: 1, 1385: 2, 2987: 1, 1477: 1, 2478: 1, 940: 1, 960: 2, 801: 3, 4412: 1, 1283: 2, 3032: 1, 1188: 1, 2302: 1, 2004: 1, 1431: 2, 8080: 1, 1620: 1, 2089: 1, 1130: 2, 1180: 2, 1415: 1, 1348: 1, 1995: 2, 1460: 2, 1575: 1, 4356: 1, 1267: 1, 1508: 1, 834: 2, 2177: 1, 2012: 2, 2440: 1, 1018: 1, 2375: 1, 2360: 1, 3226: 1, 2531: 1, 1633: 1, 1073: 2, 1058: 1, 741: 1, 1404: 1, 2611: 1, 3196: 1, 1456: 1, 2002: 1, 799: 1, 1935: 1, 2197: 1, 1294: 1, 1429: 1, 2791: 1, 2615: 1, 3095: 1, 3379: 1, 2417: 2, 1123: 1, 3326: 1, 2309: 1, 1517: 1, 1035: 1, 1192: 1, 2555: 1, 1609: 1, 3084: 1, 1637: 1, 1914: 1, 1437: 1, 2887: 1, 707: 1, 1223: 1, 1243: 3, 2642: 1, 1601: 1, 1618: 1, 2047: 1, 1614: 1, 930: 1, 2864: 1, 2021: 1, 2106: 1, 3366: 1, 3222: 1, 2792: 1, 2067: 1, 3313: 1, 2815: 1, 2801: 1, 956: 1, 1133: 1, 1773: 1, 668: 1, 2498: 1, 2057: 1, 2761: 1, 2239: 1, 2227: 1, 1412: 1, 1071: 1, 2504: 1, 2851: 1, 1641: 1, 2211: 1, 2093: 1, 3020: 1, 2985: 1, 3171: 1, 1889: 1, 1247: 1, 2825: 1, 2102: 1, 2818: 1, 2597: 1, 1926: 1, 2914: 1, 1265: 1, 3119: 1, 1333: 1, 1744: 1, 1735: 1, 3109: 1, 1507: 1, 2273: 1, 2800: 1, 1022: 1, 819: 1, 2316: 1, 3126: 1, 1069: 1, 2480: 1, 1207: 1, 1221: 1, 767: 1, 3207: 1, 1109: 1, 1148: 1, 1227: 1}\n"
          ],
          "name": "stdout"
        },
        {
          "output_type": "execute_result",
          "data": {
            "text/plain": [
              "(0.0, 1000.0)"
            ]
          },
          "metadata": {
            "tags": []
          },
          "execution_count": 68
        },
        {
          "output_type": "display_data",
          "data": {
            "image/png": "[encoded data removed]",
            "text/plain": [
              "<Figure size 432x288 with 1 Axes>"
            ]
          },
          "metadata": {
            "tags": [],
            "needs_background": "light"
          }
        }
      ]
    },
    {
      "cell_type": "code",
      "metadata": {
        "colab": {
          "base_uri": "https://localhost:8080/"
        },
        "id": "WvMHpuR1EBQU",
        "outputId": "79e1b54b-5ad1-4207-9434-16dd2537e1f4"
      },
      "source": [
        "max_length = 400\n",
        "data = pd.DataFrame()\n",
        "data[\"x\"] = x\n",
        "data[\"y\"] = y\n",
        "data_length_filtered = data.loc[data[\"x\"].str.len() <= max_length]\n",
        "print(round(100 * (1.0 - (len(data_length_filtered) / len(data))), 2), \"%\", \"filtered out because of text length\")\n",
        "x,y = data_length_filtered[\"x\"], data_length_filtered[\"y\"]\n",
        "x.reset_index(drop=True, inplace=True)\n",
        "y.reset_index(drop=True, inplace=True)"
      ],
      "execution_count": null,
      "outputs": [
        {
          "output_type": "stream",
          "text": [
            "5.69 % filtered out because of text length\n"
          ],
          "name": "stdout"
        }
      ]
    },
    {
      "cell_type": "code",
      "metadata": {
        "colab": {
          "base_uri": "https://localhost:8080/"
        },
        "id": "RbPWMpV23UVn",
        "outputId": "3c4dd19d-497c-4e51-8211-2ff4bd23c6ff"
      },
      "source": [
        "model = setup_classifier(\n",
        "    model_name = \"drive/MyDrive/classifiers/bert/CroSloEngual\",\n",
        "    num_labels = 2\n",
        ")\n",
        "\n",
        "dataset = setup_data(\n",
        "    model_name = \"drive/MyDrive/classifiers/bert/CroSloEngual\",\n",
        "    x = x,\n",
        "    y = y,\n",
        "    do_lower_case = False,\n",
        "    max_length = max_length\n",
        ")\n",
        "\n",
        "test_ratio = 0.8\n",
        "train_size = int(test_ratio * len(dataset))\n",
        "test_size = len(dataset) - train_size\n",
        "\n",
        "train_dataset, test_dataset = random_split(dataset, [train_size, test_size])"
      ],
      "execution_count": null,
      "outputs": [
        {
          "output_type": "stream",
          "text": [
            "Some weights of the model checkpoint at drive/MyDrive/classifiers/bert/CroSloEngual were not used when initializing BertForSequenceClassification: ['cls.predictions.bias', 'cls.predictions.transform.dense.weight', 'cls.predictions.transform.dense.bias', 'cls.predictions.transform.LayerNorm.weight', 'cls.predictions.transform.LayerNorm.bias', 'cls.predictions.decoder.weight', 'cls.seq_relationship.weight', 'cls.seq_relationship.bias']\n",
            "- This IS expected if you are initializing BertForSequenceClassification from the checkpoint of a model trained on another task or with another architecture (e.g. initializing a BertForSequenceClassification model from a BertForPreTraining model).\n",
            "- This IS NOT expected if you are initializing BertForSequenceClassification from the checkpoint of a model that you expect to be exactly identical (initializing a BertForSequenceClassification model from a BertForSequenceClassification model).\n",
            "Some weights of BertForSequenceClassification were not initialized from the model checkpoint at drive/MyDrive/classifiers/bert/CroSloEngual and are newly initialized: ['classifier.weight', 'classifier.bias']\n",
            "You should probably TRAIN this model on a down-stream task to be able to use it for predictions and inference.\n"
          ],
          "name": "stderr"
        }
      ]
    },
    {
      "cell_type": "markdown",
      "metadata": {
        "id": "iTN9KIt0ASOt"
      },
      "source": [
        "## Train dataset class distribution"
      ]
    },
    {
      "cell_type": "code",
      "metadata": {
        "colab": {
          "base_uri": "https://localhost:8080/",
          "height": 298
        },
        "id": "11ZtjhbhA821",
        "outputId": "6fbb6f9a-3ac7-43db-ee80-5dd20b34ad87"
      },
      "source": [
        "class_distribution = distribution_dataset([e[2].item() for e in list(train_dataset)])\n",
        "print(class_distribution)\n",
        "xv = list(class_distribution.keys())\n",
        "yv = list(class_distribution.values())\n",
        "plt.bar(xv, yv, color=\"tab:blue\")"
      ],
      "execution_count": null,
      "outputs": [
        {
          "output_type": "stream",
          "text": [
            "{1: 25249, 0: 31865}\n"
          ],
          "name": "stdout"
        },
        {
          "output_type": "execute_result",
          "data": {
            "text/plain": [
              "<BarContainer object of 2 artists>"
            ]
          },
          "metadata": {
            "tags": []
          },
          "execution_count": 71
        },
        {
          "output_type": "display_data",
          "data": {
            "image/png": "[encoded data removed]",
            "text/plain": [
              "<Figure size 432x288 with 1 Axes>"
            ]
          },
          "metadata": {
            "tags": [],
            "needs_background": "light"
          }
        }
      ]
    },
    {
      "cell_type": "markdown",
      "metadata": {
        "id": "_HJh2OzQAb7c"
      },
      "source": [
        "## Test dataset class distribution"
      ]
    },
    {
      "cell_type": "code",
      "metadata": {
        "colab": {
          "base_uri": "https://localhost:8080/",
          "height": 298
        },
        "id": "8ECSBRR5BVIv",
        "outputId": "d4a4e4dd-11cf-47b7-a869-ac98ebeda18a"
      },
      "source": [
        "class_distribution = distribution_dataset([e[2].item() for e in list(test_dataset)])\n",
        "print(class_distribution)\n",
        "xv = list(class_distribution.keys())\n",
        "yv = list(class_distribution.values())\n",
        "plt.bar(xv, yv, color=\"tab:orange\")"
      ],
      "execution_count": null,
      "outputs": [
        {
          "output_type": "stream",
          "text": [
            "{0: 7890, 1: 6389}\n"
          ],
          "name": "stdout"
        },
        {
          "output_type": "execute_result",
          "data": {
            "text/plain": [
              "<BarContainer object of 2 artists>"
            ]
          },
          "metadata": {
            "tags": []
          },
          "execution_count": 72
        },
        {
          "output_type": "display_data",
          "data": {
            "image/png": "[encoded data removed]",
            "text/plain": [
              "<Figure size 432x288 with 1 Axes>"
            ]
          },
          "metadata": {
            "tags": [],
            "needs_background": "light"
          }
        }
      ]
    },
    {
      "cell_type": "markdown",
      "metadata": {
        "id": "4_9Vgtcy_9cR"
      },
      "source": [
        "## Train"
      ]
    },
    {
      "cell_type": "code",
      "metadata": {
        "colab": {
          "base_uri": "https://localhost:8080/"
        },
        "id": "QzcU0XMR3Yor",
        "outputId": "d26f7b82-ff0e-47e0-ac16-283d94f80f29"
      },
      "source": [
        "model, stats = train_classifier(\n",
        "    model = model,\n",
        "    dataset = train_dataset,\n",
        "    validation_ratio = 0.9,\n",
        "    batch_size = 32,\n",
        "    freeze_embeddings_layer = True,\n",
        "    freeze_encoder_layers = 8,\n",
        "    epochs = 3,\n",
        "    save_checkpoints = True\n",
        ")"
      ],
      "execution_count": null,
      "outputs": [
        {
          "output_type": "stream",
          "text": [
            "There are 1 GPU(s) available.\n",
            "We will use the GPU: Tesla T4\n",
            "\n",
            "======== Epoch 1 / 3 ========\n",
            "Training...\n",
            "  Batch    40  of  1,607.    Elapsed: 0:00:46.\n",
            "  Batch    80  of  1,607.    Elapsed: 0:01:33.\n",
            "  Batch   120  of  1,607.    Elapsed: 0:02:21.\n",
            "  Batch   160  of  1,607.    Elapsed: 0:03:10.\n",
            "  Batch   200  of  1,607.    Elapsed: 0:03:59.\n",
            "  Batch   240  of  1,607.    Elapsed: 0:04:49.\n",
            "  Batch   280  of  1,607.    Elapsed: 0:05:39.\n",
            "  Batch   320  of  1,607.    Elapsed: 0:06:29.\n",
            "  Batch   360  of  1,607.    Elapsed: 0:07:19.\n",
            "  Batch   400  of  1,607.    Elapsed: 0:08:10.\n",
            "  Batch   440  of  1,607.    Elapsed: 0:09:00.\n",
            "  Batch   480  of  1,607.    Elapsed: 0:09:50.\n",
            "  Batch   520  of  1,607.    Elapsed: 0:10:41.\n",
            "  Batch   560  of  1,607.    Elapsed: 0:11:31.\n",
            "  Batch   600  of  1,607.    Elapsed: 0:12:21.\n",
            "  Batch   640  of  1,607.    Elapsed: 0:13:12.\n",
            "  Batch   680  of  1,607.    Elapsed: 0:14:02.\n",
            "  Batch   720  of  1,607.    Elapsed: 0:14:52.\n",
            "  Batch   760  of  1,607.    Elapsed: 0:15:43.\n",
            "  Batch   800  of  1,607.    Elapsed: 0:16:33.\n",
            "  Batch   840  of  1,607.    Elapsed: 0:17:23.\n",
            "  Batch   880  of  1,607.    Elapsed: 0:18:14.\n",
            "  Batch   920  of  1,607.    Elapsed: 0:19:04.\n",
            "  Batch   960  of  1,607.    Elapsed: 0:19:54.\n",
            "  Batch 1,000  of  1,607.    Elapsed: 0:20:44.\n",
            "  Batch 1,040  of  1,607.    Elapsed: 0:21:35.\n",
            "  Batch 1,080  of  1,607.    Elapsed: 0:22:25.\n",
            "  Batch 1,120  of  1,607.    Elapsed: 0:23:15.\n",
            "  Batch 1,160  of  1,607.    Elapsed: 0:24:06.\n",
            "  Batch 1,200  of  1,607.    Elapsed: 0:24:56.\n",
            "  Batch 1,240  of  1,607.    Elapsed: 0:25:46.\n",
            "  Batch 1,280  of  1,607.    Elapsed: 0:26:37.\n",
            "  Batch 1,320  of  1,607.    Elapsed: 0:27:27.\n",
            "  Batch 1,360  of  1,607.    Elapsed: 0:28:18.\n",
            "  Batch 1,400  of  1,607.    Elapsed: 0:29:08.\n",
            "  Batch 1,440  of  1,607.    Elapsed: 0:29:58.\n",
            "  Batch 1,480  of  1,607.    Elapsed: 0:30:49.\n",
            "  Batch 1,520  of  1,607.    Elapsed: 0:31:39.\n",
            "  Batch 1,560  of  1,607.    Elapsed: 0:32:29.\n",
            "  Batch 1,600  of  1,607.    Elapsed: 0:33:20.\n",
            "\n",
            "  Average training loss: 0.30\n",
            "  Training epcoh took: 0:33:28\n",
            "\n",
            "Running Validation...\n",
            "  Accuracy: 0.91\n",
            "  Validation Loss: 0.25\n",
            "  Validation took: 0:02:25\n",
            "\n",
            "======== Epoch 2 / 3 ========\n",
            "Training...\n",
            "  Batch    40  of  1,607.    Elapsed: 0:00:50.\n",
            "  Batch    80  of  1,607.    Elapsed: 0:01:41.\n",
            "  Batch   120  of  1,607.    Elapsed: 0:02:31.\n",
            "  Batch   160  of  1,607.    Elapsed: 0:03:21.\n",
            "  Batch   200  of  1,607.    Elapsed: 0:04:12.\n",
            "  Batch   240  of  1,607.    Elapsed: 0:05:02.\n",
            "  Batch   280  of  1,607.    Elapsed: 0:05:52.\n",
            "  Batch   320  of  1,607.    Elapsed: 0:06:43.\n",
            "  Batch   360  of  1,607.    Elapsed: 0:07:33.\n",
            "  Batch   400  of  1,607.    Elapsed: 0:08:24.\n",
            "  Batch   440  of  1,607.    Elapsed: 0:09:14.\n",
            "  Batch   480  of  1,607.    Elapsed: 0:10:05.\n",
            "  Batch   520  of  1,607.    Elapsed: 0:10:55.\n",
            "  Batch   560  of  1,607.    Elapsed: 0:11:46.\n",
            "  Batch   600  of  1,607.    Elapsed: 0:12:36.\n",
            "  Batch   640  of  1,607.    Elapsed: 0:13:26.\n",
            "  Batch   680  of  1,607.    Elapsed: 0:14:17.\n",
            "  Batch   720  of  1,607.    Elapsed: 0:15:07.\n",
            "  Batch   760  of  1,607.    Elapsed: 0:15:58.\n",
            "  Batch   800  of  1,607.    Elapsed: 0:16:48.\n",
            "  Batch   840  of  1,607.    Elapsed: 0:17:38.\n",
            "  Batch   880  of  1,607.    Elapsed: 0:18:29.\n",
            "  Batch   920  of  1,607.    Elapsed: 0:19:19.\n",
            "  Batch   960  of  1,607.    Elapsed: 0:20:09.\n",
            "  Batch 1,000  of  1,607.    Elapsed: 0:21:00.\n",
            "  Batch 1,040  of  1,607.    Elapsed: 0:21:50.\n",
            "  Batch 1,080  of  1,607.    Elapsed: 0:22:40.\n",
            "  Batch 1,120  of  1,607.    Elapsed: 0:23:31.\n",
            "  Batch 1,160  of  1,607.    Elapsed: 0:24:21.\n",
            "  Batch 1,200  of  1,607.    Elapsed: 0:25:11.\n",
            "  Batch 1,240  of  1,607.    Elapsed: 0:26:02.\n",
            "  Batch 1,280  of  1,607.    Elapsed: 0:26:52.\n",
            "  Batch 1,320  of  1,607.    Elapsed: 0:27:42.\n",
            "  Batch 1,360  of  1,607.    Elapsed: 0:28:33.\n",
            "  Batch 1,400  of  1,607.    Elapsed: 0:29:23.\n",
            "  Batch 1,440  of  1,607.    Elapsed: 0:30:13.\n",
            "  Batch 1,480  of  1,607.    Elapsed: 0:31:04.\n",
            "  Batch 1,520  of  1,607.    Elapsed: 0:31:54.\n",
            "  Batch 1,560  of  1,607.    Elapsed: 0:32:45.\n",
            "  Batch 1,600  of  1,607.    Elapsed: 0:33:35.\n",
            "\n",
            "  Average training loss: 0.24\n",
            "  Training epcoh took: 0:33:43\n",
            "\n",
            "Running Validation...\n",
            "  Accuracy: 0.92\n",
            "  Validation Loss: 0.23\n",
            "  Validation took: 0:02:25\n",
            "\n",
            "======== Epoch 3 / 3 ========\n",
            "Training...\n",
            "  Batch    40  of  1,607.    Elapsed: 0:00:50.\n",
            "  Batch    80  of  1,607.    Elapsed: 0:01:41.\n",
            "  Batch   120  of  1,607.    Elapsed: 0:02:31.\n",
            "  Batch   160  of  1,607.    Elapsed: 0:03:21.\n",
            "  Batch   200  of  1,607.    Elapsed: 0:04:12.\n",
            "  Batch   240  of  1,607.    Elapsed: 0:05:02.\n",
            "  Batch   280  of  1,607.    Elapsed: 0:05:52.\n",
            "  Batch   320  of  1,607.    Elapsed: 0:06:43.\n",
            "  Batch   360  of  1,607.    Elapsed: 0:07:33.\n",
            "  Batch   400  of  1,607.    Elapsed: 0:08:24.\n",
            "  Batch   440  of  1,607.    Elapsed: 0:09:14.\n",
            "  Batch   480  of  1,607.    Elapsed: 0:10:05.\n",
            "  Batch   520  of  1,607.    Elapsed: 0:10:55.\n",
            "  Batch   560  of  1,607.    Elapsed: 0:11:46.\n",
            "  Batch   600  of  1,607.    Elapsed: 0:12:36.\n",
            "  Batch   640  of  1,607.    Elapsed: 0:13:27.\n",
            "  Batch   680  of  1,607.    Elapsed: 0:14:17.\n",
            "  Batch   720  of  1,607.    Elapsed: 0:15:08.\n",
            "  Batch   760  of  1,607.    Elapsed: 0:15:58.\n",
            "  Batch   800  of  1,607.    Elapsed: 0:16:48.\n",
            "  Batch   840  of  1,607.    Elapsed: 0:17:39.\n",
            "  Batch   880  of  1,607.    Elapsed: 0:18:29.\n",
            "  Batch   920  of  1,607.    Elapsed: 0:19:20.\n",
            "  Batch   960  of  1,607.    Elapsed: 0:20:10.\n",
            "  Batch 1,000  of  1,607.    Elapsed: 0:21:01.\n",
            "  Batch 1,040  of  1,607.    Elapsed: 0:21:51.\n",
            "  Batch 1,080  of  1,607.    Elapsed: 0:22:42.\n",
            "  Batch 1,120  of  1,607.    Elapsed: 0:23:32.\n",
            "  Batch 1,160  of  1,607.    Elapsed: 0:24:22.\n",
            "  Batch 1,200  of  1,607.    Elapsed: 0:25:13.\n",
            "  Batch 1,240  of  1,607.    Elapsed: 0:26:03.\n",
            "  Batch 1,280  of  1,607.    Elapsed: 0:26:54.\n",
            "  Batch 1,320  of  1,607.    Elapsed: 0:27:44.\n",
            "  Batch 1,360  of  1,607.    Elapsed: 0:28:34.\n",
            "  Batch 1,400  of  1,607.    Elapsed: 0:29:25.\n",
            "  Batch 1,440  of  1,607.    Elapsed: 0:30:15.\n",
            "  Batch 1,480  of  1,607.    Elapsed: 0:31:06.\n",
            "  Batch 1,520  of  1,607.    Elapsed: 0:31:56.\n",
            "  Batch 1,560  of  1,607.    Elapsed: 0:32:47.\n",
            "  Batch 1,600  of  1,607.    Elapsed: 0:33:37.\n",
            "\n",
            "  Average training loss: 0.22\n",
            "  Training epcoh took: 0:33:45\n",
            "\n",
            "Running Validation...\n",
            "  Accuracy: 0.92\n",
            "  Validation Loss: 0.24\n",
            "  Validation took: 0:02:25\n",
            "\n",
            "Training complete!\n",
            "Total training took 1:48:20 (h:mm:ss)\n"
          ],
          "name": "stdout"
        }
      ]
    },
    {
      "cell_type": "code",
      "metadata": {
        "colab": {
          "base_uri": "https://localhost:8080/"
        },
        "id": "6u_iD9DPUnYg",
        "outputId": "5d42347f-17c3-4264-a3a9-3d602891c513"
      },
      "source": [
        "model_state_dict, _, _, _ = load_checkpoint(\"drive/MyDrive/models/checkpoint_e3_2021-04-23 22:05:44.962969.pt\")\n",
        "model.load_state_dict(model_state_dict)"
      ],
      "execution_count": null,
      "outputs": [
        {
          "output_type": "execute_result",
          "data": {
            "text/plain": [
              "<All keys matched successfully>"
            ]
          },
          "metadata": {
            "tags": []
          },
          "execution_count": 82
        }
      ]
    },
    {
      "cell_type": "markdown",
      "metadata": {
        "id": "XmPslDtRAAlh"
      },
      "source": [
        "## Test"
      ]
    },
    {
      "cell_type": "code",
      "metadata": {
        "colab": {
          "base_uri": "https://localhost:8080/"
        },
        "id": "HzVHRZEXySqO",
        "outputId": "a66245bd-3802-452f-b0ae-de2489d2766b"
      },
      "source": [
        "predictions, true_labels = test_classifier(\n",
        "    model = model,\n",
        "    dataset = test_dataset,\n",
        "    batch_size = 32\n",
        ")"
      ],
      "execution_count": null,
      "outputs": [
        {
          "output_type": "stream",
          "text": [
            "There are 1 GPU(s) available.\n",
            "We will use the GPU: Tesla T4\n",
            "\n",
            "Running Prediction...\n",
            "DONE.\n"
          ],
          "name": "stdout"
        }
      ]
    },
    {
      "cell_type": "markdown",
      "metadata": {
        "id": "BP2iSlOwAGFe"
      },
      "source": [
        "## Performance"
      ]
    },
    {
      "cell_type": "code",
      "metadata": {
        "colab": {
          "base_uri": "https://localhost:8080/"
        },
        "id": "dsmDx5DXIlV4",
        "outputId": "d6aff623-3ca8-4f7c-f397-3e977e15d5f1"
      },
      "source": [
        "print_performance_metrics(predictions, true_labels)"
      ],
      "execution_count": null,
      "outputs": [
        {
          "output_type": "stream",
          "text": [
            "\n",
            "Confusion Matrix\n",
            "Rows - Actual\n",
            "Columns - Predicted\n",
            "\n",
            "    |      0     1 | \n",
            "---------------------------\n",
            "  0 |  51.53  3.73 |  55.26\n",
            "  1 |   4.61 40.14 |  44.74\n",
            "---------------------------\n",
            "    |  56.14 43.86 | \n",
            "\n",
            "Majority Class                     :  0.5526\n",
            "Accuracy                           :  0.9167\n",
            "\n",
            "Sensitivity, Recall                :  0.9326\n",
            "Specificity                        :  0.8970\n",
            "Positive Predictive, Precision     :  0.9179\n",
            "Negative Predictive                :  0.9151\n",
            "F1 Score                           :  0.9252\n"
          ],
          "name": "stdout"
        }
      ]
    },
    {
      "cell_type": "markdown",
      "metadata": {
        "id": "YSanatpqKcOz"
      },
      "source": [
        "**Saving model**"
      ]
    },
    {
      "cell_type": "code",
      "metadata": {
        "id": "aGNAQXvpzH2j"
      },
      "source": [
        "save_model(\"drive/MyDrive/models/binary_5_nostop_400.pt\", model)"
      ],
      "execution_count": null,
      "outputs": []
    },
    {
      "cell_type": "markdown",
      "metadata": {
        "id": "vwFfPKXW-eVr"
      },
      "source": [
        "# Multiclass Eng classification"
      ]
    },
    {
      "cell_type": "markdown",
      "metadata": {
        "id": "HPxOSL2D_N4R"
      },
      "source": [
        "## Setup"
      ]
    },
    {
      "cell_type": "code",
      "metadata": {
        "id": "Gkb5Ox29KEkS"
      },
      "source": [
        "multiclass_data = pd.read_csv('drive/MyDrive/Data/Eng/Multiclass/data.csv')\n",
        "x,y = run_dataset_preparation(multiclass_data, \"eng\", remove_stopwords=False, do_lemmatization=True)"
      ],
      "execution_count": null,
      "outputs": []
    },
    {
      "cell_type": "markdown",
      "metadata": {
        "id": "d7qPZcQ3dRS9"
      },
      "source": [
        "Text length distribution"
      ]
    },
    {
      "cell_type": "code",
      "metadata": {
        "colab": {
          "base_uri": "https://localhost:8080/",
          "height": 318
        },
        "id": "NnmkzmvFdM3A",
        "outputId": "b6c1c988-bdf4-4bd2-c0bd-05d7f75f6afd"
      },
      "source": [
        "length_distribution = distribution_dataset([len(e) for e in list(x.values)])\n",
        "print(length_distribution)\n",
        "xv = list(length_distribution.keys())\n",
        "yv = list(length_distribution.values())\n",
        "plt.bar(xv, yv, color=\"tab:blue\")\n",
        "axes = plt.gca()\n",
        "axes.set_xlim([0,1000])"
      ],
      "execution_count": null,
      "outputs": [
        {
          "output_type": "stream",
          "text": [
            "{98: 251, 31: 410, 118: 238, 54: 400, 76: 304, 23: 450, 63: 320, 50: 346, 122: 196, 40: 410, 58: 337, 25: 420, 96: 280, 37: 396, 97: 286, 29: 455, 104: 248, 119: 196, 65: 325, 108: 229, 115: 244, 120: 211, 92: 268, 112: 244, 36: 432, 22: 406, 42: 410, 71: 326, 51: 347, 113: 231, 111: 231, 105: 249, 86: 270, 39: 447, 45: 349, 57: 369, 46: 396, 117: 223, 69: 336, 124: 180, 83: 274, 88: 274, 100: 272, 27: 442, 61: 349, 94: 263, 62: 340, 59: 342, 99: 278, 73: 294, 107: 221, 116: 245, 75: 251, 114: 232, 102: 241, 85: 276, 43: 403, 89: 252, 78: 291, 35: 428, 77: 279, 84: 268, 90: 255, 87: 237, 82: 275, 106: 252, 12: 275, 56: 358, 67: 317, 109: 242, 95: 270, 123: 203, 49: 395, 79: 299, 55: 381, 64: 382, 11: 312, 33: 450, 19: 370, 127: 144, 125: 177, 28: 454, 16: 415, 53: 361, 44: 428, 68: 297, 74: 305, 48: 373, 93: 264, 80: 285, 60: 347, 32: 429, 24: 453, 101: 212, 70: 318, 30: 455, 72: 282, 103: 252, 132: 122, 121: 209, 38: 431, 34: 415, 17: 393, 110: 259, 66: 322, 81: 278, 41: 372, 91: 253, 52: 360, 47: 413, 10: 222, 13: 335, 21: 437, 20: 417, 128: 122, 26: 398, 15: 301, 18: 368, 8: 207, 126: 161, 14: 330, 129: 129, 130: 124, 9: 239, 6: 140, 131: 133, 134: 117, 135: 132, 133: 120, 137: 113, 136: 108, 138: 125, 4: 139, 141: 116, 0: 184, 140: 125, 152: 105, 158: 89, 7: 156, 434: 11, 3: 137, 324: 40, 551: 6, 155: 104, 196: 64, 153: 92, 431: 8, 150: 102, 166: 90, 195: 70, 143: 112, 224: 56, 194: 71, 453: 9, 247: 40, 266: 40, 169: 94, 214: 66, 163: 80, 145: 118, 292: 36, 173: 85, 257: 49, 156: 95, 5: 138, 356: 25, 215: 56, 200: 68, 160: 103, 172: 71, 168: 69, 207: 58, 219: 58, 244: 54, 264: 51, 254: 46, 180: 88, 459: 11, 198: 68, 467: 4, 157: 89, 1212: 1, 422: 14, 144: 118, 355: 22, 482: 8, 515: 8, 508: 7, 283: 41, 543: 6, 980: 1, 425: 12, 285: 35, 148: 111, 311: 32, 462: 9, 258: 38, 255: 47, 1711: 1, 540: 9, 327: 28, 154: 99, 186: 61, 146: 88, 161: 79, 714: 4, 162: 91, 296: 31, 232: 46, 813: 4, 204: 64, 273: 43, 217: 44, 189: 75, 337: 23, 245: 62, 185: 77, 463: 7, 426: 7, 248: 58, 206: 50, 187: 71, 210: 51, 238: 52, 192: 78, 159: 82, 226: 47, 139: 130, 270: 38, 182: 84, 236: 48, 363: 13, 234: 51, 183: 85, 362: 13, 277: 45, 149: 88, 566: 7, 1536: 1, 352: 20, 1039: 1, 689: 9, 1063: 2, 276: 35, 176: 83, 897: 7, 272: 36, 235: 62, 547: 5, 732: 3, 442: 19, 223: 49, 281: 35, 414: 12, 351: 38, 203: 60, 260: 30, 218: 44, 181: 66, 197: 68, 652: 2, 165: 83, 561: 7, 393: 18, 399: 9, 212: 75, 202: 51, 220: 45, 299: 36, 243: 48, 365: 14, 286: 31, 227: 45, 413: 13, 294: 37, 354: 16, 222: 56, 307: 32, 178: 70, 390: 9, 729: 2, 558: 4, 988: 2, 433: 8, 280: 39, 491: 7, 499: 7, 487: 5, 369: 17, 249: 55, 541: 5, 306: 40, 211: 66, 501: 8, 278: 34, 472: 7, 359: 19, 284: 41, 585: 5, 237: 45, 382: 12, 334: 36, 240: 45, 730: 3, 424: 9, 199: 53, 2: 70, 831: 2, 179: 87, 230: 53, 239: 56, 298: 36, 367: 9, 313: 32, 610: 4, 314: 31, 229: 54, 341: 34, 423: 9, 319: 26, 1471: 2, 403: 11, 251: 35, 193: 65, 919: 1, 507: 7, 400: 15, 338: 34, 484: 11, 654: 4, 552: 7, 332: 27, 385: 17, 288: 24, 151: 94, 381: 7, 201: 56, 1151: 1, 1379: 2, 177: 82, 329: 35, 1627: 1, 570: 9, 520: 6, 417: 7, 175: 70, 749: 3, 665: 4, 250: 49, 300: 37, 371: 15, 716: 1, 1505: 2, 1209: 1, 584: 6, 310: 27, 375: 14, 358: 11, 597: 7, 475: 12, 190: 75, 305: 38, 724: 4, 213: 57, 392: 16, 389: 10, 842: 3, 1256: 2, 644: 4, 760: 2, 755: 2, 548: 7, 2059: 1, 142: 107, 420: 12, 340: 42, 1: 26, 343: 30, 398: 12, 460: 3, 538: 5, 719: 3, 588: 8, 791: 5, 415: 11, 188: 67, 333: 42, 469: 6, 959: 2, 614: 3, 441: 6, 263: 36, 275: 45, 613: 4, 521: 7, 282: 45, 170: 95, 336: 30, 745: 5, 559: 11, 958: 2, 1402: 1, 411: 12, 636: 6, 856: 1, 191: 57, 328: 28, 228: 52, 147: 97, 1001: 1, 435: 8, 1399: 1, 473: 10, 474: 15, 397: 8, 302: 40, 641: 3, 309: 32, 167: 111, 376: 13, 205: 66, 539: 5, 744: 5, 911: 2, 1612: 1, 965: 2, 712: 6, 289: 38, 709: 1, 252: 42, 1851: 1, 2321: 1, 655: 5, 883: 2, 339: 43, 436: 12, 637: 4, 886: 4, 408: 10, 694: 6, 209: 59, 184: 73, 490: 8, 513: 10, 1017: 3, 349: 27, 631: 5, 876: 3, 975: 4, 542: 5, 516: 4, 347: 24, 639: 4, 350: 20, 353: 22, 345: 17, 440: 10, 164: 82, 454: 10, 493: 8, 256: 29, 384: 13, 404: 5, 208: 54, 387: 7, 470: 2, 246: 32, 366: 9, 268: 43, 524: 3, 297: 45, 594: 9, 416: 20, 233: 46, 370: 15, 993: 2, 489: 9, 518: 8, 688: 5, 653: 4, 544: 10, 624: 6, 701: 2, 976: 2, 271: 55, 582: 3, 2018: 1, 259: 49, 514: 7, 625: 4, 325: 29, 344: 43, 884: 1, 955: 3, 1047: 1, 225: 51, 427: 12, 330: 24, 221: 53, 395: 9, 545: 9, 695: 4, 2683: 2, 1913: 1, 2114: 1, 522: 6, 757: 4, 667: 3, 770: 4, 1531: 1, 1198: 2, 452: 5, 1191: 1, 575: 4, 445: 8, 651: 7, 428: 10, 2060: 1, 663: 6, 262: 62, 1147: 3, 599: 3, 611: 5, 1060: 3, 765: 4, 322: 45, 828: 2, 318: 26, 290: 37, 308: 29, 568: 4, 746: 4, 394: 12, 360: 17, 525: 7, 446: 10, 1303: 3, 1686: 2, 1461: 2, 274: 43, 326: 27, 646: 2, 1792: 2, 531: 8, 1246: 1, 1430: 3, 731: 4, 456: 9, 2628: 1, 373: 11, 171: 89, 743: 2, 753: 4, 438: 13, 949: 1, 241: 44, 751: 3, 323: 28, 532: 7, 650: 4, 766: 4, 348: 43, 771: 2, 1968: 2, 1052: 4, 661: 3, 830: 2, 447: 11, 811: 1, 1901: 1, 1386: 1, 2323: 2, 2528: 1, 2376: 1, 580: 4, 1636: 1, 479: 5, 471: 4, 391: 7, 519: 6, 715: 4, 1002: 2, 386: 9, 335: 54, 623: 2, 379: 14, 494: 6, 684: 8, 754: 3, 878: 2, 361: 10, 231: 38, 1172: 6, 929: 2, 1011: 3, 500: 8, 174: 79, 342: 23, 2627: 1, 2149: 1, 1201: 2, 892: 2, 812: 2, 450: 7, 517: 4, 504: 5, 948: 2, 605: 3, 832: 4, 672: 6, 827: 1, 267: 40, 947: 1, 1000: 1, 421: 8, 279: 40, 702: 5, 691: 5, 419: 11, 1615: 1, 364: 8, 346: 21, 312: 30, 295: 31, 509: 5, 837: 4, 1284: 2, 455: 7, 448: 6, 529: 7, 969: 4, 583: 5, 1545: 1, 492: 9, 1484: 2, 483: 6, 648: 3, 721: 1, 2609: 1, 824: 1, 612: 5, 261: 50, 216: 46, 374: 8, 512: 3, 1090: 2, 269: 41, 498: 8, 530: 6, 728: 2, 737: 4, 1563: 2, 849: 3, 303: 38, 1030: 2, 556: 7, 783: 2, 589: 9, 887: 5, 496: 7, 2348: 1, 2793: 1, 634: 7, 793: 3, 595: 4, 2069: 1, 301: 37, 1236: 2, 502: 9, 380: 8, 1157: 1, 914: 3, 981: 1, 935: 3, 2276: 1, 526: 3, 603: 8, 304: 28, 535: 6, 1291: 1, 773: 3, 1190: 1, 372: 12, 677: 4, 565: 10, 536: 4, 523: 5, 796: 3, 1074: 1, 902: 1, 412: 11, 823: 4, 681: 5, 242: 35, 1182: 2, 840: 5, 1122: 1, 1843: 1, 602: 6, 533: 6, 699: 6, 609: 5, 1502: 1, 1055: 2, 838: 3, 839: 4, 942: 1, 626: 6, 466: 10, 1593: 2, 563: 6, 798: 2, 396: 19, 443: 8, 810: 2, 675: 5, 1556: 1, 528: 2, 685: 1, 1046: 2, 1707: 1, 2462: 1, 687: 4, 429: 12, 632: 3, 722: 5, 656: 2, 1136: 1, 291: 34, 1603: 1, 985: 2, 815: 5, 961: 3, 1066: 1, 2241: 1, 1717: 2, 478: 7, 601: 5, 368: 12, 748: 6, 963: 3, 903: 1, 1194: 1, 317: 32, 1389: 2, 2778: 1, 1013: 3, 449: 11, 2573: 1, 708: 2, 775: 2, 293: 32, 402: 6, 2209: 1, 717: 5, 253: 47, 401: 15, 505: 7, 405: 9, 679: 3, 1638: 1, 480: 5, 995: 3, 3324: 1, 592: 5, 1139: 2, 686: 2, 2578: 1, 596: 5, 1213: 2, 407: 3, 1463: 3, 464: 6, 633: 6, 608: 5, 316: 25, 698: 1, 606: 3, 377: 10, 797: 1, 972: 2, 933: 2, 705: 3, 788: 2, 1010: 2, 1779: 1, 593: 4, 1419: 1, 2753: 1, 615: 5, 1598: 1, 645: 2, 885: 2, 700: 5, 574: 7, 1064: 4, 1129: 1, 1904: 1, 1987: 1, 1731: 2, 1527: 2, 936: 2, 1408: 1, 2078: 1, 331: 36, 759: 2, 973: 2, 894: 3, 1005: 4, 2176: 1, 569: 7, 607: 4, 910: 4, 835: 4, 321: 20, 495: 2, 1121: 2, 1398: 1, 357: 11, 1645: 1, 800: 5, 1552: 1, 794: 2, 1094: 4, 388: 8, 1075: 1, 736: 2, 1037: 4, 833: 3, 1320: 1, 1167: 1, 572: 4, 1219: 2, 792: 3, 476: 13, 378: 10, 3647: 1, 439: 9, 1307: 1, 5274: 1, 418: 8, 287: 27, 1684: 1, 1474: 1, 926: 1, 898: 1, 1220: 2, 3422: 1, 437: 7, 640: 6, 718: 1, 1318: 1, 725: 2, 802: 2, 1924: 3, 1858: 1, 3293: 1, 2263: 2, 2430: 1, 713: 2, 265: 44, 409: 9, 888: 5, 1650: 1, 1173: 1, 1313: 2, 970: 3, 1340: 1, 2442: 1, 6291: 1, 1629: 2, 1783: 1, 2295: 2, 2553: 1, 4186: 1, 4730: 1, 7405: 1, 2072: 1, 7208: 1, 630: 2, 576: 6, 647: 5, 1861: 2, 635: 5, 557: 2, 862: 4, 889: 1, 481: 8, 680: 3, 320: 32, 1061: 3, 628: 4, 867: 4, 1235: 1, 2884: 2, 649: 5, 727: 3, 1800: 1, 977: 1, 1177: 1, 1076: 2, 1458: 1, 2028: 1, 1384: 1, 1764: 1, 315: 31, 762: 3, 451: 7, 854: 3, 2070: 1, 510: 3, 598: 5, 750: 1, 1772: 1, 4703: 1, 546: 6, 6602: 1, 622: 4, 620: 1, 904: 2, 3508: 1, 577: 6, 763: 3, 818: 3, 1288: 3, 1296: 2, 2271: 1, 1083: 4, 4926: 1, 2055: 1, 1105: 1, 2692: 1, 430: 6, 503: 7, 457: 7, 560: 6, 2144: 1, 1569: 1, 506: 7, 921: 1, 1102: 3, 643: 5, 618: 1, 756: 3, 858: 1, 769: 1, 1096: 1, 1193: 1, 562: 3, 673: 4, 410: 5, 2592: 1, 1024: 2, 1150: 1, 3151: 1, 805: 2, 784: 4, 1293: 1, 458: 9, 488: 9, 1203: 1, 534: 4, 683: 1, 1062: 2, 971: 1, 1054: 1, 857: 2, 1260: 1, 1993: 2, 1204: 2, 600: 2, 468: 5, 1045: 2, 2283: 1, 591: 4, 860: 3, 1084: 1, 852: 2, 1107: 2, 1215: 2, 444: 10, 882: 2, 1300: 2, 1308: 1, 1142: 1, 761: 4, 581: 3, 578: 8, 1206: 1, 564: 4, 1743: 1, 1964: 2, 669: 1, 587: 2, 621: 3, 826: 3, 1038: 2, 1723: 1, 1514: 1, 432: 4, 1451: 3, 1124: 1, 477: 1, 814: 5, 2544: 1, 664: 5, 3374: 1, 662: 3, 511: 5, 847: 2, 527: 5, 3102: 1, 846: 2, 693: 6, 1026: 1, 861: 3, 671: 5, 934: 2, 1187: 1, 1664: 1, 1059: 3, 787: 4, 1827: 1, 806: 1, 778: 4, 1576: 1, 1493: 1, 808: 3, 642: 2, 1899: 1, 1254: 1, 4019: 1, 768: 2, 1330: 1, 1290: 1, 590: 3, 629: 5, 711: 5, 461: 9, 2695: 1, 1874: 1, 890: 2, 957: 3, 1259: 1, 1262: 1, 2022: 1, 1095: 2, 1366: 1, 659: 1, 1814: 1, 2210: 1, 1078: 1, 2046: 1, 383: 7, 758: 4, 710: 4, 990: 1, 1544: 1, 666: 4, 1721: 1, 579: 3, 2342: 1, 2365: 1, 917: 3, 2233: 1, 1357: 1, 825: 3, 916: 1, 1057: 2, 1702: 1, 1118: 2, 1186: 1, 2145: 1, 465: 7, 817: 3, 676: 5, 866: 3, 1103: 1, 1934: 1, 549: 4, 816: 5, 1750: 1, 1675: 1, 1120: 1, 734: 1, 1021: 2, 809: 3, 2477: 1, 537: 7, 841: 1, 1658: 1, 1722: 1, 619: 4, 1082: 1, 1077: 1, 848: 3, 795: 2, 1183: 1, 1019: 1, 2353: 1, 1856: 1, 900: 2, 1281: 1, 2344: 1, 3492: 1, 2947: 1, 1624: 1, 1140: 3, 1364: 1, 573: 5, 7484: 1, 1396: 1, 723: 2, 726: 1, 1251: 1, 1774: 1, 1375: 1, 944: 1, 733: 4, 485: 5, 2821: 1, 1200: 1, 1793: 1, 1115: 1, 1043: 2, 776: 2, 3868: 1, 2599: 1, 1347: 2, 915: 3, 1585: 1, 406: 4, 1025: 1, 1332: 1, 1316: 1, 1423: 2, 497: 4, 1050: 1, 978: 2, 1790: 1, 1131: 3, 1175: 2, 1455: 1, 764: 3, 1034: 1, 550: 5, 1040: 1, 829: 2, 740: 2, 2648: 1, 555: 4, 864: 1, 964: 1, 821: 2, 1314: 1, 893: 1, 657: 3, 2933: 1, 2530: 1, 1382: 1, 2071: 1, 873: 1, 1068: 1, 1956: 1, 3030: 1, 865: 1, 994: 1, 1406: 1, 912: 2, 752: 2, 1229: 2, 690: 2, 1339: 2, 1973: 1, 616: 2, 871: 1, 586: 5, 1170: 1, 907: 1, 3892: 1, 2370: 1, 4360: 1, 1334: 1, 1745: 2, 2117: 1, 670: 3, 1238: 1, 696: 2, 1329: 1, 1454: 1, 567: 4, 905: 3, 909: 2, 790: 3, 1088: 1, 1838: 1, 2749: 1, 2877: 1, 3536: 1, 5046: 1, 1067: 1, 571: 2, 697: 3, 735: 2, 2517: 1, 843: 1, 1482: 1, 1559: 2, 706: 2, 1516: 1, 2510: 1, 2293: 1, 2161: 1, 2475: 1, 1158: 1, 1586: 1, 1306: 1, 987: 2, 3967: 1, 782: 3, 2347: 1, 851: 3, 738: 2, 2742: 1, 1791: 1, 604: 2, 3266: 1, 1301: 2, 1467: 1, 1101: 2, 899: 1, 1114: 1, 660: 3, 553: 5, 1072: 1, 1049: 1, 879: 1, 1977: 1, 1468: 1, 1824: 1, 2157: 1, 2242: 1, 1117: 1, 1138: 1, 2270: 1, 2879: 1, 803: 1, 1156: 1, 3444: 1, 3039: 1, 2285: 1, 1250: 1, 1208: 1, 1097: 2, 1713: 1, 2386: 1, 1016: 1, 6446: 1, 1699: 1, 872: 3, 1128: 1, 991: 3, 2008: 1, 1282: 1, 627: 2, 1574: 1, 2425: 2, 807: 3, 780: 1, 951: 1, 1597: 1, 3250: 1, 3616: 1, 2458: 1, 1436: 2, 2391: 1, 820: 1, 1616: 1, 1459: 1, 2905: 1, 1239: 2, 2290: 1, 1921: 2, 2875: 2, 5507: 1, 6323: 1, 986: 1, 2487: 1, 1683: 1, 1677: 2, 1714: 2, 1494: 1, 1534: 1, 1427: 1, 1056: 1, 1271: 2, 1875: 1, 1029: 1, 1371: 1, 1287: 1, 952: 4, 1087: 1, 2744: 1, 4912: 1, 1257: 1, 1230: 1, 1092: 1, 674: 4, 874: 2, 2222: 1, 850: 2, 1781: 1, 1873: 1, 1012: 3, 1720: 1, 954: 2, 2541: 1, 863: 1, 1137: 1, 1560: 1, 2168: 1, 1472: 2, 1380: 1, 927: 1, 925: 1, 1362: 1, 1337: 2, 1196: 1, 1168: 1, 1634: 1, 781: 1, 1164: 1, 1571: 1, 1414: 1, 875: 1, 3079: 1, 2282: 1, 4639: 1, 2882: 1, 1036: 1, 1503: 1, 1355: 1, 1244: 1, 1112: 1, 3065: 1, 870: 1, 1321: 1, 1932: 1, 4135: 1, 1755: 1, 1960: 2, 5482: 1, 3666: 1, 1008: 1, 1226: 1, 1231: 1, 2734: 1, 3215: 1, 2063: 1, 3470: 1, 922: 1, 1373: 1, 3200: 1, 1628: 1, 1079: 2, 920: 1, 932: 1, 974: 1, 2361: 1, 1936: 1, 3714: 1, 3184: 1, 2707: 1, 1891: 1, 1704: 1, 5774: 1, 1397: 1, 1304: 1, 1044: 1, 1051: 2, 1310: 1, 554: 4, 1671: 1, 1199: 1, 1490: 1, 703: 2, 1004: 1, 658: 2, 2153: 1, 1145: 1, 1943: 1, 2684: 1, 786: 2, 3904: 1, 836: 1, 1319: 1, 928: 1, 895: 2, 1169: 1, 1028: 1, 859: 1, 999: 2, 779: 1, 2614: 1, 924: 1, 1225: 1, 1385: 2, 2987: 1, 1477: 1, 2478: 1, 891: 1, 2085: 1, 720: 1, 960: 2, 801: 2, 1283: 1, 2229: 1, 1188: 1, 2302: 1, 1801: 1, 2004: 1, 1431: 1, 8080: 1, 1620: 1, 2089: 1, 1130: 2, 1180: 2, 1348: 1, 1995: 1, 1460: 2, 1267: 1, 1508: 1, 834: 1, 2012: 1, 2440: 1, 1018: 1, 2360: 1, 3226: 1, 1633: 1, 1879: 1, 1073: 2, 1058: 1, 2611: 1, 739: 1, 3196: 1, 2002: 1, 799: 1, 1093: 1, 1429: 1, 2872: 1, 1841: 1, 880: 1, 2615: 1, 3095: 1, 3379: 1, 1123: 1, 2309: 1, 1517: 1, 1035: 1, 1192: 1, 2555: 1, 1275: 1, 1637: 1, 1091: 1, 1223: 1, 1243: 2, 1618: 1, 2047: 1, 1614: 1, 2864: 1, 2106: 1, 3366: 1, 3222: 1, 2067: 1, 3313: 1, 3287: 1, 2801: 1, 1773: 1, 668: 1, 2498: 1, 2761: 1, 2239: 1, 1412: 1, 1726: 1, 2504: 1, 1641: 1, 2211: 1, 3020: 1, 2985: 1, 1247: 1, 2818: 1, 2597: 1, 1926: 1, 1265: 1, 1312: 1, 747: 1, 3119: 1, 1333: 1, 1744: 1, 1735: 1, 1391: 1, 1507: 1, 2273: 1, 2800: 1, 1022: 1, 2316: 1, 1069: 1, 2480: 1, 2417: 1, 1207: 1, 767: 1, 2715: 1, 3207: 1, 1109: 1, 1148: 1, 1227: 1}\n"
          ],
          "name": "stdout"
        },
        {
          "output_type": "execute_result",
          "data": {
            "text/plain": [
              "(0.0, 1000.0)"
            ]
          },
          "metadata": {
            "tags": []
          },
          "execution_count": 86
        },
        {
          "output_type": "display_data",
          "data": {
            "image/png": "[encoded data removed]",
            "text/plain": [
              "<Figure size 432x288 with 1 Axes>"
            ]
          },
          "metadata": {
            "tags": [],
            "needs_background": "light"
          }
        }
      ]
    },
    {
      "cell_type": "code",
      "metadata": {
        "colab": {
          "base_uri": "https://localhost:8080/"
        },
        "id": "d3AadU9IHrXw",
        "outputId": "2ee13c13-bd36-496d-e42a-725c7e8f46c2"
      },
      "source": [
        "max_length = 400\n",
        "data = pd.DataFrame()\n",
        "data[\"x\"] = x\n",
        "data[\"y\"] = y\n",
        "data_length_filtered = data.loc[data[\"x\"].str.len() <= max_length]\n",
        "print(round(100 * (1.0 - (len(data_length_filtered) / len(data))), 2), \"%\", \"filtered out because of text length\")\n",
        "x,y = data_length_filtered[\"x\"], data_length_filtered[\"y\"]\n",
        "x.reset_index(drop=True, inplace=True)\n",
        "y.reset_index(drop=True, inplace=True)"
      ],
      "execution_count": null,
      "outputs": [
        {
          "output_type": "stream",
          "text": [
            "5.55 % filtered out because of text length\n"
          ],
          "name": "stdout"
        }
      ]
    },
    {
      "cell_type": "code",
      "metadata": {
        "colab": {
          "base_uri": "https://localhost:8080/"
        },
        "id": "1qQq7zVFKQup",
        "outputId": "9c3e7eb1-2479-412b-9c66-9f1a01ddb71e"
      },
      "source": [
        "model = setup_classifier(\n",
        "    model_name = \"drive/MyDrive/classifiers/bert/CroSloEngual\",\n",
        "    num_labels = 6\n",
        ")\n",
        "\n",
        "dataset = setup_data(\n",
        "    model_name = \"drive/MyDrive/classifiers/bert/CroSloEngual\",\n",
        "    x = x,\n",
        "    y = y,\n",
        "    do_lower_case = False,\n",
        "    max_length = max_length\n",
        ")\n",
        "\n",
        "test_ratio = 0.8\n",
        "train_size = int(test_ratio * len(dataset))\n",
        "test_size = len(dataset) - train_size\n",
        "\n",
        "train_dataset, test_dataset = random_split(dataset, [train_size, test_size])"
      ],
      "execution_count": null,
      "outputs": [
        {
          "output_type": "stream",
          "text": [
            "Some weights of the model checkpoint at drive/MyDrive/classifiers/bert/CroSloEngual were not used when initializing BertForSequenceClassification: ['cls.predictions.bias', 'cls.predictions.transform.dense.weight', 'cls.predictions.transform.dense.bias', 'cls.predictions.transform.LayerNorm.weight', 'cls.predictions.transform.LayerNorm.bias', 'cls.predictions.decoder.weight', 'cls.seq_relationship.weight', 'cls.seq_relationship.bias']\n",
            "- This IS expected if you are initializing BertForSequenceClassification from the checkpoint of a model trained on another task or with another architecture (e.g. initializing a BertForSequenceClassification model from a BertForPreTraining model).\n",
            "- This IS NOT expected if you are initializing BertForSequenceClassification from the checkpoint of a model that you expect to be exactly identical (initializing a BertForSequenceClassification model from a BertForSequenceClassification model).\n",
            "Some weights of BertForSequenceClassification were not initialized from the model checkpoint at drive/MyDrive/classifiers/bert/CroSloEngual and are newly initialized: ['classifier.weight', 'classifier.bias']\n",
            "You should probably TRAIN this model on a down-stream task to be able to use it for predictions and inference.\n"
          ],
          "name": "stderr"
        }
      ]
    },
    {
      "cell_type": "markdown",
      "metadata": {
        "id": "-gBS2fvo8_Z_"
      },
      "source": [
        "## Train dataset class distribution"
      ]
    },
    {
      "cell_type": "code",
      "metadata": {
        "colab": {
          "base_uri": "https://localhost:8080/",
          "height": 298
        },
        "id": "C1Da6VhT5WrN",
        "outputId": "10971d10-9e8b-4835-c7a7-e8c4b92520b5"
      },
      "source": [
        "class_distribution = distribution_dataset([e[2].item() for e in list(train_dataset)])\n",
        "print(class_distribution)\n",
        "xv = list(class_distribution.keys())\n",
        "yv = list(class_distribution.values())\n",
        "plt.bar(xv, yv, color=\"tab:blue\")"
      ],
      "execution_count": null,
      "outputs": [
        {
          "output_type": "stream",
          "text": [
            "{0: 31766, 2: 5179, 1: 1073, 4: 537, 3: 3035, 5: 280}\n"
          ],
          "name": "stdout"
        },
        {
          "output_type": "execute_result",
          "data": {
            "text/plain": [
              "<BarContainer object of 6 artists>"
            ]
          },
          "metadata": {
            "tags": []
          },
          "execution_count": 89
        },
        {
          "output_type": "display_data",
          "data": {
            "image/png": "[encoded data removed]",
            "text/plain": [
              "<Figure size 432x288 with 1 Axes>"
            ]
          },
          "metadata": {
            "tags": [],
            "needs_background": "light"
          }
        }
      ]
    },
    {
      "cell_type": "markdown",
      "metadata": {
        "id": "_jaGOmPe9N0D"
      },
      "source": [
        "## Test dataset class distribution"
      ]
    },
    {
      "cell_type": "code",
      "metadata": {
        "colab": {
          "base_uri": "https://localhost:8080/",
          "height": 298
        },
        "id": "kAXSxdRI8a9i",
        "outputId": "a8efe5dc-e69c-4391-f289-bceea0f43ced"
      },
      "source": [
        "class_distribution = distribution_dataset([e[2].item() for e in list(test_dataset)])\n",
        "print(class_distribution)\n",
        "xv = list(class_distribution.keys())\n",
        "yv = list(class_distribution.values())\n",
        "plt.bar(xv, yv, color=\"tab:orange\")"
      ],
      "execution_count": null,
      "outputs": [
        {
          "output_type": "stream",
          "text": [
            "{0: 7989, 5: 81, 3: 756, 2: 1268, 1: 258, 4: 116}\n"
          ],
          "name": "stdout"
        },
        {
          "output_type": "execute_result",
          "data": {
            "text/plain": [
              "<BarContainer object of 6 artists>"
            ]
          },
          "metadata": {
            "tags": []
          },
          "execution_count": 90
        },
        {
          "output_type": "display_data",
          "data": {
            "image/png": "[encoded data removed]",
            "text/plain": [
              "<Figure size 432x288 with 1 Axes>"
            ]
          },
          "metadata": {
            "tags": [],
            "needs_background": "light"
          }
        }
      ]
    },
    {
      "cell_type": "markdown",
      "metadata": {
        "id": "PabB9eGV--Xz"
      },
      "source": [
        "## Train"
      ]
    },
    {
      "cell_type": "code",
      "metadata": {
        "colab": {
          "base_uri": "https://localhost:8080/"
        },
        "id": "rJcywstmfibI",
        "outputId": "ae742c03-9396-4847-911a-7920111a170b"
      },
      "source": [
        "model, stats = train_classifier(\n",
        "    model = model,\n",
        "    dataset = train_dataset,\n",
        "    validation_ratio = 0.9,\n",
        "    batch_size = 32,\n",
        "    freeze_embeddings_layer = True,\n",
        "    freeze_encoder_layers = 8,\n",
        "    epochs = 3,\n",
        "    save_checkpoints = True\n",
        ")"
      ],
      "execution_count": null,
      "outputs": [
        {
          "output_type": "stream",
          "text": [
            "There are 1 GPU(s) available.\n",
            "We will use the GPU: Tesla T4\n",
            "\n",
            "======== Epoch 1 / 3 ========\n",
            "Training...\n",
            "  Batch    40  of  1,178.    Elapsed: 0:00:46.\n",
            "  Batch    80  of  1,178.    Elapsed: 0:01:33.\n",
            "  Batch   120  of  1,178.    Elapsed: 0:02:21.\n",
            "  Batch   160  of  1,178.    Elapsed: 0:03:10.\n",
            "  Batch   200  of  1,178.    Elapsed: 0:03:59.\n",
            "  Batch   240  of  1,178.    Elapsed: 0:04:49.\n",
            "  Batch   280  of  1,178.    Elapsed: 0:05:39.\n",
            "  Batch   320  of  1,178.    Elapsed: 0:06:29.\n",
            "  Batch   360  of  1,178.    Elapsed: 0:07:20.\n",
            "  Batch   400  of  1,178.    Elapsed: 0:08:10.\n",
            "  Batch   440  of  1,178.    Elapsed: 0:09:00.\n",
            "  Batch   480  of  1,178.    Elapsed: 0:09:51.\n",
            "  Batch   520  of  1,178.    Elapsed: 0:10:41.\n",
            "  Batch   560  of  1,178.    Elapsed: 0:11:31.\n",
            "  Batch   600  of  1,178.    Elapsed: 0:12:22.\n",
            "  Batch   640  of  1,178.    Elapsed: 0:13:12.\n",
            "  Batch   680  of  1,178.    Elapsed: 0:14:03.\n",
            "  Batch   720  of  1,178.    Elapsed: 0:14:53.\n",
            "  Batch   760  of  1,178.    Elapsed: 0:15:43.\n",
            "  Batch   800  of  1,178.    Elapsed: 0:16:34.\n",
            "  Batch   840  of  1,178.    Elapsed: 0:17:24.\n",
            "  Batch   880  of  1,178.    Elapsed: 0:18:14.\n",
            "  Batch   920  of  1,178.    Elapsed: 0:19:05.\n",
            "  Batch   960  of  1,178.    Elapsed: 0:19:55.\n",
            "  Batch 1,000  of  1,178.    Elapsed: 0:20:45.\n",
            "  Batch 1,040  of  1,178.    Elapsed: 0:21:36.\n",
            "  Batch 1,080  of  1,178.    Elapsed: 0:22:26.\n",
            "  Batch 1,120  of  1,178.    Elapsed: 0:23:16.\n",
            "  Batch 1,160  of  1,178.    Elapsed: 0:24:07.\n",
            "\n",
            "  Average training loss: 0.27\n",
            "  Training epcoh took: 0:24:29\n",
            "\n",
            "Running Validation...\n",
            "  Accuracy: 0.95\n",
            "  Validation Loss: 0.17\n",
            "  Validation took: 0:01:46\n",
            "\n",
            "======== Epoch 2 / 3 ========\n",
            "Training...\n",
            "  Batch    40  of  1,178.    Elapsed: 0:00:50.\n",
            "  Batch    80  of  1,178.    Elapsed: 0:01:41.\n",
            "  Batch   120  of  1,178.    Elapsed: 0:02:31.\n",
            "  Batch   160  of  1,178.    Elapsed: 0:03:21.\n",
            "  Batch   200  of  1,178.    Elapsed: 0:04:12.\n",
            "  Batch   240  of  1,178.    Elapsed: 0:05:02.\n",
            "  Batch   280  of  1,178.    Elapsed: 0:05:52.\n",
            "  Batch   320  of  1,178.    Elapsed: 0:06:43.\n",
            "  Batch   360  of  1,178.    Elapsed: 0:07:33.\n",
            "  Batch   400  of  1,178.    Elapsed: 0:08:23.\n",
            "  Batch   440  of  1,178.    Elapsed: 0:09:14.\n",
            "  Batch   480  of  1,178.    Elapsed: 0:10:04.\n",
            "  Batch   520  of  1,178.    Elapsed: 0:10:55.\n",
            "  Batch   560  of  1,178.    Elapsed: 0:11:45.\n",
            "  Batch   600  of  1,178.    Elapsed: 0:12:36.\n",
            "  Batch   640  of  1,178.    Elapsed: 0:13:26.\n",
            "  Batch   680  of  1,178.    Elapsed: 0:14:16.\n",
            "  Batch   720  of  1,178.    Elapsed: 0:15:07.\n",
            "  Batch   760  of  1,178.    Elapsed: 0:15:57.\n",
            "  Batch   800  of  1,178.    Elapsed: 0:16:47.\n",
            "  Batch   840  of  1,178.    Elapsed: 0:17:38.\n",
            "  Batch   880  of  1,178.    Elapsed: 0:18:28.\n",
            "  Batch   920  of  1,178.    Elapsed: 0:19:18.\n",
            "  Batch   960  of  1,178.    Elapsed: 0:20:09.\n",
            "  Batch 1,000  of  1,178.    Elapsed: 0:20:59.\n",
            "  Batch 1,040  of  1,178.    Elapsed: 0:21:50.\n",
            "  Batch 1,080  of  1,178.    Elapsed: 0:22:40.\n",
            "  Batch 1,120  of  1,178.    Elapsed: 0:23:30.\n",
            "  Batch 1,160  of  1,178.    Elapsed: 0:24:21.\n",
            "\n",
            "  Average training loss: 0.14\n",
            "  Training epcoh took: 0:24:43\n",
            "\n",
            "Running Validation...\n",
            "  Accuracy: 0.95\n",
            "  Validation Loss: 0.16\n",
            "  Validation took: 0:01:46\n",
            "\n",
            "======== Epoch 3 / 3 ========\n",
            "Training...\n",
            "  Batch    40  of  1,178.    Elapsed: 0:00:50.\n",
            "  Batch    80  of  1,178.    Elapsed: 0:01:41.\n",
            "  Batch   120  of  1,178.    Elapsed: 0:02:31.\n",
            "  Batch   160  of  1,178.    Elapsed: 0:03:21.\n",
            "  Batch   200  of  1,178.    Elapsed: 0:04:12.\n",
            "  Batch   240  of  1,178.    Elapsed: 0:05:02.\n",
            "  Batch   280  of  1,178.    Elapsed: 0:05:52.\n",
            "  Batch   320  of  1,178.    Elapsed: 0:06:43.\n",
            "  Batch   360  of  1,178.    Elapsed: 0:07:33.\n",
            "  Batch   400  of  1,178.    Elapsed: 0:08:24.\n",
            "  Batch   440  of  1,178.    Elapsed: 0:09:14.\n",
            "  Batch   480  of  1,178.    Elapsed: 0:10:05.\n",
            "  Batch   520  of  1,178.    Elapsed: 0:10:55.\n",
            "  Batch   560  of  1,178.    Elapsed: 0:11:45.\n",
            "  Batch   600  of  1,178.    Elapsed: 0:12:36.\n",
            "  Batch   640  of  1,178.    Elapsed: 0:13:26.\n",
            "  Batch   680  of  1,178.    Elapsed: 0:14:16.\n",
            "  Batch   720  of  1,178.    Elapsed: 0:15:07.\n",
            "  Batch   760  of  1,178.    Elapsed: 0:15:57.\n",
            "  Batch   800  of  1,178.    Elapsed: 0:16:48.\n",
            "  Batch   840  of  1,178.    Elapsed: 0:17:38.\n",
            "  Batch   880  of  1,178.    Elapsed: 0:18:28.\n",
            "  Batch   920  of  1,178.    Elapsed: 0:19:19.\n",
            "  Batch   960  of  1,178.    Elapsed: 0:20:09.\n",
            "  Batch 1,000  of  1,178.    Elapsed: 0:20:59.\n",
            "  Batch 1,040  of  1,178.    Elapsed: 0:21:50.\n",
            "  Batch 1,080  of  1,178.    Elapsed: 0:22:40.\n",
            "  Batch 1,120  of  1,178.    Elapsed: 0:23:31.\n",
            "  Batch 1,160  of  1,178.    Elapsed: 0:24:21.\n",
            "\n",
            "  Average training loss: 0.11\n",
            "  Training epcoh took: 0:24:43\n",
            "\n",
            "Running Validation...\n",
            "  Accuracy: 0.96\n",
            "  Validation Loss: 0.15\n",
            "  Validation took: 0:01:46\n",
            "\n",
            "Training complete!\n",
            "Total training took 1:19:24 (h:mm:ss)\n"
          ],
          "name": "stdout"
        }
      ]
    },
    {
      "cell_type": "markdown",
      "metadata": {
        "id": "vqDT_mFv_Z6D"
      },
      "source": [
        "## Test"
      ]
    },
    {
      "cell_type": "code",
      "metadata": {
        "colab": {
          "base_uri": "https://localhost:8080/"
        },
        "id": "PzchdYSYflEk",
        "outputId": "e11ab0d7-071a-4ef2-c57d-b4aa797323d5"
      },
      "source": [
        "predictions, true_labels = test_classifier(\n",
        "    model = model,\n",
        "    dataset = test_dataset,\n",
        "    batch_size = 32\n",
        ")"
      ],
      "execution_count": null,
      "outputs": [
        {
          "output_type": "stream",
          "text": [
            "There are 1 GPU(s) available.\n",
            "We will use the GPU: Tesla T4\n",
            "\n",
            "Running Prediction...\n",
            "DONE.\n"
          ],
          "name": "stdout"
        }
      ]
    },
    {
      "cell_type": "markdown",
      "metadata": {
        "id": "Sa2G8tqt-0m5"
      },
      "source": [
        "## Performance"
      ]
    },
    {
      "cell_type": "code",
      "metadata": {
        "colab": {
          "base_uri": "https://localhost:8080/"
        },
        "id": "gnZA-iFjKVcz",
        "outputId": "cf9fbf45-b818-4ddf-b528-4cfe032e2858"
      },
      "source": [
        "print_performance_metrics(predictions, true_labels)"
      ],
      "execution_count": null,
      "outputs": [
        {
          "output_type": "stream",
          "text": [
            "\n",
            "Confusion Matrix\n",
            "Rows - Actual\n",
            "Columns - Predicted\n",
            "\n",
            "    |      0     1     2     3     4     5 | \n",
            "---------------------------------------------------\n",
            "  0 |  74.31  0.33  0.94  0.59  0.08  0.07 |  76.32\n",
            "  1 |   0.44  1.76  0.07  0.18  0.00  0.02 |   2.46\n",
            "  2 |   0.20  0.01 11.80  0.07  0.04  0.00 |  12.11\n",
            "  3 |   0.14  0.24  0.07  6.71  0.02  0.05 |   7.22\n",
            "  4 |   0.07  0.01  0.07  0.03  0.94  0.00 |   1.11\n",
            "  5 |   0.19  0.04  0.02  0.27  0.00  0.26 |   0.77\n",
            "---------------------------------------------------\n",
            "    |  75.35  2.39 12.95  7.84  1.07  0.39 | \n",
            "\n",
            "Majority Class                     :  0.7632\n",
            "Accuracy                           :  0.9577\n",
            "\n"
          ],
          "name": "stdout"
        }
      ]
    },
    {
      "cell_type": "markdown",
      "metadata": {
        "id": "6sxFc2YnKxNu"
      },
      "source": [
        "**Saving model**"
      ]
    },
    {
      "cell_type": "code",
      "metadata": {
        "id": "X2-tX5WrK69X"
      },
      "source": [
        "save_model(\"drive/MyDrive/models/multiclass.pt\", model)"
      ],
      "execution_count": null,
      "outputs": []
    },
    {
      "cell_type": "markdown",
      "metadata": {
        "id": "7GNypsLqF2yZ"
      },
      "source": [
        "# Binary Slo classification"
      ]
    },
    {
      "cell_type": "markdown",
      "metadata": {
        "id": "IUal_lBGHIhg"
      },
      "source": [
        "## Setup"
      ]
    },
    {
      "cell_type": "code",
      "metadata": {
        "id": "NmO7fvWwJO1i"
      },
      "source": [
        "binary_data = pd.read_csv('drive/MyDrive/Data/Slo/Binary/data.csv')\n",
        "x,y = run_dataset_preparation(binary_data, \"slo\", remove_stopwords=False, do_lemmatization=True)"
      ],
      "execution_count": null,
      "outputs": []
    },
    {
      "cell_type": "markdown",
      "metadata": {
        "id": "yurU9gsidm_8"
      },
      "source": [
        "Text length distribution"
      ]
    },
    {
      "cell_type": "code",
      "metadata": {
        "id": "he9Sq-Oidik4"
      },
      "source": [
        "length_distribution = distribution_dataset([len(e) for e in list(x.values)])\n",
        "print(length_distribution)\n",
        "xv = list(length_distribution.keys())\n",
        "yv = list(length_distribution.values())\n",
        "plt.bar(xv, yv, color=\"tab:blue\")\n",
        "axes = plt.gca()\n",
        "axes.set_xlim([0,1000])"
      ],
      "execution_count": null,
      "outputs": []
    },
    {
      "cell_type": "code",
      "metadata": {
        "id": "EvqimCWXJpVx"
      },
      "source": [
        "model = setup_classifier(\n",
        "    model_name = \"drive/MyDrive/classifiers/bert/CroSloEngual\",\n",
        "    num_labels = 2\n",
        ")\n",
        "\n",
        "#model.load_state_dict(load_model(\"drive/MyDrive/models/binary_5_nostop_400.pt\"))\n",
        "\n",
        "model_state_dict, _, _, _ = load_checkpoint(\"drive/MyDrive/models/binary_checkpoint_e3_2021-04-23 22:05:44.962969.pt\")\n",
        "model.load_state_dict(model_state_dict)\n",
        "\n",
        "dataset = setup_data(\n",
        "    model_name = \"drive/MyDrive/classifiers/bert/CroSloEngual\",\n",
        "    x = x,\n",
        "    y = y,\n",
        "    do_lower_case = False,\n",
        "    max_length = 400\n",
        ")"
      ],
      "execution_count": null,
      "outputs": []
    },
    {
      "cell_type": "markdown",
      "metadata": {
        "id": "6Pps0-nKJebL"
      },
      "source": [
        "## Dataset class distribution"
      ]
    },
    {
      "cell_type": "code",
      "metadata": {
        "id": "0ONk_sMDJh8I"
      },
      "source": [
        "class_distribution = distribution_dataset([e[2].item() for e in list(dataset)])\n",
        "print(class_distribution)\n",
        "yv = list(class_distribution.keys())\n",
        "xv = list(class_distribution.values())\n",
        "plt.bar(yv, xv, color=\"tab:blue\")"
      ],
      "execution_count": null,
      "outputs": []
    },
    {
      "cell_type": "markdown",
      "metadata": {
        "id": "zU5-9XAJKd0e"
      },
      "source": [
        "## Test"
      ]
    },
    {
      "cell_type": "code",
      "metadata": {
        "id": "_A1FtiFjKhMW"
      },
      "source": [
        "predictions, true_labels = test_classifier(\n",
        "    model = model,\n",
        "    dataset = dataset,\n",
        "    batch_size = 32\n",
        ")"
      ],
      "execution_count": null,
      "outputs": []
    },
    {
      "cell_type": "markdown",
      "metadata": {
        "id": "YA6ec1eWKoP_"
      },
      "source": [
        "## Performance"
      ]
    },
    {
      "cell_type": "code",
      "metadata": {
        "id": "ka6vtupgKtDX"
      },
      "source": [
        "print_performance_metrics(predictions, true_labels)"
      ],
      "execution_count": null,
      "outputs": []
    },
    {
      "cell_type": "markdown",
      "metadata": {
        "id": "6OlFLGTlF-16"
      },
      "source": [
        "# Multiclass Slo classification"
      ]
    },
    {
      "cell_type": "markdown",
      "metadata": {
        "id": "wvOLyHovHLed"
      },
      "source": [
        "## Setup"
      ]
    },
    {
      "cell_type": "code",
      "metadata": {
        "id": "V56lHYT3LMw2"
      },
      "source": [
        "multiclass_data = pd.read_csv('drive/MyDrive/Data/Slo/Multiclass/data.csv')\n",
        "x,y = run_dataset_preparation(multiclass_data, \"slo\", remove_stopwords=False, do_lemmatization=False)"
      ],
      "execution_count": null,
      "outputs": []
    },
    {
      "cell_type": "markdown",
      "metadata": {
        "id": "6yw7iTOIdpDK"
      },
      "source": [
        "Text length distribution"
      ]
    },
    {
      "cell_type": "code",
      "metadata": {
        "id": "GC0yQjmfdruf"
      },
      "source": [
        "length_distribution = distribution_dataset([len(e) for e in list(x.values)])\n",
        "print(length_distribution)\n",
        "xv = list(length_distribution.keys())\n",
        "yv = list(length_distribution.values())\n",
        "plt.bar(xv, yv, color=\"tab:blue\")\n",
        "axes = plt.gca()\n",
        "axes.set_xlim([0,1000])"
      ],
      "execution_count": null,
      "outputs": []
    },
    {
      "cell_type": "code",
      "metadata": {
        "id": "-Vt4carMLfbQ"
      },
      "source": [
        "model = setup_classifier(\n",
        "    model_name = \"drive/MyDrive/classifiers/bert/CroSloEngual\",\n",
        "    num_labels = 6\n",
        ")\n",
        "\n",
        "#model.load_state_dict(load_model(\"drive/MyDrive/models/checkpoint_e2_2021-04-23 23:33:32.776693.pt\"))\n",
        "\n",
        "model_state_dict, _, _, _ = load_checkpoint(\"drive/MyDrive/models/checkpoint_e2_2021-04-23 23:33:32.776693.pt\")\n",
        "model.load_state_dict(model_state_dict)\n",
        "\n",
        "dataset = setup_data(\n",
        "    model_name = \"drive/MyDrive/classifiers/bert/CroSloEngual\",\n",
        "    x = x,\n",
        "    y = y,\n",
        "    do_lower_case = False,\n",
        "    max_length = 400\n",
        ")"
      ],
      "execution_count": null,
      "outputs": []
    },
    {
      "cell_type": "markdown",
      "metadata": {
        "id": "SW09iJBbLC23"
      },
      "source": [
        "## Dataset class distribution"
      ]
    },
    {
      "cell_type": "code",
      "metadata": {
        "id": "CocSmJk0LtCi"
      },
      "source": [
        "class_distribution = distribution_dataset([e[2].item() for e in list(dataset)])\n",
        "print(class_distribution)\n",
        "yv = list(class_distribution.keys())\n",
        "xv = list(class_distribution.values())\n",
        "plt.bar(yv, xv, color=\"tab:blue\")"
      ],
      "execution_count": null,
      "outputs": []
    },
    {
      "cell_type": "markdown",
      "metadata": {
        "id": "h8_g6yNTLE-U"
      },
      "source": [
        "## Test"
      ]
    },
    {
      "cell_type": "code",
      "metadata": {
        "id": "2KRbf7cFR19Q"
      },
      "source": [
        "predictions, true_labels = test_classifier(\n",
        "    model = model,\n",
        "    dataset = dataset,\n",
        "    batch_size = 32\n",
        ")"
      ],
      "execution_count": null,
      "outputs": []
    },
    {
      "cell_type": "markdown",
      "metadata": {
        "id": "1XiuvOciLHoR"
      },
      "source": [
        "## Performance"
      ]
    },
    {
      "cell_type": "code",
      "metadata": {
        "id": "B5eT-0fFR6o5"
      },
      "source": [
        "print_performance_metrics(predictions, true_labels)"
      ],
      "execution_count": null,
      "outputs": []
    }
  ]
}